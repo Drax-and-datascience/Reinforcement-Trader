{
  "cells": [
    {
      "cell_type": "markdown",
      "metadata": {
        "id": "view-in-github"
      },
      "source": [
        "<a href=\"https://colab.research.google.com/github/letianzj/QuantResearch/blob/master/ml/reinforcement_trader.ipynb\" target=\"_parent\"><img src=\"https://colab.research.google.com/assets/colab-badge.svg\" alt=\"Open In Colab\"/></a>"
      ]
    },
    {
      "cell_type": "markdown",
      "metadata": {
        "id": "escS5QYOGuOO"
      },
      "source": [
        "(Use Open in Colab button above to see trading videos)\n",
        "\n",
        "## Introduction\n",
        "\n",
        "From reinforcement gamer to reinforcement trader. Part II.\n",
        "\n",
        "For reinforcement gamer, Part I, check out [the previous notebook](https://github.com/letianzj/QuantResearch/blob/master/ml/atari_space_invaders.ipynb). This notebook shares a lot of resemblance to the previous one.\n",
        "\n",
        "As illustrated in the figure below, investing bears a clear resemblance to game playing. In fact, some good poke players, such as Edward Thorp, also stand out in the stock markets.\n",
        "\n",
        "\n",
        "![From Game Player to Stock Trader](https://files.gitbook.com/v0/b/gitbook-x-prod.appspot.com/o/spaces%2F-MSGPuOMqasmUECLHyXj%2Fuploads%2Fgit-blob-87626e4bd747bdb40439277c09abce3e5aeb822d%2Fch5_rl_stock_trading.PNG?alt=media)\n",
        "\n",
        "source: [Chapter Machine Learning](https://letianzj.gitbook.io/systematic-investing/products_and_methodologies/machine_learning)"
      ]
    },
    {
      "cell_type": "markdown",
      "metadata": {
        "id": "Q39719xvSNFh"
      },
      "source": [
        "Reinforcement learning has been applied to stock trading and portfolio management. Xiong, Zhuoran, et al (2018) explore the stock market and Zhang, et al (2020) trade the futures market. Nan, et al (2020) add news headline sentiments into the training. Spooner, Thomas, et al (2018) study the market makers who face inventory risk. Fischer, T. G. (2018) provides a survey of current reinforcement learning status in financial markets.\n",
        "\n",
        "This notebook focuses on the trading part. It trains a reinforcement trader to buy and sell stocks. The objective is to achieve higher end dollar profits. Of course, other risk adjusted objectives such as Sharpe ratio are also viable.\n",
        "\n",
        "The next notebook will focus on the portfolio management part, by training a reinforcement portfolio management to perform strategic allocation among stocks or asset classes."
      ]
    },
    {
      "cell_type": "markdown",
      "metadata": {
        "id": "DaRVWdDAxe4j"
      },
      "source": [
        "## Setup"
      ]
    },
    {
      "cell_type": "markdown",
      "metadata": {
        "id": "FuQbinnVg0ts"
      },
      "source": [
        "Uncomment to execute once"
      ]
    },
    {
      "cell_type": "code",
      "execution_count": 8,
      "metadata": {
        "id": "_ZBIKqpQGwDo",
        "colab": {
          "base_uri": "https://localhost:8080/"
        },
        "outputId": "e0e5ca92-b3df-4897-f85c-ed8a66873455"
      },
      "outputs": [
        {
          "output_type": "stream",
          "name": "stdout",
          "text": [
            "Requirement already satisfied: quanttrader in /usr/local/lib/python3.10/dist-packages (0.5.5)\n",
            "Requirement already satisfied: matplotlib>=3.0.3 in /usr/local/lib/python3.10/dist-packages (from quanttrader) (3.7.1)\n",
            "Requirement already satisfied: numpy>=1.18.0 in /usr/local/lib/python3.10/dist-packages (from quanttrader) (1.23.5)\n",
            "Requirement already satisfied: pandas>=1.0.5 in /usr/local/lib/python3.10/dist-packages (from quanttrader) (1.5.3)\n",
            "Requirement already satisfied: psutil>=5.7.0 in /usr/local/lib/python3.10/dist-packages (from quanttrader) (5.9.5)\n",
            "Requirement already satisfied: pytz>=2018.9 in /usr/local/lib/python3.10/dist-packages (from quanttrader) (2023.3.post1)\n",
            "Requirement already satisfied: scipy>=1.4.1 in /usr/local/lib/python3.10/dist-packages (from quanttrader) (1.11.3)\n",
            "Requirement already satisfied: scikit-learn>=0.22.1 in /usr/local/lib/python3.10/dist-packages (from quanttrader) (1.2.2)\n",
            "Requirement already satisfied: seaborn>=0.10.1 in /usr/local/lib/python3.10/dist-packages (from quanttrader) (0.12.2)\n",
            "Requirement already satisfied: pytest>=3.6.4 in /usr/local/lib/python3.10/dist-packages (from quanttrader) (7.4.3)\n",
            "Requirement already satisfied: PyQt5>=5.10.1 in /usr/local/lib/python3.10/dist-packages (from quanttrader) (5.15.10)\n",
            "Requirement already satisfied: QDarkStyle>=2.8 in /usr/local/lib/python3.10/dist-packages (from quanttrader) (3.2)\n",
            "Requirement already satisfied: PyYAML>=5.3.1 in /usr/local/lib/python3.10/dist-packages (from quanttrader) (6.0.1)\n",
            "Requirement already satisfied: ibapi>=9.76.1 in /usr/local/lib/python3.10/dist-packages (from quanttrader) (9.81.1.post1)\n",
            "Requirement already satisfied: gym>=0.21.0 in /usr/local/lib/python3.10/dist-packages (from quanttrader) (0.25.2)\n",
            "Requirement already satisfied: cloudpickle>=1.2.0 in /usr/local/lib/python3.10/dist-packages (from gym>=0.21.0->quanttrader) (2.2.1)\n",
            "Requirement already satisfied: gym-notices>=0.0.4 in /usr/local/lib/python3.10/dist-packages (from gym>=0.21.0->quanttrader) (0.0.8)\n",
            "Requirement already satisfied: contourpy>=1.0.1 in /usr/local/lib/python3.10/dist-packages (from matplotlib>=3.0.3->quanttrader) (1.1.1)\n",
            "Requirement already satisfied: cycler>=0.10 in /usr/local/lib/python3.10/dist-packages (from matplotlib>=3.0.3->quanttrader) (0.12.1)\n",
            "Requirement already satisfied: fonttools>=4.22.0 in /usr/local/lib/python3.10/dist-packages (from matplotlib>=3.0.3->quanttrader) (4.43.1)\n",
            "Requirement already satisfied: kiwisolver>=1.0.1 in /usr/local/lib/python3.10/dist-packages (from matplotlib>=3.0.3->quanttrader) (1.4.5)\n",
            "Requirement already satisfied: packaging>=20.0 in /usr/local/lib/python3.10/dist-packages (from matplotlib>=3.0.3->quanttrader) (23.2)\n",
            "Requirement already satisfied: pillow>=6.2.0 in /usr/local/lib/python3.10/dist-packages (from matplotlib>=3.0.3->quanttrader) (9.4.0)\n",
            "Requirement already satisfied: pyparsing>=2.3.1 in /usr/local/lib/python3.10/dist-packages (from matplotlib>=3.0.3->quanttrader) (3.1.1)\n",
            "Requirement already satisfied: python-dateutil>=2.7 in /usr/local/lib/python3.10/dist-packages (from matplotlib>=3.0.3->quanttrader) (2.8.2)\n",
            "Requirement already satisfied: PyQt5-sip<13,>=12.13 in /usr/local/lib/python3.10/dist-packages (from PyQt5>=5.10.1->quanttrader) (12.13.0)\n",
            "Requirement already satisfied: PyQt5-Qt5>=5.15.2 in /usr/local/lib/python3.10/dist-packages (from PyQt5>=5.10.1->quanttrader) (5.15.2)\n",
            "Requirement already satisfied: iniconfig in /usr/local/lib/python3.10/dist-packages (from pytest>=3.6.4->quanttrader) (2.0.0)\n",
            "Requirement already satisfied: pluggy<2.0,>=0.12 in /usr/local/lib/python3.10/dist-packages (from pytest>=3.6.4->quanttrader) (1.3.0)\n",
            "Requirement already satisfied: exceptiongroup>=1.0.0rc8 in /usr/local/lib/python3.10/dist-packages (from pytest>=3.6.4->quanttrader) (1.1.3)\n",
            "Requirement already satisfied: tomli>=1.0.0 in /usr/local/lib/python3.10/dist-packages (from pytest>=3.6.4->quanttrader) (2.0.1)\n",
            "Requirement already satisfied: qtpy>=2 in /usr/local/lib/python3.10/dist-packages (from QDarkStyle>=2.8->quanttrader) (2.4.1)\n",
            "Requirement already satisfied: joblib>=1.1.1 in /usr/local/lib/python3.10/dist-packages (from scikit-learn>=0.22.1->quanttrader) (1.3.2)\n",
            "Requirement already satisfied: threadpoolctl>=2.0.0 in /usr/local/lib/python3.10/dist-packages (from scikit-learn>=0.22.1->quanttrader) (3.2.0)\n",
            "Requirement already satisfied: six>=1.5 in /usr/local/lib/python3.10/dist-packages (from python-dateutil>=2.7->matplotlib>=3.0.3->quanttrader) (1.16.0)\n",
            "Collecting pyfolio\n",
            "  Downloading pyfolio-0.9.2.tar.gz (91 kB)\n",
            "\u001b[2K     \u001b[90m━━━━━━━━━━━━━━━━━━━━━━━━━━━━━━━━━━━━━━━━\u001b[0m \u001b[32m91.1/91.1 kB\u001b[0m \u001b[31m3.6 MB/s\u001b[0m eta \u001b[36m0:00:00\u001b[0m\n",
            "\u001b[?25h  Preparing metadata (setup.py) ... \u001b[?25l\u001b[?25hdone\n",
            "Requirement already satisfied: ipython>=3.2.3 in /usr/local/lib/python3.10/dist-packages (from pyfolio) (7.34.0)\n",
            "Requirement already satisfied: matplotlib>=1.4.0 in /usr/local/lib/python3.10/dist-packages (from pyfolio) (3.7.1)\n",
            "Requirement already satisfied: numpy>=1.11.1 in /usr/local/lib/python3.10/dist-packages (from pyfolio) (1.23.5)\n",
            "Requirement already satisfied: pandas>=0.18.1 in /usr/local/lib/python3.10/dist-packages (from pyfolio) (1.5.3)\n",
            "Requirement already satisfied: pytz>=2014.10 in /usr/local/lib/python3.10/dist-packages (from pyfolio) (2023.3.post1)\n",
            "Requirement already satisfied: scipy>=0.14.0 in /usr/local/lib/python3.10/dist-packages (from pyfolio) (1.11.3)\n",
            "Requirement already satisfied: scikit-learn>=0.16.1 in /usr/local/lib/python3.10/dist-packages (from pyfolio) (1.2.2)\n",
            "Requirement already satisfied: seaborn>=0.7.1 in /usr/local/lib/python3.10/dist-packages (from pyfolio) (0.12.2)\n",
            "Collecting empyrical>=0.5.0 (from pyfolio)\n",
            "  Downloading empyrical-0.5.5.tar.gz (52 kB)\n",
            "\u001b[2K     \u001b[90m━━━━━━━━━━━━━━━━━━━━━━━━━━━━━━━━━━━━━━━━\u001b[0m \u001b[32m52.8/52.8 kB\u001b[0m \u001b[31m6.4 MB/s\u001b[0m eta \u001b[36m0:00:00\u001b[0m\n",
            "\u001b[?25h  Preparing metadata (setup.py) ... \u001b[?25l\u001b[?25hdone\n",
            "Requirement already satisfied: pandas-datareader>=0.2 in /usr/local/lib/python3.10/dist-packages (from empyrical>=0.5.0->pyfolio) (0.10.0)\n",
            "Requirement already satisfied: setuptools>=18.5 in /usr/local/lib/python3.10/dist-packages (from ipython>=3.2.3->pyfolio) (67.7.2)\n",
            "Collecting jedi>=0.16 (from ipython>=3.2.3->pyfolio)\n",
            "  Downloading jedi-0.19.1-py2.py3-none-any.whl (1.6 MB)\n",
            "\u001b[2K     \u001b[90m━━━━━━━━━━━━━━━━━━━━━━━━━━━━━━━━━━━━━━━━\u001b[0m \u001b[32m1.6/1.6 MB\u001b[0m \u001b[31m10.4 MB/s\u001b[0m eta \u001b[36m0:00:00\u001b[0m\n",
            "\u001b[?25hRequirement already satisfied: decorator in /usr/local/lib/python3.10/dist-packages (from ipython>=3.2.3->pyfolio) (4.4.2)\n",
            "Requirement already satisfied: pickleshare in /usr/local/lib/python3.10/dist-packages (from ipython>=3.2.3->pyfolio) (0.7.5)\n",
            "Requirement already satisfied: traitlets>=4.2 in /usr/local/lib/python3.10/dist-packages (from ipython>=3.2.3->pyfolio) (5.7.1)\n",
            "Requirement already satisfied: prompt-toolkit!=3.0.0,!=3.0.1,<3.1.0,>=2.0.0 in /usr/local/lib/python3.10/dist-packages (from ipython>=3.2.3->pyfolio) (3.0.39)\n",
            "Requirement already satisfied: pygments in /usr/local/lib/python3.10/dist-packages (from ipython>=3.2.3->pyfolio) (2.16.1)\n",
            "Requirement already satisfied: backcall in /usr/local/lib/python3.10/dist-packages (from ipython>=3.2.3->pyfolio) (0.2.0)\n",
            "Requirement already satisfied: matplotlib-inline in /usr/local/lib/python3.10/dist-packages (from ipython>=3.2.3->pyfolio) (0.1.6)\n",
            "Requirement already satisfied: pexpect>4.3 in /usr/local/lib/python3.10/dist-packages (from ipython>=3.2.3->pyfolio) (4.8.0)\n",
            "Requirement already satisfied: contourpy>=1.0.1 in /usr/local/lib/python3.10/dist-packages (from matplotlib>=1.4.0->pyfolio) (1.1.1)\n",
            "Requirement already satisfied: cycler>=0.10 in /usr/local/lib/python3.10/dist-packages (from matplotlib>=1.4.0->pyfolio) (0.12.1)\n",
            "Requirement already satisfied: fonttools>=4.22.0 in /usr/local/lib/python3.10/dist-packages (from matplotlib>=1.4.0->pyfolio) (4.43.1)\n",
            "Requirement already satisfied: kiwisolver>=1.0.1 in /usr/local/lib/python3.10/dist-packages (from matplotlib>=1.4.0->pyfolio) (1.4.5)\n",
            "Requirement already satisfied: packaging>=20.0 in /usr/local/lib/python3.10/dist-packages (from matplotlib>=1.4.0->pyfolio) (23.2)\n",
            "Requirement already satisfied: pillow>=6.2.0 in /usr/local/lib/python3.10/dist-packages (from matplotlib>=1.4.0->pyfolio) (9.4.0)\n",
            "Requirement already satisfied: pyparsing>=2.3.1 in /usr/local/lib/python3.10/dist-packages (from matplotlib>=1.4.0->pyfolio) (3.1.1)\n",
            "Requirement already satisfied: python-dateutil>=2.7 in /usr/local/lib/python3.10/dist-packages (from matplotlib>=1.4.0->pyfolio) (2.8.2)\n",
            "Requirement already satisfied: joblib>=1.1.1 in /usr/local/lib/python3.10/dist-packages (from scikit-learn>=0.16.1->pyfolio) (1.3.2)\n",
            "Requirement already satisfied: threadpoolctl>=2.0.0 in /usr/local/lib/python3.10/dist-packages (from scikit-learn>=0.16.1->pyfolio) (3.2.0)\n",
            "Requirement already satisfied: parso<0.9.0,>=0.8.3 in /usr/local/lib/python3.10/dist-packages (from jedi>=0.16->ipython>=3.2.3->pyfolio) (0.8.3)\n",
            "Requirement already satisfied: lxml in /usr/local/lib/python3.10/dist-packages (from pandas-datareader>=0.2->empyrical>=0.5.0->pyfolio) (4.9.3)\n",
            "Requirement already satisfied: requests>=2.19.0 in /usr/local/lib/python3.10/dist-packages (from pandas-datareader>=0.2->empyrical>=0.5.0->pyfolio) (2.31.0)\n",
            "Requirement already satisfied: ptyprocess>=0.5 in /usr/local/lib/python3.10/dist-packages (from pexpect>4.3->ipython>=3.2.3->pyfolio) (0.7.0)\n",
            "Requirement already satisfied: wcwidth in /usr/local/lib/python3.10/dist-packages (from prompt-toolkit!=3.0.0,!=3.0.1,<3.1.0,>=2.0.0->ipython>=3.2.3->pyfolio) (0.2.8)\n",
            "Requirement already satisfied: six>=1.5 in /usr/local/lib/python3.10/dist-packages (from python-dateutil>=2.7->matplotlib>=1.4.0->pyfolio) (1.16.0)\n",
            "Requirement already satisfied: charset-normalizer<4,>=2 in /usr/local/lib/python3.10/dist-packages (from requests>=2.19.0->pandas-datareader>=0.2->empyrical>=0.5.0->pyfolio) (3.3.1)\n",
            "Requirement already satisfied: idna<4,>=2.5 in /usr/local/lib/python3.10/dist-packages (from requests>=2.19.0->pandas-datareader>=0.2->empyrical>=0.5.0->pyfolio) (3.4)\n",
            "Requirement already satisfied: urllib3<3,>=1.21.1 in /usr/local/lib/python3.10/dist-packages (from requests>=2.19.0->pandas-datareader>=0.2->empyrical>=0.5.0->pyfolio) (2.0.7)\n",
            "Requirement already satisfied: certifi>=2017.4.17 in /usr/local/lib/python3.10/dist-packages (from requests>=2.19.0->pandas-datareader>=0.2->empyrical>=0.5.0->pyfolio) (2023.7.22)\n",
            "Building wheels for collected packages: pyfolio, empyrical\n",
            "  Building wheel for pyfolio (setup.py) ... \u001b[?25l\u001b[?25hdone\n",
            "  Created wheel for pyfolio: filename=pyfolio-0.9.2-py3-none-any.whl size=88649 sha256=48f81e616f3ff319493cc6651a87d423506b03f4a2831558c3fde75053ed6580\n",
            "  Stored in directory: /root/.cache/pip/wheels/71/38/bc/e53700cfd8b0ad6b539d2fbaaf060ed8a299e7622a5b86ef42\n",
            "  Building wheel for empyrical (setup.py) ... \u001b[?25l\u001b[?25hdone\n",
            "  Created wheel for empyrical: filename=empyrical-0.5.5-py3-none-any.whl size=39755 sha256=a9dcf063b2a8fc2dee6494176dad7a32593fcbf94271a36a9cd8f62f7816209b\n",
            "  Stored in directory: /root/.cache/pip/wheels/0e/2e/f2/d6d2d9a1eb8fbbd9949bb5d4c00f753e3b74e5bd7ed10b1d36\n",
            "Successfully built pyfolio empyrical\n",
            "Installing collected packages: jedi, empyrical, pyfolio\n",
            "Successfully installed empyrical-0.5.5 jedi-0.19.1 pyfolio-0.9.2\n"
          ]
        }
      ],
      "source": [
        "# !sudo apt-get update\n",
        "# !pip install yfinance\n",
        "# !pip install ta\n",
        "# !pip install -U gym==0.21.0\n",
        "# !pip install -U quanttrader==0.5.5\n",
        "# !pip install -U pyfolio==0.9.2\n",
        "\n",
        "# !sudo apt-get install -y xvfb ffmpeg freeglut3-dev\n",
        "# !pip install 'imageio==2.4.0'\n",
        "# !pip install pyvirtualdisplay\n",
        "# !pip install tf-agents[reverb]\n",
        "# !pip install pyglet\n",
        "#!pip install -U PyYaml==3.13\n",
        "!pip install quanttrader\n",
        "!pip install pyfolio"
      ]
    },
    {
      "cell_type": "markdown",
      "metadata": {
        "id": "VfL0ASnxg4Ir"
      },
      "source": [
        "Restart the runtime to take PyYaml==3.13 into effect. Otherwise pyfolio will complain on yaml.load error.\n",
        "\n",
        "Code below might needs to run twice."
      ]
    },
    {
      "cell_type": "code",
      "execution_count": 15,
      "metadata": {
        "id": "ER_W-4TKMo4k",
        "colab": {
          "base_uri": "https://localhost:8080/"
        },
        "outputId": "937e0b80-c6a0-4e7c-a277-8de384852e88"
      },
      "outputs": [
        {
          "output_type": "stream",
          "name": "stdout",
          "text": [
            "Requirement already satisfied: tf-agents in /usr/local/lib/python3.10/dist-packages (0.18.0)\n",
            "Requirement already satisfied: absl-py>=0.6.1 in /usr/local/lib/python3.10/dist-packages (from tf-agents) (1.4.0)\n",
            "Requirement already satisfied: cloudpickle>=1.3 in /usr/local/lib/python3.10/dist-packages (from tf-agents) (2.2.1)\n",
            "Requirement already satisfied: gin-config>=0.4.0 in /usr/local/lib/python3.10/dist-packages (from tf-agents) (0.5.0)\n",
            "Requirement already satisfied: gym<=0.23.0,>=0.17.0 in /usr/local/lib/python3.10/dist-packages (from tf-agents) (0.23.0)\n",
            "Requirement already satisfied: numpy>=1.19.0 in /usr/local/lib/python3.10/dist-packages (from tf-agents) (1.23.5)\n",
            "Requirement already satisfied: pillow in /usr/local/lib/python3.10/dist-packages (from tf-agents) (9.4.0)\n",
            "Requirement already satisfied: six>=1.10.0 in /usr/local/lib/python3.10/dist-packages (from tf-agents) (1.16.0)\n",
            "Requirement already satisfied: protobuf>=3.11.3 in /usr/local/lib/python3.10/dist-packages (from tf-agents) (3.20.3)\n",
            "Requirement already satisfied: wrapt>=1.11.1 in /usr/local/lib/python3.10/dist-packages (from tf-agents) (1.14.1)\n",
            "Requirement already satisfied: typing-extensions>=3.7.4.3 in /usr/local/lib/python3.10/dist-packages (from tf-agents) (4.5.0)\n",
            "Requirement already satisfied: pygame==2.1.3 in /usr/local/lib/python3.10/dist-packages (from tf-agents) (2.1.3)\n",
            "Requirement already satisfied: tensorflow-probability~=0.22.0 in /usr/local/lib/python3.10/dist-packages (from tf-agents) (0.22.0)\n",
            "Requirement already satisfied: gym-notices>=0.0.4 in /usr/local/lib/python3.10/dist-packages (from gym<=0.23.0,>=0.17.0->tf-agents) (0.0.8)\n",
            "Requirement already satisfied: decorator in /usr/local/lib/python3.10/dist-packages (from tensorflow-probability~=0.22.0->tf-agents) (4.4.2)\n",
            "Requirement already satisfied: gast>=0.3.2 in /usr/local/lib/python3.10/dist-packages (from tensorflow-probability~=0.22.0->tf-agents) (0.5.4)\n",
            "Requirement already satisfied: dm-tree in /usr/local/lib/python3.10/dist-packages (from tensorflow-probability~=0.22.0->tf-agents) (0.1.8)\n",
            "Requirement already satisfied: pyvirtualdisplay in /usr/local/lib/python3.10/dist-packages (3.0)\n"
          ]
        }
      ],
      "source": [
        "!pip install tf-agents\n",
        "!pip install pyvirtualdisplay\n",
        "\n",
        "import os\n",
        "import io\n",
        "import tempfile\n",
        "import shutil\n",
        "import zipfile\n",
        "from google.colab import files\n",
        "\n",
        "from datetime import datetime\n",
        "import matplotlib.pyplot as plt\n",
        "import numpy as np\n",
        "import pandas as pd\n",
        "import yfinance as yf\n",
        "import gym\n",
        "import quanttrader as qt\n",
        "from quanttrader import TradingEnv\n",
        "import pyfolio as pf\n",
        "\n",
        "import tensorflow as tf\n",
        "from tf_agents.agents.dqn import dqn_agent\n",
        "from tf_agents.drivers import py_driver\n",
        "from tf_agents.drivers.dynamic_step_driver import DynamicStepDriver\n",
        "from tf_agents.environments import tf_py_environment\n",
        "from tf_agents.environments import suite_gym\n",
        "from tf_agents.eval import metric_utils\n",
        "from tf_agents.metrics import tf_metrics\n",
        "from tf_agents.networks import sequential, q_network, network\n",
        "from tf_agents.policies import py_tf_eager_policy\n",
        "from tf_agents.policies import random_tf_policy\n",
        "from tf_agents.policies import policy_saver\n",
        "from tf_agents.replay_buffers import TFUniformReplayBuffer\n",
        "from tf_agents.trajectories import trajectory\n",
        "from tf_agents.specs import tensor_spec\n",
        "from tf_agents.utils import common\n",
        "\n",
        "import base64\n",
        "import imageio\n",
        "import IPython\n",
        "import matplotlib\n",
        "import matplotlib.pyplot as plt\n",
        "import numpy as np\n",
        "import PIL.Image\n",
        "import pyvirtualdisplay\n"
      ]
    },
    {
      "cell_type": "code",
      "execution_count": 16,
      "metadata": {
        "colab": {
          "base_uri": "https://localhost:8080/"
        },
        "id": "sT2DoLgqTK-U",
        "outputId": "5fcaaf26-1049-468b-d687-4234d3016a56"
      },
      "outputs": [
        {
          "output_type": "execute_result",
          "data": {
            "text/plain": [
              "('0.25.2', '0.5.5', '0.9.2')"
            ]
          },
          "metadata": {},
          "execution_count": 16
        }
      ],
      "source": [
        "gym.__version__, qt.__version__, pf.__version__"
      ]
    },
    {
      "cell_type": "code",
      "execution_count": 28,
      "metadata": {
        "id": "5fSV1DwxRVeK",
        "colab": {
          "base_uri": "https://localhost:8080/"
        },
        "outputId": "6bc2650f-22f0-474b-ed26-c1879619d177"
      },
      "outputs": [
        {
          "output_type": "stream",
          "name": "stderr",
          "text": [
            "/usr/local/lib/python3.10/dist-packages/ipykernel/ipkernel.py:283: DeprecationWarning: `should_run_async` will not call `transform_cell` automatically in the future. Please pass the result to `transformed_cell` argument and any exception that happen during thetransform in `preprocessing_exc_tuple` in IPython 7.17 and above.\n",
            "  and should_run_async(code)\n"
          ]
        },
        {
          "output_type": "stream",
          "name": "stdout",
          "text": [
            "  % Total    % Received % Xferd  Average Speed   Time    Time     Time  Current\n",
            "                                 Dload  Upload   Total   Spent    Left  Speed\n",
            "\r  0     0    0     0    0     0      0      0 --:--:-- --:--:-- --:--:--     0\r100   380  100   380    0     0   6593      0 --:--:-- --:--:-- --:--:--  6666\n",
            "100   355  100   355    0     0   3578      0 --:--:-- --:--:-- --:--:--  3578\n",
            "100 1299k  100 1299k    0     0  1788k      0 --:--:-- --:--:-- --:--:-- 1788k\n",
            "ta-lib/\n",
            "ta-lib/config.sub\n",
            "ta-lib/aclocal.m4\n",
            "ta-lib/CHANGELOG.TXT\n",
            "ta-lib/include/\n",
            "ta-lib/include/ta_abstract.h\n",
            "ta-lib/include/ta_func.h\n",
            "ta-lib/include/ta_common.h\n",
            "ta-lib/include/ta_config.h.in\n",
            "ta-lib/include/Makefile.am\n",
            "ta-lib/include/ta_libc.h\n",
            "ta-lib/include/ta_defs.h\n",
            "ta-lib/missing\n",
            "ta-lib/ta-lib.spec.in\n",
            "ta-lib/config.guess\n",
            "ta-lib/Makefile.in\n",
            "ta-lib/ta-lib.dpkg.in\n",
            "ta-lib/Makefile.am\n",
            "ta-lib/autogen.sh\n",
            "ta-lib/install-sh\n",
            "ta-lib/configure\n",
            "ta-lib/depcomp\n",
            "ta-lib/HISTORY.TXT\n",
            "ta-lib/configure.in\n",
            "ta-lib/autom4te.cache/\n",
            "ta-lib/autom4te.cache/output.0\n",
            "ta-lib/autom4te.cache/requests\n",
            "ta-lib/autom4te.cache/output.1\n",
            "ta-lib/autom4te.cache/traces.0\n",
            "ta-lib/autom4te.cache/traces.1\n",
            "ta-lib/ltmain.sh\n",
            "ta-lib/ta-lib-config.in\n",
            "ta-lib/src/\n",
            "ta-lib/src/ta_func/\n",
            "ta-lib/src/ta_func/ta_MACDFIX.c\n",
            "ta-lib/src/ta_func/ta_CDLPIERCING.c\n",
            "ta-lib/src/ta_func/ta_DIV.c\n",
            "ta-lib/src/ta_func/ta_ROCR100.c\n",
            "ta-lib/src/ta_func/ta_ADXR.c\n",
            "ta-lib/src/ta_func/ta_MAVP.c\n",
            "ta-lib/src/ta_func/ta_CDLCLOSINGMARUBOZU.c\n",
            "ta-lib/src/ta_func/ta_COSH.c\n",
            "ta-lib/src/ta_func/ta_EXP.c\n",
            "ta-lib/src/ta_func/ta_MINMAXINDEX.c\n",
            "ta-lib/src/ta_func/ta_SQRT.c\n",
            "ta-lib/src/ta_func/ta_FLOOR.c\n",
            "ta-lib/src/ta_func/ta_CDLCONCEALBABYSWALL.c\n",
            "ta-lib/src/ta_func/ta_NATR.c\n",
            "ta-lib/src/ta_func/ta_CDLHARAMICROSS.c\n",
            "ta-lib/src/ta_func/ta_MINUS_DM.c\n",
            "ta-lib/src/ta_func/ta_LOG10.c\n",
            "ta-lib/src/ta_func/ta_LINEARREG_ANGLE.c\n",
            "ta-lib/src/ta_func/ta_RSI.c\n",
            "ta-lib/src/ta_func/ta_CDLABANDONEDBABY.c\n",
            "ta-lib/src/ta_func/ta_SAR.c\n",
            "ta-lib/src/ta_func/ta_CDLBREAKAWAY.c\n",
            "ta-lib/src/ta_func/ta_CDLDRAGONFLYDOJI.c\n",
            "ta-lib/src/ta_func/ta_CDLHIGHWAVE.c\n",
            "ta-lib/src/ta_func/ta_CDLKICKING.c\n",
            "ta-lib/src/ta_func/ta_CDLDOJISTAR.c\n",
            "ta-lib/src/ta_func/ta_VAR.c\n",
            "ta-lib/src/ta_func/ta_CDLMATCHINGLOW.c\n",
            "ta-lib/src/ta_func/ta_CDLGAPSIDESIDEWHITE.c\n",
            "ta-lib/src/ta_func/ta_CDLMARUBOZU.c\n",
            "ta-lib/src/ta_func/ta_AROONOSC.c\n",
            "ta-lib/src/ta_func/ta_WCLPRICE.c\n",
            "ta-lib/src/ta_func/ta_CDLEVENINGDOJISTAR.c\n",
            "ta-lib/src/ta_func/ta_CDL3INSIDE.c\n",
            "ta-lib/src/ta_func/ta_OBV.c\n",
            "ta-lib/src/ta_func/ta_AROON.c\n",
            "ta-lib/src/ta_func/ta_CDLBELTHOLD.c\n",
            "ta-lib/src/ta_func/ta_CDLSPINNINGTOP.c\n",
            "ta-lib/src/ta_func/ta_AD.c\n",
            "ta-lib/src/ta_func/ta_MAX.c\n",
            "ta-lib/src/ta_func/ta_CDLENGULFING.c\n",
            "ta-lib/src/ta_func/ta_MINMAX.c\n",
            "ta-lib/src/ta_func/ta_CDLINNECK.c\n",
            "ta-lib/src/ta_func/ta_STDDEV.c\n",
            "ta-lib/src/ta_func/ta_NVI.c\n",
            "ta-lib/src/ta_func/ta_CDLHAMMER.c\n",
            "ta-lib/src/ta_func/ta_ASIN.c\n",
            "ta-lib/src/ta_func/ta_SUM.c\n",
            "ta-lib/src/ta_func/ta_STOCH.c\n",
            "ta-lib/src/ta_func/ta_CDLLONGLEGGEDDOJI.c\n",
            "ta-lib/src/ta_func/ta_MEDPRICE.c\n",
            "ta-lib/src/ta_func/ta_CDL3STARSINSOUTH.c\n",
            "ta-lib/src/ta_func/ta_HT_TRENDMODE.c\n",
            "ta-lib/src/ta_func/ta_BBANDS.c\n",
            "ta-lib/src/ta_func/ta_CDLMORNINGSTAR.c\n",
            "ta-lib/src/ta_func/ta_HT_DCPHASE.c\n",
            "ta-lib/src/ta_func/ta_CDLLONGLINE.c\n",
            "ta-lib/src/ta_func/ta_TAN.c\n",
            "ta-lib/src/ta_func/ta_SMA.c\n",
            "ta-lib/src/ta_func/ta_DX.c\n",
            "ta-lib/src/ta_func/ta_MIDPOINT.c\n",
            "ta-lib/src/ta_func/ta_CDL2CROWS.c\n",
            "ta-lib/src/ta_func/ta_CORREL.c\n",
            "ta-lib/src/ta_func/ta_CDL3BLACKCROWS.c\n",
            "ta-lib/src/ta_func/ta_ADD.c\n",
            "ta-lib/src/ta_func/Makefile.in\n",
            "ta-lib/src/ta_func/ta_CDLTHRUSTING.c\n",
            "ta-lib/src/ta_func/ta_SUB.c\n",
            "ta-lib/src/ta_func/ta_CDLSTALLEDPATTERN.c\n",
            "ta-lib/src/ta_func/ta_CDLTRISTAR.c\n",
            "ta-lib/src/ta_func/ta_MA.c\n",
            "ta-lib/src/ta_func/ta_HT_SINE.c\n",
            "ta-lib/src/ta_func/ta_ACOS.c\n",
            "ta-lib/src/ta_func/ta_CDLSTICKSANDWICH.c\n",
            "ta-lib/src/ta_func/ta_SINH.c\n",
            "ta-lib/src/ta_func/ta_utility.h\n",
            "ta-lib/src/ta_func/ta_CDLSHORTLINE.c\n",
            "ta-lib/src/ta_func/ta_ATAN.c\n",
            "ta-lib/src/ta_func/ta_CDLADVANCEBLOCK.c\n",
            "ta-lib/src/ta_func/ta_CDLKICKINGBYLENGTH.c\n",
            "ta-lib/src/ta_func/ta_CDLSHOOTINGSTAR.c\n",
            "ta-lib/src/ta_func/ta_ROCR.c\n",
            "ta-lib/src/ta_func/ta_WMA.c\n",
            "ta-lib/src/ta_func/ta_CDLDARKCLOUDCOVER.c\n",
            "ta-lib/src/ta_func/ta_CDLXSIDEGAP3METHODS.c\n",
            "ta-lib/src/ta_func/ta_TYPPRICE.c\n",
            "ta-lib/src/ta_func/ta_CDL3WHITESOLDIERS.c\n",
            "ta-lib/src/ta_func/Makefile.am\n",
            "ta-lib/src/ta_func/ta_MACDEXT.c\n",
            "ta-lib/src/ta_func/ta_ADX.c\n",
            "ta-lib/src/ta_func/ta_PLUS_DM.c\n",
            "ta-lib/src/ta_func/ta_CDLUPSIDEGAP2CROWS.c\n",
            "ta-lib/src/ta_func/ta_LN.c\n",
            "ta-lib/src/ta_func/ta_DEMA.c\n",
            "ta-lib/src/ta_func/ta_CDL3OUTSIDE.c\n",
            "ta-lib/src/ta_func/ta_CDLTASUKIGAP.c\n",
            "ta-lib/src/ta_func/ta_MAMA.c\n",
            "ta-lib/src/ta_func/ta_CDLMORNINGDOJISTAR.c\n",
            "ta-lib/src/ta_func/ta_PLUS_DI.c\n",
            "ta-lib/src/ta_func/ta_MININDEX.c\n",
            "ta-lib/src/ta_func/ta_COS.c\n",
            "ta-lib/src/ta_func/ta_HT_TRENDLINE.c\n",
            "ta-lib/src/ta_func/ta_MIDPRICE.c\n",
            "ta-lib/src/ta_func/ta_CEIL.c\n",
            "ta-lib/src/ta_func/ta_TRIMA.c\n",
            "ta-lib/src/ta_func/ta_CDLSEPARATINGLINES.c\n",
            "ta-lib/src/ta_func/ta_ROCP.c\n",
            "ta-lib/src/ta_func/ta_CDLHOMINGPIGEON.c\n",
            "ta-lib/src/ta_func/ta_CDLHANGINGMAN.c\n",
            "ta-lib/src/ta_func/ta_AVGPRICE.c\n",
            "ta-lib/src/ta_func/ta_APO.c\n",
            "ta-lib/src/ta_func/ta_CDLRISEFALL3METHODS.c\n",
            "ta-lib/src/ta_func/ta_TRANGE.c\n",
            "ta-lib/src/ta_func/ta_TSF.c\n",
            "ta-lib/src/ta_func/ta_LINEARREG.c\n",
            "ta-lib/src/ta_func/ta_PVI.c\n",
            "ta-lib/src/ta_func/ta_CDLHIKKAKEMOD.c\n",
            "ta-lib/src/ta_func/ta_MFI.c\n",
            "ta-lib/src/ta_func/ta_CDLHARAMI.c\n",
            "ta-lib/src/ta_func/ta_MACD.c\n",
            "ta-lib/src/ta_func/ta_BETA.c\n",
            "ta-lib/src/ta_func/ta_CDLINVERTEDHAMMER.c\n",
            "ta-lib/src/ta_func/ta_LINEARREG_SLOPE.c\n",
            "ta-lib/src/ta_func/ta_STOCHF.c\n",
            "ta-lib/src/ta_func/ta_MIN.c\n",
            "ta-lib/src/ta_func/ta_CDLIDENTICAL3CROWS.c\n",
            "ta-lib/src/ta_func/ta_CDLRICKSHAWMAN.c\n",
            "ta-lib/src/ta_func/ta_T3.c\n",
            "ta-lib/src/ta_func/ta_CDLMATHOLD.c\n",
            "ta-lib/src/ta_func/ta_CDLUNIQUE3RIVER.c\n",
            "ta-lib/src/ta_func/ta_ADOSC.c\n",
            "ta-lib/src/ta_func/ta_MAXINDEX.c\n",
            "ta-lib/src/ta_func/ta_ULTOSC.c\n",
            "ta-lib/src/ta_func/ta_TRIX.c\n",
            "ta-lib/src/ta_func/ta_MOM.c\n",
            "ta-lib/src/ta_func/ta_CDLDOJI.c\n",
            "ta-lib/src/ta_func/ta_EMA.c\n",
            "ta-lib/src/ta_func/ta_STOCHRSI.c\n",
            "ta-lib/src/ta_func/ta_ROC.c\n",
            "ta-lib/src/ta_func/ta_CDLEVENINGSTAR.c\n",
            "ta-lib/src/ta_func/ta_CDLCOUNTERATTACK.c\n",
            "ta-lib/src/ta_func/ta_LINEARREG_INTERCEPT.c\n",
            "ta-lib/src/ta_func/ta_SAREXT.c\n",
            "ta-lib/src/ta_func/ta_WILLR.c\n",
            "ta-lib/src/ta_func/ta_MULT.c\n",
            "ta-lib/src/ta_func/ta_ATR.c\n",
            "ta-lib/src/ta_func/ta_BOP.c\n",
            "ta-lib/src/ta_func/ta_CMO.c\n",
            "ta-lib/src/ta_func/ta_CDLONNECK.c\n",
            "ta-lib/src/ta_func/ta_CCI.c\n",
            "ta-lib/src/ta_func/ta_CDLLADDERBOTTOM.c\n",
            "ta-lib/src/ta_func/ta_HT_PHASOR.c\n",
            "ta-lib/src/ta_func/ta_utility.c\n",
            "ta-lib/src/ta_func/ta_PPO.c\n",
            "ta-lib/src/ta_func/ta_CDLHIKKAKE.c\n",
            "ta-lib/src/ta_func/ta_HT_DCPERIOD.c\n",
            "ta-lib/src/ta_func/ta_CDL3LINESTRIKE.c\n",
            "ta-lib/src/ta_func/ta_TEMA.c\n",
            "ta-lib/src/ta_func/ta_SIN.c\n",
            "ta-lib/src/ta_func/ta_MINUS_DI.c\n",
            "ta-lib/src/ta_func/ta_KAMA.c\n",
            "ta-lib/src/ta_func/ta_TANH.c\n",
            "ta-lib/src/ta_func/ta_CDLTAKURI.c\n",
            "ta-lib/src/ta_func/ta_CDLGRAVESTONEDOJI.c\n",
            "ta-lib/src/ta_common/\n",
            "ta-lib/src/ta_common/ta_pragma.h\n",
            "ta-lib/src/ta_common/ta_magic_nb.h\n",
            "ta-lib/src/ta_common/ta_retcode.csv\n",
            "ta-lib/src/ta_common/Makefile.in\n",
            "ta-lib/src/ta_common/Makefile.am\n",
            "ta-lib/src/ta_common/ta_memory.h\n",
            "ta-lib/src/ta_common/ta_version.c\n",
            "ta-lib/src/ta_common/ta_global.h\n",
            "ta-lib/src/ta_common/ta_global.c\n",
            "ta-lib/src/ta_common/ta_retcode.c\n",
            "ta-lib/src/Makefile.in\n",
            "ta-lib/src/ta_abstract/\n",
            "ta-lib/src/ta_abstract/frames/\n",
            "ta-lib/src/ta_abstract/frames/ta_frame.c\n",
            "ta-lib/src/ta_abstract/frames/ta_frame.h\n",
            "ta-lib/src/ta_abstract/excel_glue.c\n",
            "ta-lib/src/ta_abstract/ta_frame_priv.h\n",
            "ta-lib/src/ta_abstract/ta_func_api.c\n",
            "ta-lib/src/ta_abstract/Makefile.in\n",
            "ta-lib/src/ta_abstract/ta_def_ui.h\n",
            "ta-lib/src/ta_abstract/Makefile.am\n",
            "ta-lib/src/ta_abstract/ta_abstract.c\n",
            "ta-lib/src/ta_abstract/ta_group_idx.c\n",
            "ta-lib/src/ta_abstract/tables/\n",
            "ta-lib/src/ta_abstract/tables/table_u.c\n",
            "ta-lib/src/ta_abstract/tables/table_x.c\n",
            "ta-lib/src/ta_abstract/tables/table_r.c\n",
            "ta-lib/src/ta_abstract/tables/table_f.c\n",
            "ta-lib/src/ta_abstract/tables/table_j.c\n",
            "ta-lib/src/ta_abstract/tables/table_e.c\n",
            "ta-lib/src/ta_abstract/tables/table_t.c\n",
            "ta-lib/src/ta_abstract/tables/table_n.c\n",
            "ta-lib/src/ta_abstract/tables/table_i.c\n",
            "ta-lib/src/ta_abstract/tables/table_c.c\n",
            "ta-lib/src/ta_abstract/tables/table_l.c\n",
            "ta-lib/src/ta_abstract/tables/table_k.c\n",
            "ta-lib/src/ta_abstract/tables/table_g.c\n",
            "ta-lib/src/ta_abstract/tables/table_d.c\n",
            "ta-lib/src/ta_abstract/tables/table_h.c\n",
            "ta-lib/src/ta_abstract/tables/table_o.c\n",
            "ta-lib/src/ta_abstract/tables/table_b.c\n",
            "ta-lib/src/ta_abstract/tables/table_q.c\n",
            "ta-lib/src/ta_abstract/tables/table_v.c\n",
            "ta-lib/src/ta_abstract/tables/table_m.c\n",
            "ta-lib/src/ta_abstract/tables/table_s.c\n",
            "ta-lib/src/ta_abstract/tables/table_y.c\n",
            "ta-lib/src/ta_abstract/tables/table_p.c\n",
            "ta-lib/src/ta_abstract/tables/table_z.c\n",
            "ta-lib/src/ta_abstract/tables/table_a.c\n",
            "ta-lib/src/ta_abstract/tables/table_w.c\n",
            "ta-lib/src/ta_abstract/ta_def_ui.c\n",
            "ta-lib/src/ta_abstract/templates/\n",
            "ta-lib/src/ta_abstract/templates/ta_x.c.template\n",
            "ta-lib/src/ta_abstract/templates/ta_java_defs.h.template\n",
            "ta-lib/src/ta_abstract/templates/excel_glue.c.template\n",
            "ta-lib/src/ta_abstract/templates/ta_group_idx.c.template\n",
            "ta-lib/src/ta_abstract/templates/ta_frame.c.template\n",
            "ta-lib/src/ta_abstract/templates/CoreAnnotated.java.template\n",
            "ta-lib/src/ta_abstract/templates/ta_func.h.template\n",
            "ta-lib/src/ta_abstract/templates/ta_frame.h.template\n",
            "ta-lib/src/ta_abstract/templates/Makefile.am.template\n",
            "ta-lib/src/ta_abstract/templates/ta_func_api.c.template\n",
            "ta-lib/src/ta_abstract/templates/ta_func.swg.template\n",
            "ta-lib/src/ta_abstract/templates/ta_retcode.c.template\n",
            "ta-lib/src/ta_abstract/ta_java_defs.h\n",
            "ta-lib/src/Makefile.am\n",
            "ta-lib/src/tools/\n",
            "ta-lib/src/tools/ta_regtest/\n",
            "ta-lib/src/tools/ta_regtest/test_util.c\n",
            "ta-lib/src/tools/ta_regtest/ta_test_func.h\n",
            "ta-lib/src/tools/ta_regtest/test_data.c\n",
            "ta-lib/src/tools/ta_regtest/ta_gDataHigh.c\n",
            "ta-lib/src/tools/ta_regtest/Makefile.in\n",
            "ta-lib/src/tools/ta_regtest/test_internals.c\n",
            "ta-lib/src/tools/ta_regtest/Makefile.am\n",
            "ta-lib/src/tools/ta_regtest/ta_regtest.c\n",
            "ta-lib/src/tools/ta_regtest/ta_gDataOpen.c\n",
            "ta-lib/src/tools/ta_regtest/ta_gDataClose.c\n",
            "ta-lib/src/tools/ta_regtest/test_abstract.c\n",
            "ta-lib/src/tools/ta_regtest/ta_test_func/\n",
            "ta-lib/src/tools/ta_regtest/ta_test_func/test_bbands.c\n",
            "ta-lib/src/tools/ta_regtest/ta_test_func/test_stddev.c\n",
            "ta-lib/src/tools/ta_regtest/ta_test_func/test_1in_2out.c\n",
            "ta-lib/src/tools/ta_regtest/ta_test_func/test_sar.c\n",
            "ta-lib/src/tools/ta_regtest/ta_test_func/test_1in_1out.c\n",
            "ta-lib/src/tools/ta_regtest/ta_test_func/test_trange.c\n",
            "ta-lib/src/tools/ta_regtest/ta_test_func/test_macd.c\n",
            "ta-lib/src/tools/ta_regtest/ta_test_func/test_po.c\n",
            "ta-lib/src/tools/ta_regtest/ta_test_func/test_per_hlc.c\n",
            "ta-lib/src/tools/ta_regtest/ta_test_func/test_mom.c\n",
            "ta-lib/src/tools/ta_regtest/ta_test_func/test_per_ohlc.c\n",
            "ta-lib/src/tools/ta_regtest/ta_test_func/test_adx.c\n",
            "ta-lib/src/tools/ta_regtest/ta_test_func/test_candlestick.c\n",
            "ta-lib/src/tools/ta_regtest/ta_test_func/test_rsi.c\n",
            "ta-lib/src/tools/ta_regtest/ta_test_func/test_per_ema.c\n",
            "ta-lib/src/tools/ta_regtest/ta_test_func/test_minmax.c\n",
            "ta-lib/src/tools/ta_regtest/ta_test_func/test_per_hlcv.c\n",
            "ta-lib/src/tools/ta_regtest/ta_test_func/test_per_hl.c\n",
            "ta-lib/src/tools/ta_regtest/ta_test_func/test_stoch.c\n",
            "ta-lib/src/tools/ta_regtest/ta_test_func/test_ma.c\n",
            "ta-lib/src/tools/ta_regtest/ta_error_number.h\n",
            "ta-lib/src/tools/ta_regtest/ta_test_priv.h\n",
            "ta-lib/src/tools/ta_regtest/ReadMe.txt\n",
            "ta-lib/src/tools/ta_regtest/ta_gDataLow.c\n",
            "ta-lib/src/tools/Makefile.in\n",
            "ta-lib/src/tools/Makefile.am\n",
            "ta-lib/src/tools/gen_code/\n",
            "ta-lib/src/tools/gen_code/java/\n",
            "ta-lib/src/tools/gen_code/java/PrettyCode.java\n",
            "ta-lib/src/tools/gen_code/java/Main.java\n",
            "ta-lib/src/tools/gen_code/gen_code.c\n",
            "ta-lib/src/tools/gen_code/Makefile.in\n",
            "ta-lib/src/tools/gen_code/Makefile.am\n",
            "ta-lib/src/tools/gen_code/mcpp.exe\n",
            "tar: !cd: Not found in archive\n",
            "tar: Exiting with failure status due to previous errors\n",
            "Collecting ta\n",
            "  Downloading ta-0.11.0.tar.gz (25 kB)\n",
            "  Preparing metadata (setup.py) ... \u001b[?25l\u001b[?25hdone\n",
            "Requirement already satisfied: numpy in /usr/local/lib/python3.10/dist-packages (from ta) (1.23.5)\n",
            "Requirement already satisfied: pandas in /usr/local/lib/python3.10/dist-packages (from ta) (1.5.3)\n",
            "Requirement already satisfied: python-dateutil>=2.8.1 in /usr/local/lib/python3.10/dist-packages (from pandas->ta) (2.8.2)\n",
            "Requirement already satisfied: pytz>=2020.1 in /usr/local/lib/python3.10/dist-packages (from pandas->ta) (2023.3.post1)\n",
            "Requirement already satisfied: six>=1.5 in /usr/local/lib/python3.10/dist-packages (from python-dateutil>=2.8.1->pandas->ta) (1.16.0)\n",
            "Building wheels for collected packages: ta\n",
            "  Building wheel for ta (setup.py) ... \u001b[?25l\u001b[?25hdone\n",
            "  Created wheel for ta: filename=ta-0.11.0-py3-none-any.whl size=29412 sha256=d0f2425432ed616dcc8d0ca6eabd8b451ff43b2001cfc330b40a844ae49e8d9a\n",
            "  Stored in directory: /root/.cache/pip/wheels/5f/67/4f/8a9f252836e053e532c6587a3230bc72a4deb16b03a829610b\n",
            "Successfully built ta\n",
            "Installing collected packages: ta\n",
            "Successfully installed ta-0.11.0\n"
          ]
        }
      ],
      "source": [
        "!curl -L http://prdownloads.sourceforge.net/ta-lib/ta-lib-0.4.0-src.tar.gz -O && tar xzvf ta-lib-0.4.0-src.tar.gz !cd ta-lib && ./configure --prefix=/usr && make && make install && cd - && pip install ta-lib\n",
        "!pip install ta\n",
        "def load_data():\n",
        "    from datetime import timedelta\n",
        "    import ta\n",
        "\n",
        "\n",
        "    start_date = datetime(2010, 1, 1)\n",
        "    end_date = datetime(2020, 12, 31)\n",
        "    syms = ['SPY']\n",
        "    max_price_scaler = 5_000.0\n",
        "    max_price_scaler = 1\n",
        "    max_volume_scaler = 1.5e8\n",
        "    df_obs = pd.DataFrame()             # observation\n",
        "    df_exch = pd.DataFrame()            # exchange; for order match\n",
        "\n",
        "    for sym in syms:\n",
        "        df = yf.download(sym, start=start_date, end=end_date)\n",
        "        df.index = pd.to_datetime(df.index) + timedelta(hours=15, minutes=59, seconds=59)\n",
        "\n",
        "        df_exch = pd.concat([df_exch, df['Close'].rename(sym)], axis=1)\n",
        "\n",
        "        df['Open'] = df['Adj Close'] / df['Close'] * df['Open'] / max_price_scaler\n",
        "        df['High'] = df['Adj Close'] / df['Close'] * df['High'] / max_price_scaler\n",
        "        df['Low'] = df['Adj Close'] / df['Close'] * df['Low'] / max_price_scaler\n",
        "        df['Volume'] = df['Adj Close'] / df['Close'] * df['Volume'] / max_volume_scaler\n",
        "        df['Close'] = df['Adj Close'] / max_price_scaler\n",
        "        df = df[['Open', 'High', 'Low', 'Close', 'Volume']]\n",
        "        df.columns = [f'{sym}:{c.lower()}' for c in df.columns]\n",
        "\n",
        "        macd = ta.trend.MACD(close=df[f'{sym}:close'])\n",
        "        df[f'{sym}:macd'] = macd.macd()\n",
        "        df[f'{sym}:macd_diff'] = macd.macd_diff()\n",
        "        df[f'{sym}:macd_signal'] = macd.macd_signal()\n",
        "\n",
        "        rsi = ta.momentum.RSIIndicator(close=df[f'{sym}:close'])\n",
        "        df[f'{sym}:rsi'] = rsi.rsi()\n",
        "\n",
        "        bb = ta.volatility.BollingerBands(close=df[f'{sym}:close'], window=20, window_dev=2)\n",
        "        df[f'{sym}:bb_bbm'] = bb.bollinger_mavg()\n",
        "        df[f'{sym}:bb_bbh'] = bb.bollinger_hband()\n",
        "        df[f'{sym}:bb_bbl'] = bb.bollinger_lband()\n",
        "\n",
        "        atr = ta.volatility.AverageTrueRange(high=df[f'{sym}:high'], low=df[f'{sym}:low'], close=df[f'{sym}:close'])\n",
        "        df[f'{sym}:atr'] = atr.average_true_range()\n",
        "\n",
        "        df_obs = pd.concat([df_obs, df], axis=1)\n",
        "\n",
        "    return df_obs, df_exch"
      ]
    },
    {
      "cell_type": "code",
      "execution_count": 29,
      "metadata": {
        "colab": {
          "base_uri": "https://localhost:8080/"
        },
        "id": "q2t0L_4sM_O7",
        "outputId": "44749fb9-e957-49b4-af55-3eab1b7db889"
      },
      "outputs": [
        {
          "output_type": "stream",
          "name": "stdout",
          "text": [
            "\r[*********************100%%**********************]  1 of 1 completed\n"
          ]
        }
      ],
      "source": [
        "df_obs, df_exch = load_data()"
      ]
    },
    {
      "cell_type": "markdown",
      "metadata": {
        "id": "opp8zTMeBOLE"
      },
      "source": [
        "## Trading Environment"
      ]
    },
    {
      "cell_type": "code",
      "execution_count": 30,
      "metadata": {
        "id": "WCv1oFGgNArj"
      },
      "outputs": [],
      "source": [
        "look_back = 10\n",
        "cash = 100_000.0\n",
        "max_nav_scaler = cash\n",
        "\n",
        "train_qt_env = TradingEnv(2, df_obs, df_exch)\n",
        "train_qt_env.set_cash(cash)\n",
        "train_qt_env.set_commission(0.0001)\n",
        "train_qt_env.set_steps(n_lookback=10, n_warmup=50, n_maxsteps=250)\n",
        "train_qt_env.set_feature_scaling(max_nav_scaler)\n",
        "\n",
        "eval_qt_env = TradingEnv(2, df_obs, df_exch)\n",
        "eval_qt_env.set_cash(cash)\n",
        "eval_qt_env.set_commission(0.0001)\n",
        "eval_qt_env.set_steps(n_lookback=10, n_warmup=50, n_maxsteps=2000, n_init_step=504)         # index 504 is 2012-01-03\n",
        "eval_qt_env.set_feature_scaling(max_nav_scaler)"
      ]
    },
    {
      "cell_type": "markdown",
      "metadata": {
        "id": "gnVSDgbAq5Pv"
      },
      "source": [
        "Take one step to see how the environment works."
      ]
    },
    {
      "cell_type": "code",
      "execution_count": 32,
      "metadata": {
        "id": "HuQnPoBISRQ0",
        "colab": {
          "base_uri": "https://localhost:8080/"
        },
        "outputId": "ec495f4c-c1c6-4a3d-8908-759540fa78f9"
      },
      "outputs": [
        {
          "output_type": "stream",
          "name": "stderr",
          "text": [
            "/usr/local/lib/python3.10/dist-packages/ipykernel/ipkernel.py:283: DeprecationWarning: `should_run_async` will not call `transform_cell` automatically in the future. Please pass the result to `transformed_cell` argument and any exception that happen during thetransform in `preprocessing_exc_tuple` in IPython 7.17 and above.\n",
            "  and should_run_async(code)\n"
          ]
        }
      ],
      "source": [
        "o1 = eval_qt_env.reset()\n",
        "total_reward = 0.0\n",
        "while True:\n",
        "    #action = eval_qt_env.action_space.sample()\n",
        "    action = 1\n",
        "    o2, reward, done, info = eval_qt_env.step(action)\n",
        "    total_reward += reward\n",
        "    #print(action, reward * max_nav_scaler, info)\n",
        "    #if done:\n",
        "    #  break\n",
        "    break"
      ]
    },
    {
      "cell_type": "markdown",
      "metadata": {
        "id": "mqkDZZdmrJ56"
      },
      "source": [
        "The observation has 10 features, and lookback is 14 days."
      ]
    },
    {
      "cell_type": "code",
      "execution_count": 33,
      "metadata": {
        "colab": {
          "base_uri": "https://localhost:8080/"
        },
        "id": "03M_kp7_rju3",
        "outputId": "b81a9436-1a9c-4e8a-c3da-813d9f90de83"
      },
      "outputs": [
        {
          "output_type": "execute_result",
          "data": {
            "text/plain": [
              "((10, 14), (10, 14))"
            ]
          },
          "metadata": {},
          "execution_count": 33
        }
      ],
      "source": [
        "o1.shape, o2.shape"
      ]
    },
    {
      "cell_type": "code",
      "execution_count": 34,
      "metadata": {
        "colab": {
          "base_uri": "https://localhost:8080/",
          "height": 299
        },
        "id": "vcfVof1HrM-B",
        "outputId": "4bf0d7f7-30ea-4b0a-da5b-5857e962f26c"
      },
      "outputs": [
        {
          "output_type": "execute_result",
          "data": {
            "text/plain": [
              "                       SPY:open    SPY:high     SPY:low   SPY:close  \\\n",
              "Date                                                                  \n",
              "2012-01-03 15:59:59  102.667899  103.166133  102.402710  102.458961   \n",
              "2012-01-04 15:59:59  102.217875  102.708071  101.824113  102.619675   \n",
              "2012-01-05 15:59:59  102.065190  103.045577  101.599101  102.892891   \n",
              "\n",
              "                     SPY:volume  SPY:macd  SPY:macd_diff  SPY:macd_signal  \\\n",
              "Date                                                                        \n",
              "2012-01-03 15:59:59    1.037704  0.861866       0.277250         0.584616   \n",
              "2012-01-04 15:59:59    0.681380  0.966258       0.305314         0.660945   \n",
              "2012-01-05 15:59:59    0.931613  1.058831       0.318309         0.740522   \n",
              "\n",
              "                       SPY:rsi  SPY:bb_bbm  SPY:bb_bbh  SPY:bb_bbl   SPY:atr  \n",
              "Date                                                                          \n",
              "2012-01-03 15:59:59  60.324410   99.863707  103.092144   96.635270  1.629781  \n",
              "2012-01-04 15:59:59  60.780454   99.955135  103.380981   96.529288  1.576508  \n",
              "2012-01-05 15:59:59  61.588768  100.058625  103.701289   96.415962  1.567220  "
            ],
            "text/html": [
              "\n",
              "  <div id=\"df-e3d53fe9-4359-4539-b78d-ee65b2ed889c\" class=\"colab-df-container\">\n",
              "    <div>\n",
              "<style scoped>\n",
              "    .dataframe tbody tr th:only-of-type {\n",
              "        vertical-align: middle;\n",
              "    }\n",
              "\n",
              "    .dataframe tbody tr th {\n",
              "        vertical-align: top;\n",
              "    }\n",
              "\n",
              "    .dataframe thead th {\n",
              "        text-align: right;\n",
              "    }\n",
              "</style>\n",
              "<table border=\"1\" class=\"dataframe\">\n",
              "  <thead>\n",
              "    <tr style=\"text-align: right;\">\n",
              "      <th></th>\n",
              "      <th>SPY:open</th>\n",
              "      <th>SPY:high</th>\n",
              "      <th>SPY:low</th>\n",
              "      <th>SPY:close</th>\n",
              "      <th>SPY:volume</th>\n",
              "      <th>SPY:macd</th>\n",
              "      <th>SPY:macd_diff</th>\n",
              "      <th>SPY:macd_signal</th>\n",
              "      <th>SPY:rsi</th>\n",
              "      <th>SPY:bb_bbm</th>\n",
              "      <th>SPY:bb_bbh</th>\n",
              "      <th>SPY:bb_bbl</th>\n",
              "      <th>SPY:atr</th>\n",
              "    </tr>\n",
              "    <tr>\n",
              "      <th>Date</th>\n",
              "      <th></th>\n",
              "      <th></th>\n",
              "      <th></th>\n",
              "      <th></th>\n",
              "      <th></th>\n",
              "      <th></th>\n",
              "      <th></th>\n",
              "      <th></th>\n",
              "      <th></th>\n",
              "      <th></th>\n",
              "      <th></th>\n",
              "      <th></th>\n",
              "      <th></th>\n",
              "    </tr>\n",
              "  </thead>\n",
              "  <tbody>\n",
              "    <tr>\n",
              "      <th>2012-01-03 15:59:59</th>\n",
              "      <td>102.667899</td>\n",
              "      <td>103.166133</td>\n",
              "      <td>102.402710</td>\n",
              "      <td>102.458961</td>\n",
              "      <td>1.037704</td>\n",
              "      <td>0.861866</td>\n",
              "      <td>0.277250</td>\n",
              "      <td>0.584616</td>\n",
              "      <td>60.324410</td>\n",
              "      <td>99.863707</td>\n",
              "      <td>103.092144</td>\n",
              "      <td>96.635270</td>\n",
              "      <td>1.629781</td>\n",
              "    </tr>\n",
              "    <tr>\n",
              "      <th>2012-01-04 15:59:59</th>\n",
              "      <td>102.217875</td>\n",
              "      <td>102.708071</td>\n",
              "      <td>101.824113</td>\n",
              "      <td>102.619675</td>\n",
              "      <td>0.681380</td>\n",
              "      <td>0.966258</td>\n",
              "      <td>0.305314</td>\n",
              "      <td>0.660945</td>\n",
              "      <td>60.780454</td>\n",
              "      <td>99.955135</td>\n",
              "      <td>103.380981</td>\n",
              "      <td>96.529288</td>\n",
              "      <td>1.576508</td>\n",
              "    </tr>\n",
              "    <tr>\n",
              "      <th>2012-01-05 15:59:59</th>\n",
              "      <td>102.065190</td>\n",
              "      <td>103.045577</td>\n",
              "      <td>101.599101</td>\n",
              "      <td>102.892891</td>\n",
              "      <td>0.931613</td>\n",
              "      <td>1.058831</td>\n",
              "      <td>0.318309</td>\n",
              "      <td>0.740522</td>\n",
              "      <td>61.588768</td>\n",
              "      <td>100.058625</td>\n",
              "      <td>103.701289</td>\n",
              "      <td>96.415962</td>\n",
              "      <td>1.567220</td>\n",
              "    </tr>\n",
              "  </tbody>\n",
              "</table>\n",
              "</div>\n",
              "    <div class=\"colab-df-buttons\">\n",
              "\n",
              "  <div class=\"colab-df-container\">\n",
              "    <button class=\"colab-df-convert\" onclick=\"convertToInteractive('df-e3d53fe9-4359-4539-b78d-ee65b2ed889c')\"\n",
              "            title=\"Convert this dataframe to an interactive table.\"\n",
              "            style=\"display:none;\">\n",
              "\n",
              "  <svg xmlns=\"http://www.w3.org/2000/svg\" height=\"24px\" viewBox=\"0 -960 960 960\">\n",
              "    <path d=\"M120-120v-720h720v720H120Zm60-500h600v-160H180v160Zm220 220h160v-160H400v160Zm0 220h160v-160H400v160ZM180-400h160v-160H180v160Zm440 0h160v-160H620v160ZM180-180h160v-160H180v160Zm440 0h160v-160H620v160Z\"/>\n",
              "  </svg>\n",
              "    </button>\n",
              "\n",
              "  <style>\n",
              "    .colab-df-container {\n",
              "      display:flex;\n",
              "      gap: 12px;\n",
              "    }\n",
              "\n",
              "    .colab-df-convert {\n",
              "      background-color: #E8F0FE;\n",
              "      border: none;\n",
              "      border-radius: 50%;\n",
              "      cursor: pointer;\n",
              "      display: none;\n",
              "      fill: #1967D2;\n",
              "      height: 32px;\n",
              "      padding: 0 0 0 0;\n",
              "      width: 32px;\n",
              "    }\n",
              "\n",
              "    .colab-df-convert:hover {\n",
              "      background-color: #E2EBFA;\n",
              "      box-shadow: 0px 1px 2px rgba(60, 64, 67, 0.3), 0px 1px 3px 1px rgba(60, 64, 67, 0.15);\n",
              "      fill: #174EA6;\n",
              "    }\n",
              "\n",
              "    .colab-df-buttons div {\n",
              "      margin-bottom: 4px;\n",
              "    }\n",
              "\n",
              "    [theme=dark] .colab-df-convert {\n",
              "      background-color: #3B4455;\n",
              "      fill: #D2E3FC;\n",
              "    }\n",
              "\n",
              "    [theme=dark] .colab-df-convert:hover {\n",
              "      background-color: #434B5C;\n",
              "      box-shadow: 0px 1px 3px 1px rgba(0, 0, 0, 0.15);\n",
              "      filter: drop-shadow(0px 1px 2px rgba(0, 0, 0, 0.3));\n",
              "      fill: #FFFFFF;\n",
              "    }\n",
              "  </style>\n",
              "\n",
              "    <script>\n",
              "      const buttonEl =\n",
              "        document.querySelector('#df-e3d53fe9-4359-4539-b78d-ee65b2ed889c button.colab-df-convert');\n",
              "      buttonEl.style.display =\n",
              "        google.colab.kernel.accessAllowed ? 'block' : 'none';\n",
              "\n",
              "      async function convertToInteractive(key) {\n",
              "        const element = document.querySelector('#df-e3d53fe9-4359-4539-b78d-ee65b2ed889c');\n",
              "        const dataTable =\n",
              "          await google.colab.kernel.invokeFunction('convertToInteractive',\n",
              "                                                    [key], {});\n",
              "        if (!dataTable) return;\n",
              "\n",
              "        const docLinkHtml = 'Like what you see? Visit the ' +\n",
              "          '<a target=\"_blank\" href=https://colab.research.google.com/notebooks/data_table.ipynb>data table notebook</a>'\n",
              "          + ' to learn more about interactive tables.';\n",
              "        element.innerHTML = '';\n",
              "        dataTable['output_type'] = 'display_data';\n",
              "        await google.colab.output.renderOutput(dataTable, element);\n",
              "        const docLink = document.createElement('div');\n",
              "        docLink.innerHTML = docLinkHtml;\n",
              "        element.appendChild(docLink);\n",
              "      }\n",
              "    </script>\n",
              "  </div>\n",
              "\n",
              "\n",
              "<div id=\"df-bfdd3491-ad20-427d-9879-e3ee303aec50\">\n",
              "  <button class=\"colab-df-quickchart\" onclick=\"quickchart('df-bfdd3491-ad20-427d-9879-e3ee303aec50')\"\n",
              "            title=\"Suggest charts.\"\n",
              "            style=\"display:none;\">\n",
              "\n",
              "<svg xmlns=\"http://www.w3.org/2000/svg\" height=\"24px\"viewBox=\"0 0 24 24\"\n",
              "     width=\"24px\">\n",
              "    <g>\n",
              "        <path d=\"M19 3H5c-1.1 0-2 .9-2 2v14c0 1.1.9 2 2 2h14c1.1 0 2-.9 2-2V5c0-1.1-.9-2-2-2zM9 17H7v-7h2v7zm4 0h-2V7h2v10zm4 0h-2v-4h2v4z\"/>\n",
              "    </g>\n",
              "</svg>\n",
              "  </button>\n",
              "\n",
              "<style>\n",
              "  .colab-df-quickchart {\n",
              "      --bg-color: #E8F0FE;\n",
              "      --fill-color: #1967D2;\n",
              "      --hover-bg-color: #E2EBFA;\n",
              "      --hover-fill-color: #174EA6;\n",
              "      --disabled-fill-color: #AAA;\n",
              "      --disabled-bg-color: #DDD;\n",
              "  }\n",
              "\n",
              "  [theme=dark] .colab-df-quickchart {\n",
              "      --bg-color: #3B4455;\n",
              "      --fill-color: #D2E3FC;\n",
              "      --hover-bg-color: #434B5C;\n",
              "      --hover-fill-color: #FFFFFF;\n",
              "      --disabled-bg-color: #3B4455;\n",
              "      --disabled-fill-color: #666;\n",
              "  }\n",
              "\n",
              "  .colab-df-quickchart {\n",
              "    background-color: var(--bg-color);\n",
              "    border: none;\n",
              "    border-radius: 50%;\n",
              "    cursor: pointer;\n",
              "    display: none;\n",
              "    fill: var(--fill-color);\n",
              "    height: 32px;\n",
              "    padding: 0;\n",
              "    width: 32px;\n",
              "  }\n",
              "\n",
              "  .colab-df-quickchart:hover {\n",
              "    background-color: var(--hover-bg-color);\n",
              "    box-shadow: 0 1px 2px rgba(60, 64, 67, 0.3), 0 1px 3px 1px rgba(60, 64, 67, 0.15);\n",
              "    fill: var(--button-hover-fill-color);\n",
              "  }\n",
              "\n",
              "  .colab-df-quickchart-complete:disabled,\n",
              "  .colab-df-quickchart-complete:disabled:hover {\n",
              "    background-color: var(--disabled-bg-color);\n",
              "    fill: var(--disabled-fill-color);\n",
              "    box-shadow: none;\n",
              "  }\n",
              "\n",
              "  .colab-df-spinner {\n",
              "    border: 2px solid var(--fill-color);\n",
              "    border-color: transparent;\n",
              "    border-bottom-color: var(--fill-color);\n",
              "    animation:\n",
              "      spin 1s steps(1) infinite;\n",
              "  }\n",
              "\n",
              "  @keyframes spin {\n",
              "    0% {\n",
              "      border-color: transparent;\n",
              "      border-bottom-color: var(--fill-color);\n",
              "      border-left-color: var(--fill-color);\n",
              "    }\n",
              "    20% {\n",
              "      border-color: transparent;\n",
              "      border-left-color: var(--fill-color);\n",
              "      border-top-color: var(--fill-color);\n",
              "    }\n",
              "    30% {\n",
              "      border-color: transparent;\n",
              "      border-left-color: var(--fill-color);\n",
              "      border-top-color: var(--fill-color);\n",
              "      border-right-color: var(--fill-color);\n",
              "    }\n",
              "    40% {\n",
              "      border-color: transparent;\n",
              "      border-right-color: var(--fill-color);\n",
              "      border-top-color: var(--fill-color);\n",
              "    }\n",
              "    60% {\n",
              "      border-color: transparent;\n",
              "      border-right-color: var(--fill-color);\n",
              "    }\n",
              "    80% {\n",
              "      border-color: transparent;\n",
              "      border-right-color: var(--fill-color);\n",
              "      border-bottom-color: var(--fill-color);\n",
              "    }\n",
              "    90% {\n",
              "      border-color: transparent;\n",
              "      border-bottom-color: var(--fill-color);\n",
              "    }\n",
              "  }\n",
              "</style>\n",
              "\n",
              "  <script>\n",
              "    async function quickchart(key) {\n",
              "      const quickchartButtonEl =\n",
              "        document.querySelector('#' + key + ' button');\n",
              "      quickchartButtonEl.disabled = true;  // To prevent multiple clicks.\n",
              "      quickchartButtonEl.classList.add('colab-df-spinner');\n",
              "      try {\n",
              "        const charts = await google.colab.kernel.invokeFunction(\n",
              "            'suggestCharts', [key], {});\n",
              "      } catch (error) {\n",
              "        console.error('Error during call to suggestCharts:', error);\n",
              "      }\n",
              "      quickchartButtonEl.classList.remove('colab-df-spinner');\n",
              "      quickchartButtonEl.classList.add('colab-df-quickchart-complete');\n",
              "    }\n",
              "    (() => {\n",
              "      let quickchartButtonEl =\n",
              "        document.querySelector('#df-bfdd3491-ad20-427d-9879-e3ee303aec50 button');\n",
              "      quickchartButtonEl.style.display =\n",
              "        google.colab.kernel.accessAllowed ? 'block' : 'none';\n",
              "    })();\n",
              "  </script>\n",
              "</div>\n",
              "    </div>\n",
              "  </div>\n"
            ]
          },
          "metadata": {},
          "execution_count": 34
        }
      ],
      "source": [
        "idx0 = eval_qt_env._init_step\n",
        "idx1 = idx0+3\n",
        "eval_qt_env._df_obs_scaled[idx0:idx1]         # observation"
      ]
    },
    {
      "cell_type": "code",
      "execution_count": 35,
      "metadata": {
        "colab": {
          "base_uri": "https://localhost:8080/",
          "height": 143
        },
        "id": "kwTqmjxnp9AV",
        "outputId": "e3e768e6-bb53-4960-b3bb-acf7a6c1fc38"
      },
      "outputs": [
        {
          "output_type": "execute_result",
          "data": {
            "text/plain": [
              "                            SPY\n",
              "2012-01-03 15:59:59  127.500000\n",
              "2012-01-04 15:59:59  127.699997\n",
              "2012-01-05 15:59:59  128.039993"
            ],
            "text/html": [
              "\n",
              "  <div id=\"df-8f32fe6a-19e5-4a9b-bd5f-48dfa4535069\" class=\"colab-df-container\">\n",
              "    <div>\n",
              "<style scoped>\n",
              "    .dataframe tbody tr th:only-of-type {\n",
              "        vertical-align: middle;\n",
              "    }\n",
              "\n",
              "    .dataframe tbody tr th {\n",
              "        vertical-align: top;\n",
              "    }\n",
              "\n",
              "    .dataframe thead th {\n",
              "        text-align: right;\n",
              "    }\n",
              "</style>\n",
              "<table border=\"1\" class=\"dataframe\">\n",
              "  <thead>\n",
              "    <tr style=\"text-align: right;\">\n",
              "      <th></th>\n",
              "      <th>SPY</th>\n",
              "    </tr>\n",
              "  </thead>\n",
              "  <tbody>\n",
              "    <tr>\n",
              "      <th>2012-01-03 15:59:59</th>\n",
              "      <td>127.500000</td>\n",
              "    </tr>\n",
              "    <tr>\n",
              "      <th>2012-01-04 15:59:59</th>\n",
              "      <td>127.699997</td>\n",
              "    </tr>\n",
              "    <tr>\n",
              "      <th>2012-01-05 15:59:59</th>\n",
              "      <td>128.039993</td>\n",
              "    </tr>\n",
              "  </tbody>\n",
              "</table>\n",
              "</div>\n",
              "    <div class=\"colab-df-buttons\">\n",
              "\n",
              "  <div class=\"colab-df-container\">\n",
              "    <button class=\"colab-df-convert\" onclick=\"convertToInteractive('df-8f32fe6a-19e5-4a9b-bd5f-48dfa4535069')\"\n",
              "            title=\"Convert this dataframe to an interactive table.\"\n",
              "            style=\"display:none;\">\n",
              "\n",
              "  <svg xmlns=\"http://www.w3.org/2000/svg\" height=\"24px\" viewBox=\"0 -960 960 960\">\n",
              "    <path d=\"M120-120v-720h720v720H120Zm60-500h600v-160H180v160Zm220 220h160v-160H400v160Zm0 220h160v-160H400v160ZM180-400h160v-160H180v160Zm440 0h160v-160H620v160ZM180-180h160v-160H180v160Zm440 0h160v-160H620v160Z\"/>\n",
              "  </svg>\n",
              "    </button>\n",
              "\n",
              "  <style>\n",
              "    .colab-df-container {\n",
              "      display:flex;\n",
              "      gap: 12px;\n",
              "    }\n",
              "\n",
              "    .colab-df-convert {\n",
              "      background-color: #E8F0FE;\n",
              "      border: none;\n",
              "      border-radius: 50%;\n",
              "      cursor: pointer;\n",
              "      display: none;\n",
              "      fill: #1967D2;\n",
              "      height: 32px;\n",
              "      padding: 0 0 0 0;\n",
              "      width: 32px;\n",
              "    }\n",
              "\n",
              "    .colab-df-convert:hover {\n",
              "      background-color: #E2EBFA;\n",
              "      box-shadow: 0px 1px 2px rgba(60, 64, 67, 0.3), 0px 1px 3px 1px rgba(60, 64, 67, 0.15);\n",
              "      fill: #174EA6;\n",
              "    }\n",
              "\n",
              "    .colab-df-buttons div {\n",
              "      margin-bottom: 4px;\n",
              "    }\n",
              "\n",
              "    [theme=dark] .colab-df-convert {\n",
              "      background-color: #3B4455;\n",
              "      fill: #D2E3FC;\n",
              "    }\n",
              "\n",
              "    [theme=dark] .colab-df-convert:hover {\n",
              "      background-color: #434B5C;\n",
              "      box-shadow: 0px 1px 3px 1px rgba(0, 0, 0, 0.15);\n",
              "      filter: drop-shadow(0px 1px 2px rgba(0, 0, 0, 0.3));\n",
              "      fill: #FFFFFF;\n",
              "    }\n",
              "  </style>\n",
              "\n",
              "    <script>\n",
              "      const buttonEl =\n",
              "        document.querySelector('#df-8f32fe6a-19e5-4a9b-bd5f-48dfa4535069 button.colab-df-convert');\n",
              "      buttonEl.style.display =\n",
              "        google.colab.kernel.accessAllowed ? 'block' : 'none';\n",
              "\n",
              "      async function convertToInteractive(key) {\n",
              "        const element = document.querySelector('#df-8f32fe6a-19e5-4a9b-bd5f-48dfa4535069');\n",
              "        const dataTable =\n",
              "          await google.colab.kernel.invokeFunction('convertToInteractive',\n",
              "                                                    [key], {});\n",
              "        if (!dataTable) return;\n",
              "\n",
              "        const docLinkHtml = 'Like what you see? Visit the ' +\n",
              "          '<a target=\"_blank\" href=https://colab.research.google.com/notebooks/data_table.ipynb>data table notebook</a>'\n",
              "          + ' to learn more about interactive tables.';\n",
              "        element.innerHTML = '';\n",
              "        dataTable['output_type'] = 'display_data';\n",
              "        await google.colab.output.renderOutput(dataTable, element);\n",
              "        const docLink = document.createElement('div');\n",
              "        docLink.innerHTML = docLinkHtml;\n",
              "        element.appendChild(docLink);\n",
              "      }\n",
              "    </script>\n",
              "  </div>\n",
              "\n",
              "\n",
              "<div id=\"df-ad0db9a2-363d-403e-a16b-50d5c38c8968\">\n",
              "  <button class=\"colab-df-quickchart\" onclick=\"quickchart('df-ad0db9a2-363d-403e-a16b-50d5c38c8968')\"\n",
              "            title=\"Suggest charts.\"\n",
              "            style=\"display:none;\">\n",
              "\n",
              "<svg xmlns=\"http://www.w3.org/2000/svg\" height=\"24px\"viewBox=\"0 0 24 24\"\n",
              "     width=\"24px\">\n",
              "    <g>\n",
              "        <path d=\"M19 3H5c-1.1 0-2 .9-2 2v14c0 1.1.9 2 2 2h14c1.1 0 2-.9 2-2V5c0-1.1-.9-2-2-2zM9 17H7v-7h2v7zm4 0h-2V7h2v10zm4 0h-2v-4h2v4z\"/>\n",
              "    </g>\n",
              "</svg>\n",
              "  </button>\n",
              "\n",
              "<style>\n",
              "  .colab-df-quickchart {\n",
              "      --bg-color: #E8F0FE;\n",
              "      --fill-color: #1967D2;\n",
              "      --hover-bg-color: #E2EBFA;\n",
              "      --hover-fill-color: #174EA6;\n",
              "      --disabled-fill-color: #AAA;\n",
              "      --disabled-bg-color: #DDD;\n",
              "  }\n",
              "\n",
              "  [theme=dark] .colab-df-quickchart {\n",
              "      --bg-color: #3B4455;\n",
              "      --fill-color: #D2E3FC;\n",
              "      --hover-bg-color: #434B5C;\n",
              "      --hover-fill-color: #FFFFFF;\n",
              "      --disabled-bg-color: #3B4455;\n",
              "      --disabled-fill-color: #666;\n",
              "  }\n",
              "\n",
              "  .colab-df-quickchart {\n",
              "    background-color: var(--bg-color);\n",
              "    border: none;\n",
              "    border-radius: 50%;\n",
              "    cursor: pointer;\n",
              "    display: none;\n",
              "    fill: var(--fill-color);\n",
              "    height: 32px;\n",
              "    padding: 0;\n",
              "    width: 32px;\n",
              "  }\n",
              "\n",
              "  .colab-df-quickchart:hover {\n",
              "    background-color: var(--hover-bg-color);\n",
              "    box-shadow: 0 1px 2px rgba(60, 64, 67, 0.3), 0 1px 3px 1px rgba(60, 64, 67, 0.15);\n",
              "    fill: var(--button-hover-fill-color);\n",
              "  }\n",
              "\n",
              "  .colab-df-quickchart-complete:disabled,\n",
              "  .colab-df-quickchart-complete:disabled:hover {\n",
              "    background-color: var(--disabled-bg-color);\n",
              "    fill: var(--disabled-fill-color);\n",
              "    box-shadow: none;\n",
              "  }\n",
              "\n",
              "  .colab-df-spinner {\n",
              "    border: 2px solid var(--fill-color);\n",
              "    border-color: transparent;\n",
              "    border-bottom-color: var(--fill-color);\n",
              "    animation:\n",
              "      spin 1s steps(1) infinite;\n",
              "  }\n",
              "\n",
              "  @keyframes spin {\n",
              "    0% {\n",
              "      border-color: transparent;\n",
              "      border-bottom-color: var(--fill-color);\n",
              "      border-left-color: var(--fill-color);\n",
              "    }\n",
              "    20% {\n",
              "      border-color: transparent;\n",
              "      border-left-color: var(--fill-color);\n",
              "      border-top-color: var(--fill-color);\n",
              "    }\n",
              "    30% {\n",
              "      border-color: transparent;\n",
              "      border-left-color: var(--fill-color);\n",
              "      border-top-color: var(--fill-color);\n",
              "      border-right-color: var(--fill-color);\n",
              "    }\n",
              "    40% {\n",
              "      border-color: transparent;\n",
              "      border-right-color: var(--fill-color);\n",
              "      border-top-color: var(--fill-color);\n",
              "    }\n",
              "    60% {\n",
              "      border-color: transparent;\n",
              "      border-right-color: var(--fill-color);\n",
              "    }\n",
              "    80% {\n",
              "      border-color: transparent;\n",
              "      border-right-color: var(--fill-color);\n",
              "      border-bottom-color: var(--fill-color);\n",
              "    }\n",
              "    90% {\n",
              "      border-color: transparent;\n",
              "      border-bottom-color: var(--fill-color);\n",
              "    }\n",
              "  }\n",
              "</style>\n",
              "\n",
              "  <script>\n",
              "    async function quickchart(key) {\n",
              "      const quickchartButtonEl =\n",
              "        document.querySelector('#' + key + ' button');\n",
              "      quickchartButtonEl.disabled = true;  // To prevent multiple clicks.\n",
              "      quickchartButtonEl.classList.add('colab-df-spinner');\n",
              "      try {\n",
              "        const charts = await google.colab.kernel.invokeFunction(\n",
              "            'suggestCharts', [key], {});\n",
              "      } catch (error) {\n",
              "        console.error('Error during call to suggestCharts:', error);\n",
              "      }\n",
              "      quickchartButtonEl.classList.remove('colab-df-spinner');\n",
              "      quickchartButtonEl.classList.add('colab-df-quickchart-complete');\n",
              "    }\n",
              "    (() => {\n",
              "      let quickchartButtonEl =\n",
              "        document.querySelector('#df-ad0db9a2-363d-403e-a16b-50d5c38c8968 button');\n",
              "      quickchartButtonEl.style.display =\n",
              "        google.colab.kernel.accessAllowed ? 'block' : 'none';\n",
              "    })();\n",
              "  </script>\n",
              "</div>\n",
              "    </div>\n",
              "  </div>\n"
            ]
          },
          "metadata": {},
          "execution_count": 35
        }
      ],
      "source": [
        "eval_qt_env._df_exch[idx0:idx1]"
      ]
    },
    {
      "cell_type": "markdown",
      "metadata": {
        "id": "qQzG_oaKrxOR"
      },
      "source": [
        "At the end of 2012-01-03, if action = 1 or we all in SPY, then we buy 100_000/127.50 or 784 shares, commission=784x127.50x0.0001=9.996, and the remaining cash=100_000-784x127.5-9.996=30.\n",
        "\n",
        "Then the market moves to 2012-01-04, and SPY price goes up to 127.70. Our 784 shares are now worth 784x127.70, and NAV including cash becomes 784x127.70+30=100_146.80.\n",
        "\n",
        "NAV change is the reward, in this case is 146.80.\n",
        "\n",
        "As shown below."
      ]
    },
    {
      "cell_type": "code",
      "execution_count": 36,
      "metadata": {
        "colab": {
          "base_uri": "https://localhost:8080/"
        },
        "id": "kFUPO8__scqV",
        "outputId": "adf3b6c6-8c07-4f9e-bc5b-456e6f3c5fb5"
      },
      "outputs": [
        {
          "output_type": "execute_result",
          "data": {
            "text/plain": [
              "SPY          0.0\n",
              "Cash    100000.0\n",
              "NAV     100000.0\n",
              "Name: 2012-01-03 15:59:59, dtype: float64"
            ]
          },
          "metadata": {},
          "execution_count": 36
        }
      ],
      "source": [
        "eval_qt_env._df_positions.iloc[idx0]"
      ]
    },
    {
      "cell_type": "code",
      "execution_count": 37,
      "metadata": {
        "colab": {
          "base_uri": "https://localhost:8080/"
        },
        "id": "yNs9mfsstPWF",
        "outputId": "5c1db327-3092-4e28-87f4-bf91675dd6c7"
      },
      "outputs": [
        {
          "output_type": "execute_result",
          "data": {
            "text/plain": [
              "SPY        784.000000\n",
              "Cash        30.004000\n",
              "NAV     100146.801607\n",
              "Name: 2012-01-04 15:59:59, dtype: float64"
            ]
          },
          "metadata": {},
          "execution_count": 37
        }
      ],
      "source": [
        "eval_qt_env._df_positions.iloc[idx0+1]"
      ]
    },
    {
      "cell_type": "code",
      "execution_count": 38,
      "metadata": {
        "colab": {
          "base_uri": "https://localhost:8080/"
        },
        "id": "b8TBUnX63xTg",
        "outputId": "7075844e-cd92-473e-cf49-71ef4746eaa5"
      },
      "outputs": [
        {
          "output_type": "execute_result",
          "data": {
            "text/plain": [
              "(146.801607421875, 146.80160700000124)"
            ]
          },
          "metadata": {},
          "execution_count": 38
        }
      ],
      "source": [
        "reward,  100146.801607-100000.0"
      ]
    },
    {
      "cell_type": "markdown",
      "metadata": {
        "id": "IPJuV6AEt6qo"
      },
      "source": [
        "Create TF-Agents environment from Gym environment."
      ]
    },
    {
      "cell_type": "code",
      "execution_count": 39,
      "metadata": {
        "id": "1upn2Q1GHs6k"
      },
      "outputs": [],
      "source": [
        "train_qt_env = gym.wrappers.FlattenObservation(train_qt_env)\n",
        "train_py_env = suite_gym.wrap_env(train_qt_env)\n",
        "train_env = tf_py_environment.TFPyEnvironment(train_py_env)\n",
        "\n",
        "eval_qt_env = gym.wrappers.FlattenObservation(eval_qt_env)\n",
        "eval_py_env = suite_gym.wrap_env(eval_qt_env)\n",
        "eval_env = tf_py_environment.TFPyEnvironment(eval_py_env)"
      ]
    },
    {
      "cell_type": "code",
      "execution_count": 40,
      "metadata": {
        "colab": {
          "base_uri": "https://localhost:8080/"
        },
        "id": "Bb4vRZ0h20Nf",
        "outputId": "3d639c7b-1952-441c-a820-5067bff23339"
      },
      "outputs": [
        {
          "output_type": "execute_result",
          "data": {
            "text/plain": [
              "BoundedTensorSpec(shape=(), dtype=tf.int64, name='action', minimum=array(0), maximum=array(1))"
            ]
          },
          "metadata": {},
          "execution_count": 40
        }
      ],
      "source": [
        "train_env.action_spec()"
      ]
    },
    {
      "cell_type": "code",
      "execution_count": 41,
      "metadata": {
        "colab": {
          "base_uri": "https://localhost:8080/"
        },
        "id": "lhtK_lt3H_WM",
        "outputId": "346b7cac-7c28-434b-feea-d2d61f8aa28a"
      },
      "outputs": [
        {
          "output_type": "execute_result",
          "data": {
            "text/plain": [
              "TimeStep(\n",
              "{'discount': BoundedTensorSpec(shape=(), dtype=tf.float32, name='discount', minimum=array(0., dtype=float32), maximum=array(1., dtype=float32)),\n",
              " 'observation': BoundedTensorSpec(shape=(140,), dtype=tf.float32, name='observation', minimum=array(-3.4028235e+38, dtype=float32), maximum=array(3.4028235e+38, dtype=float32)),\n",
              " 'reward': TensorSpec(shape=(), dtype=tf.float32, name='reward'),\n",
              " 'step_type': TensorSpec(shape=(), dtype=tf.int32, name='step_type')})"
            ]
          },
          "metadata": {},
          "execution_count": 41
        }
      ],
      "source": [
        "train_env.time_step_spec()"
      ]
    },
    {
      "cell_type": "markdown",
      "metadata": {
        "id": "IcOJcG2JDNV1"
      },
      "source": [
        "Some helper functions"
      ]
    },
    {
      "cell_type": "code",
      "execution_count": 42,
      "metadata": {
        "id": "4IWSBdyGDO-u"
      },
      "outputs": [],
      "source": [
        "def embed_mp4(filename):\n",
        "  \"\"\"Embeds an mp4 file in the notebook.\"\"\"\n",
        "  video = open(filename,'rb').read()\n",
        "  b64 = base64.b64encode(video)\n",
        "  tag = '''\n",
        "  <video width=\"640\" height=\"480\" controls>\n",
        "    <source src=\"data:video/mp4;base64,{0}\" type=\"video/mp4\">\n",
        "  Your browser does not support the video tag.\n",
        "  </video>'''.format(b64.decode())\n",
        "\n",
        "  return IPython.display.HTML(tag)\n",
        "\n",
        "def create_policy_eval_video(env, policy, filename, num_episodes=5, fps=30):\n",
        "  filename = filename + \".mp4\"\n",
        "  with imageio.get_writer(filename, fps=fps) as video:\n",
        "    for _ in range(num_episodes):\n",
        "      time_step = env.reset()\n",
        "      video.append_data(env.pyenv.envs[0].render())\n",
        "\n",
        "      while not time_step.is_last():\n",
        "        action_step = policy.action(time_step)\n",
        "        time_step = env.step(action_step.action)\n",
        "        video.append_data(env.pyenv.envs[0].render())\n",
        "\n",
        "  return embed_mp4(filename)"
      ]
    },
    {
      "cell_type": "markdown",
      "metadata": {
        "id": "DeAYErGcCxUU"
      },
      "source": [
        "## Spontaneous Trader"
      ]
    },
    {
      "cell_type": "code",
      "execution_count": 43,
      "metadata": {
        "id": "Mwwcc4gizi3A"
      },
      "outputs": [],
      "source": [
        "random_policy = random_tf_policy.RandomTFPolicy(train_env.time_step_spec(), train_env.action_spec())"
      ]
    },
    {
      "cell_type": "code",
      "execution_count": 44,
      "metadata": {
        "id": "E2HAttsa17t4"
      },
      "outputs": [],
      "source": [
        "time_step = train_py_env.reset()"
      ]
    },
    {
      "cell_type": "code",
      "execution_count": 45,
      "metadata": {
        "colab": {
          "base_uri": "https://localhost:8080/"
        },
        "id": "4FZTW40I2axQ",
        "outputId": "e3156651-4738-4a4f-95fb-988a25ce41b4"
      },
      "outputs": [
        {
          "output_type": "execute_result",
          "data": {
            "text/plain": [
              "BoundedTensorSpec(shape=(), dtype=tf.int64, name='action', minimum=array(0), maximum=array(1))"
            ]
          },
          "metadata": {},
          "execution_count": 45
        }
      ],
      "source": [
        "random_policy.action_spec"
      ]
    },
    {
      "cell_type": "code",
      "execution_count": 46,
      "metadata": {
        "id": "Bmh-cYuE2EXn"
      },
      "outputs": [],
      "source": [
        "time_step = train_env.reset()\n",
        "action_step = random_policy.action(time_step)"
      ]
    },
    {
      "cell_type": "markdown",
      "metadata": {
        "id": "u-iWKiHPRNA7"
      },
      "source": [
        "Below shows spontaneous trader's random trading behavior.\n",
        "\n",
        "The upper half is SPY price curve along with red buy and green sell marks. The lower half is NAV or total asset value.\n",
        "\n",
        "Due to random trading window and random trading actions, re-run below code each time will generate slightly different video."
      ]
    },
    {
      "cell_type": "code",
      "execution_count": 47,
      "metadata": {
        "colab": {
          "base_uri": "https://localhost:8080/",
          "height": 1000
        },
        "id": "LLY13m9nzj0_",
        "outputId": "58d2ba9f-d6f5-454c-f894-106804d1343b"
      },
      "outputs": [
        {
          "output_type": "stream",
          "name": "stderr",
          "text": [
            "/usr/local/lib/python3.10/dist-packages/gym/core.py:43: DeprecationWarning: \u001b[33mWARN: The argument mode in render method is deprecated; use render_mode during environment initialization instead.\n",
            "See here for more information: https://www.gymlibrary.ml/content/api/\u001b[0m\n",
            "  spec = None\n",
            "/usr/local/lib/python3.10/dist-packages/gym/core.py:43: DeprecationWarning: \u001b[33mWARN: The argument mode in render method is deprecated; use render_mode during environment initialization instead.\n",
            "See here for more information: https://www.gymlibrary.ml/content/api/\u001b[0m\n",
            "  spec = None\n",
            "/usr/local/lib/python3.10/dist-packages/gym/core.py:43: DeprecationWarning: \u001b[33mWARN: The argument mode in render method is deprecated; use render_mode during environment initialization instead.\n",
            "See here for more information: https://www.gymlibrary.ml/content/api/\u001b[0m\n",
            "  spec = None\n",
            "/usr/local/lib/python3.10/dist-packages/gym/core.py:43: DeprecationWarning: \u001b[33mWARN: The argument mode in render method is deprecated; use render_mode during environment initialization instead.\n",
            "See here for more information: https://www.gymlibrary.ml/content/api/\u001b[0m\n",
            "  spec = None\n",
            "/usr/local/lib/python3.10/dist-packages/gym/core.py:43: DeprecationWarning: \u001b[33mWARN: The argument mode in render method is deprecated; use render_mode during environment initialization instead.\n",
            "See here for more information: https://www.gymlibrary.ml/content/api/\u001b[0m\n",
            "  spec = None\n",
            "/usr/local/lib/python3.10/dist-packages/gym/core.py:43: DeprecationWarning: \u001b[33mWARN: The argument mode in render method is deprecated; use render_mode during environment initialization instead.\n",
            "See here for more information: https://www.gymlibrary.ml/content/api/\u001b[0m\n",
            "  spec = None\n",
            "/usr/local/lib/python3.10/dist-packages/gym/core.py:43: DeprecationWarning: \u001b[33mWARN: The argument mode in render method is deprecated; use render_mode during environment initialization instead.\n",
            "See here for more information: https://www.gymlibrary.ml/content/api/\u001b[0m\n",
            "  spec = None\n",
            "/usr/local/lib/python3.10/dist-packages/gym/core.py:43: DeprecationWarning: \u001b[33mWARN: The argument mode in render method is deprecated; use render_mode during environment initialization instead.\n",
            "See here for more information: https://www.gymlibrary.ml/content/api/\u001b[0m\n",
            "  spec = None\n",
            "/usr/local/lib/python3.10/dist-packages/gym/core.py:43: DeprecationWarning: \u001b[33mWARN: The argument mode in render method is deprecated; use render_mode during environment initialization instead.\n",
            "See here for more information: https://www.gymlibrary.ml/content/api/\u001b[0m\n",
            "  spec = None\n",
            "/usr/local/lib/python3.10/dist-packages/gym/core.py:43: DeprecationWarning: \u001b[33mWARN: The argument mode in render method is deprecated; use render_mode during environment initialization instead.\n",
            "See here for more information: https://www.gymlibrary.ml/content/api/\u001b[0m\n",
            "  spec = None\n",
            "/usr/local/lib/python3.10/dist-packages/gym/core.py:43: DeprecationWarning: \u001b[33mWARN: The argument mode in render method is deprecated; use render_mode during environment initialization instead.\n",
            "See here for more information: https://www.gymlibrary.ml/content/api/\u001b[0m\n",
            "  spec = None\n",
            "/usr/local/lib/python3.10/dist-packages/gym/core.py:43: DeprecationWarning: \u001b[33mWARN: The argument mode in render method is deprecated; use render_mode during environment initialization instead.\n",
            "See here for more information: https://www.gymlibrary.ml/content/api/\u001b[0m\n",
            "  spec = None\n",
            "/usr/local/lib/python3.10/dist-packages/gym/core.py:43: DeprecationWarning: \u001b[33mWARN: The argument mode in render method is deprecated; use render_mode during environment initialization instead.\n",
            "See here for more information: https://www.gymlibrary.ml/content/api/\u001b[0m\n",
            "  spec = None\n",
            "/usr/local/lib/python3.10/dist-packages/gym/core.py:43: DeprecationWarning: \u001b[33mWARN: The argument mode in render method is deprecated; use render_mode during environment initialization instead.\n",
            "See here for more information: https://www.gymlibrary.ml/content/api/\u001b[0m\n",
            "  spec = None\n",
            "/usr/local/lib/python3.10/dist-packages/gym/core.py:43: DeprecationWarning: \u001b[33mWARN: The argument mode in render method is deprecated; use render_mode during environment initialization instead.\n",
            "See here for more information: https://www.gymlibrary.ml/content/api/\u001b[0m\n",
            "  spec = None\n",
            "/usr/local/lib/python3.10/dist-packages/gym/core.py:43: DeprecationWarning: \u001b[33mWARN: The argument mode in render method is deprecated; use render_mode during environment initialization instead.\n",
            "See here for more information: https://www.gymlibrary.ml/content/api/\u001b[0m\n",
            "  spec = None\n",
            "/usr/local/lib/python3.10/dist-packages/gym/core.py:43: DeprecationWarning: \u001b[33mWARN: The argument mode in render method is deprecated; use render_mode during environment initialization instead.\n",
            "See here for more information: https://www.gymlibrary.ml/content/api/\u001b[0m\n",
            "  spec = None\n",
            "/usr/local/lib/python3.10/dist-packages/gym/core.py:43: DeprecationWarning: \u001b[33mWARN: The argument mode in render method is deprecated; use render_mode during environment initialization instead.\n",
            "See here for more information: https://www.gymlibrary.ml/content/api/\u001b[0m\n",
            "  spec = None\n",
            "/usr/local/lib/python3.10/dist-packages/gym/core.py:43: DeprecationWarning: \u001b[33mWARN: The argument mode in render method is deprecated; use render_mode during environment initialization instead.\n",
            "See here for more information: https://www.gymlibrary.ml/content/api/\u001b[0m\n",
            "  spec = None\n",
            "/usr/local/lib/python3.10/dist-packages/gym/core.py:43: DeprecationWarning: \u001b[33mWARN: The argument mode in render method is deprecated; use render_mode during environment initialization instead.\n",
            "See here for more information: https://www.gymlibrary.ml/content/api/\u001b[0m\n",
            "  spec = None\n",
            "/usr/local/lib/python3.10/dist-packages/gym/core.py:43: DeprecationWarning: \u001b[33mWARN: The argument mode in render method is deprecated; use render_mode during environment initialization instead.\n",
            "See here for more information: https://www.gymlibrary.ml/content/api/\u001b[0m\n",
            "  spec = None\n",
            "/usr/local/lib/python3.10/dist-packages/gym/core.py:43: DeprecationWarning: \u001b[33mWARN: The argument mode in render method is deprecated; use render_mode during environment initialization instead.\n",
            "See here for more information: https://www.gymlibrary.ml/content/api/\u001b[0m\n",
            "  spec = None\n",
            "/usr/local/lib/python3.10/dist-packages/gym/core.py:43: DeprecationWarning: \u001b[33mWARN: The argument mode in render method is deprecated; use render_mode during environment initialization instead.\n",
            "See here for more information: https://www.gymlibrary.ml/content/api/\u001b[0m\n",
            "  spec = None\n",
            "/usr/local/lib/python3.10/dist-packages/gym/core.py:43: DeprecationWarning: \u001b[33mWARN: The argument mode in render method is deprecated; use render_mode during environment initialization instead.\n",
            "See here for more information: https://www.gymlibrary.ml/content/api/\u001b[0m\n",
            "  spec = None\n",
            "/usr/local/lib/python3.10/dist-packages/gym/core.py:43: DeprecationWarning: \u001b[33mWARN: The argument mode in render method is deprecated; use render_mode during environment initialization instead.\n",
            "See here for more information: https://www.gymlibrary.ml/content/api/\u001b[0m\n",
            "  spec = None\n",
            "/usr/local/lib/python3.10/dist-packages/gym/core.py:43: DeprecationWarning: \u001b[33mWARN: The argument mode in render method is deprecated; use render_mode during environment initialization instead.\n",
            "See here for more information: https://www.gymlibrary.ml/content/api/\u001b[0m\n",
            "  spec = None\n",
            "/usr/local/lib/python3.10/dist-packages/gym/core.py:43: DeprecationWarning: \u001b[33mWARN: The argument mode in render method is deprecated; use render_mode during environment initialization instead.\n",
            "See here for more information: https://www.gymlibrary.ml/content/api/\u001b[0m\n",
            "  spec = None\n",
            "/usr/local/lib/python3.10/dist-packages/gym/core.py:43: DeprecationWarning: \u001b[33mWARN: The argument mode in render method is deprecated; use render_mode during environment initialization instead.\n",
            "See here for more information: https://www.gymlibrary.ml/content/api/\u001b[0m\n",
            "  spec = None\n",
            "/usr/local/lib/python3.10/dist-packages/gym/core.py:43: DeprecationWarning: \u001b[33mWARN: The argument mode in render method is deprecated; use render_mode during environment initialization instead.\n",
            "See here for more information: https://www.gymlibrary.ml/content/api/\u001b[0m\n",
            "  spec = None\n",
            "/usr/local/lib/python3.10/dist-packages/gym/core.py:43: DeprecationWarning: \u001b[33mWARN: The argument mode in render method is deprecated; use render_mode during environment initialization instead.\n",
            "See here for more information: https://www.gymlibrary.ml/content/api/\u001b[0m\n",
            "  spec = None\n",
            "/usr/local/lib/python3.10/dist-packages/gym/core.py:43: DeprecationWarning: \u001b[33mWARN: The argument mode in render method is deprecated; use render_mode during environment initialization instead.\n",
            "See here for more information: https://www.gymlibrary.ml/content/api/\u001b[0m\n",
            "  spec = None\n",
            "/usr/local/lib/python3.10/dist-packages/gym/core.py:43: DeprecationWarning: \u001b[33mWARN: The argument mode in render method is deprecated; use render_mode during environment initialization instead.\n",
            "See here for more information: https://www.gymlibrary.ml/content/api/\u001b[0m\n",
            "  spec = None\n",
            "/usr/local/lib/python3.10/dist-packages/gym/core.py:43: DeprecationWarning: \u001b[33mWARN: The argument mode in render method is deprecated; use render_mode during environment initialization instead.\n",
            "See here for more information: https://www.gymlibrary.ml/content/api/\u001b[0m\n",
            "  spec = None\n",
            "/usr/local/lib/python3.10/dist-packages/gym/core.py:43: DeprecationWarning: \u001b[33mWARN: The argument mode in render method is deprecated; use render_mode during environment initialization instead.\n",
            "See here for more information: https://www.gymlibrary.ml/content/api/\u001b[0m\n",
            "  spec = None\n",
            "/usr/local/lib/python3.10/dist-packages/gym/core.py:43: DeprecationWarning: \u001b[33mWARN: The argument mode in render method is deprecated; use render_mode during environment initialization instead.\n",
            "See here for more information: https://www.gymlibrary.ml/content/api/\u001b[0m\n",
            "  spec = None\n",
            "/usr/local/lib/python3.10/dist-packages/gym/core.py:43: DeprecationWarning: \u001b[33mWARN: The argument mode in render method is deprecated; use render_mode during environment initialization instead.\n",
            "See here for more information: https://www.gymlibrary.ml/content/api/\u001b[0m\n",
            "  spec = None\n",
            "/usr/local/lib/python3.10/dist-packages/gym/core.py:43: DeprecationWarning: \u001b[33mWARN: The argument mode in render method is deprecated; use render_mode during environment initialization instead.\n",
            "See here for more information: https://www.gymlibrary.ml/content/api/\u001b[0m\n",
            "  spec = None\n",
            "/usr/local/lib/python3.10/dist-packages/gym/core.py:43: DeprecationWarning: \u001b[33mWARN: The argument mode in render method is deprecated; use render_mode during environment initialization instead.\n",
            "See here for more information: https://www.gymlibrary.ml/content/api/\u001b[0m\n",
            "  spec = None\n",
            "/usr/local/lib/python3.10/dist-packages/gym/core.py:43: DeprecationWarning: \u001b[33mWARN: The argument mode in render method is deprecated; use render_mode during environment initialization instead.\n",
            "See here for more information: https://www.gymlibrary.ml/content/api/\u001b[0m\n",
            "  spec = None\n",
            "/usr/local/lib/python3.10/dist-packages/gym/core.py:43: DeprecationWarning: \u001b[33mWARN: The argument mode in render method is deprecated; use render_mode during environment initialization instead.\n",
            "See here for more information: https://www.gymlibrary.ml/content/api/\u001b[0m\n",
            "  spec = None\n",
            "/usr/local/lib/python3.10/dist-packages/gym/core.py:43: DeprecationWarning: \u001b[33mWARN: The argument mode in render method is deprecated; use render_mode during environment initialization instead.\n",
            "See here for more information: https://www.gymlibrary.ml/content/api/\u001b[0m\n",
            "  spec = None\n",
            "/usr/local/lib/python3.10/dist-packages/gym/core.py:43: DeprecationWarning: \u001b[33mWARN: The argument mode in render method is deprecated; use render_mode during environment initialization instead.\n",
            "See here for more information: https://www.gymlibrary.ml/content/api/\u001b[0m\n",
            "  spec = None\n",
            "/usr/local/lib/python3.10/dist-packages/gym/core.py:43: DeprecationWarning: \u001b[33mWARN: The argument mode in render method is deprecated; use render_mode during environment initialization instead.\n",
            "See here for more information: https://www.gymlibrary.ml/content/api/\u001b[0m\n",
            "  spec = None\n",
            "/usr/local/lib/python3.10/dist-packages/gym/core.py:43: DeprecationWarning: \u001b[33mWARN: The argument mode in render method is deprecated; use render_mode during environment initialization instead.\n",
            "See here for more information: https://www.gymlibrary.ml/content/api/\u001b[0m\n",
            "  spec = None\n",
            "/usr/local/lib/python3.10/dist-packages/gym/core.py:43: DeprecationWarning: \u001b[33mWARN: The argument mode in render method is deprecated; use render_mode during environment initialization instead.\n",
            "See here for more information: https://www.gymlibrary.ml/content/api/\u001b[0m\n",
            "  spec = None\n",
            "/usr/local/lib/python3.10/dist-packages/gym/core.py:43: DeprecationWarning: \u001b[33mWARN: The argument mode in render method is deprecated; use render_mode during environment initialization instead.\n",
            "See here for more information: https://www.gymlibrary.ml/content/api/\u001b[0m\n",
            "  spec = None\n",
            "/usr/local/lib/python3.10/dist-packages/gym/core.py:43: DeprecationWarning: \u001b[33mWARN: The argument mode in render method is deprecated; use render_mode during environment initialization instead.\n",
            "See here for more information: https://www.gymlibrary.ml/content/api/\u001b[0m\n",
            "  spec = None\n",
            "/usr/local/lib/python3.10/dist-packages/gym/core.py:43: DeprecationWarning: \u001b[33mWARN: The argument mode in render method is deprecated; use render_mode during environment initialization instead.\n",
            "See here for more information: https://www.gymlibrary.ml/content/api/\u001b[0m\n",
            "  spec = None\n",
            "/usr/local/lib/python3.10/dist-packages/gym/core.py:43: DeprecationWarning: \u001b[33mWARN: The argument mode in render method is deprecated; use render_mode during environment initialization instead.\n",
            "See here for more information: https://www.gymlibrary.ml/content/api/\u001b[0m\n",
            "  spec = None\n",
            "/usr/local/lib/python3.10/dist-packages/gym/core.py:43: DeprecationWarning: \u001b[33mWARN: The argument mode in render method is deprecated; use render_mode during environment initialization instead.\n",
            "See here for more information: https://www.gymlibrary.ml/content/api/\u001b[0m\n",
            "  spec = None\n",
            "/usr/local/lib/python3.10/dist-packages/gym/core.py:43: DeprecationWarning: \u001b[33mWARN: The argument mode in render method is deprecated; use render_mode during environment initialization instead.\n",
            "See here for more information: https://www.gymlibrary.ml/content/api/\u001b[0m\n",
            "  spec = None\n",
            "/usr/local/lib/python3.10/dist-packages/gym/core.py:43: DeprecationWarning: \u001b[33mWARN: The argument mode in render method is deprecated; use render_mode during environment initialization instead.\n",
            "See here for more information: https://www.gymlibrary.ml/content/api/\u001b[0m\n",
            "  spec = None\n",
            "/usr/local/lib/python3.10/dist-packages/gym/core.py:43: DeprecationWarning: \u001b[33mWARN: The argument mode in render method is deprecated; use render_mode during environment initialization instead.\n",
            "See here for more information: https://www.gymlibrary.ml/content/api/\u001b[0m\n",
            "  spec = None\n",
            "/usr/local/lib/python3.10/dist-packages/gym/core.py:43: DeprecationWarning: \u001b[33mWARN: The argument mode in render method is deprecated; use render_mode during environment initialization instead.\n",
            "See here for more information: https://www.gymlibrary.ml/content/api/\u001b[0m\n",
            "  spec = None\n",
            "/usr/local/lib/python3.10/dist-packages/gym/core.py:43: DeprecationWarning: \u001b[33mWARN: The argument mode in render method is deprecated; use render_mode during environment initialization instead.\n",
            "See here for more information: https://www.gymlibrary.ml/content/api/\u001b[0m\n",
            "  spec = None\n",
            "/usr/local/lib/python3.10/dist-packages/gym/core.py:43: DeprecationWarning: \u001b[33mWARN: The argument mode in render method is deprecated; use render_mode during environment initialization instead.\n",
            "See here for more information: https://www.gymlibrary.ml/content/api/\u001b[0m\n",
            "  spec = None\n",
            "/usr/local/lib/python3.10/dist-packages/gym/core.py:43: DeprecationWarning: \u001b[33mWARN: The argument mode in render method is deprecated; use render_mode during environment initialization instead.\n",
            "See here for more information: https://www.gymlibrary.ml/content/api/\u001b[0m\n",
            "  spec = None\n",
            "/usr/local/lib/python3.10/dist-packages/gym/core.py:43: DeprecationWarning: \u001b[33mWARN: The argument mode in render method is deprecated; use render_mode during environment initialization instead.\n",
            "See here for more information: https://www.gymlibrary.ml/content/api/\u001b[0m\n",
            "  spec = None\n",
            "/usr/local/lib/python3.10/dist-packages/gym/core.py:43: DeprecationWarning: \u001b[33mWARN: The argument mode in render method is deprecated; use render_mode during environment initialization instead.\n",
            "See here for more information: https://www.gymlibrary.ml/content/api/\u001b[0m\n",
            "  spec = None\n",
            "/usr/local/lib/python3.10/dist-packages/gym/core.py:43: DeprecationWarning: \u001b[33mWARN: The argument mode in render method is deprecated; use render_mode during environment initialization instead.\n",
            "See here for more information: https://www.gymlibrary.ml/content/api/\u001b[0m\n",
            "  spec = None\n",
            "/usr/local/lib/python3.10/dist-packages/gym/core.py:43: DeprecationWarning: \u001b[33mWARN: The argument mode in render method is deprecated; use render_mode during environment initialization instead.\n",
            "See here for more information: https://www.gymlibrary.ml/content/api/\u001b[0m\n",
            "  spec = None\n",
            "/usr/local/lib/python3.10/dist-packages/gym/core.py:43: DeprecationWarning: \u001b[33mWARN: The argument mode in render method is deprecated; use render_mode during environment initialization instead.\n",
            "See here for more information: https://www.gymlibrary.ml/content/api/\u001b[0m\n",
            "  spec = None\n",
            "/usr/local/lib/python3.10/dist-packages/gym/core.py:43: DeprecationWarning: \u001b[33mWARN: The argument mode in render method is deprecated; use render_mode during environment initialization instead.\n",
            "See here for more information: https://www.gymlibrary.ml/content/api/\u001b[0m\n",
            "  spec = None\n",
            "/usr/local/lib/python3.10/dist-packages/gym/core.py:43: DeprecationWarning: \u001b[33mWARN: The argument mode in render method is deprecated; use render_mode during environment initialization instead.\n",
            "See here for more information: https://www.gymlibrary.ml/content/api/\u001b[0m\n",
            "  spec = None\n",
            "/usr/local/lib/python3.10/dist-packages/gym/core.py:43: DeprecationWarning: \u001b[33mWARN: The argument mode in render method is deprecated; use render_mode during environment initialization instead.\n",
            "See here for more information: https://www.gymlibrary.ml/content/api/\u001b[0m\n",
            "  spec = None\n",
            "/usr/local/lib/python3.10/dist-packages/gym/core.py:43: DeprecationWarning: \u001b[33mWARN: The argument mode in render method is deprecated; use render_mode during environment initialization instead.\n",
            "See here for more information: https://www.gymlibrary.ml/content/api/\u001b[0m\n",
            "  spec = None\n",
            "/usr/local/lib/python3.10/dist-packages/gym/core.py:43: DeprecationWarning: \u001b[33mWARN: The argument mode in render method is deprecated; use render_mode during environment initialization instead.\n",
            "See here for more information: https://www.gymlibrary.ml/content/api/\u001b[0m\n",
            "  spec = None\n",
            "/usr/local/lib/python3.10/dist-packages/gym/core.py:43: DeprecationWarning: \u001b[33mWARN: The argument mode in render method is deprecated; use render_mode during environment initialization instead.\n",
            "See here for more information: https://www.gymlibrary.ml/content/api/\u001b[0m\n",
            "  spec = None\n",
            "/usr/local/lib/python3.10/dist-packages/gym/core.py:43: DeprecationWarning: \u001b[33mWARN: The argument mode in render method is deprecated; use render_mode during environment initialization instead.\n",
            "See here for more information: https://www.gymlibrary.ml/content/api/\u001b[0m\n",
            "  spec = None\n",
            "/usr/local/lib/python3.10/dist-packages/gym/core.py:43: DeprecationWarning: \u001b[33mWARN: The argument mode in render method is deprecated; use render_mode during environment initialization instead.\n",
            "See here for more information: https://www.gymlibrary.ml/content/api/\u001b[0m\n",
            "  spec = None\n",
            "/usr/local/lib/python3.10/dist-packages/gym/core.py:43: DeprecationWarning: \u001b[33mWARN: The argument mode in render method is deprecated; use render_mode during environment initialization instead.\n",
            "See here for more information: https://www.gymlibrary.ml/content/api/\u001b[0m\n",
            "  spec = None\n",
            "/usr/local/lib/python3.10/dist-packages/gym/core.py:43: DeprecationWarning: \u001b[33mWARN: The argument mode in render method is deprecated; use render_mode during environment initialization instead.\n",
            "See here for more information: https://www.gymlibrary.ml/content/api/\u001b[0m\n",
            "  spec = None\n",
            "/usr/local/lib/python3.10/dist-packages/gym/core.py:43: DeprecationWarning: \u001b[33mWARN: The argument mode in render method is deprecated; use render_mode during environment initialization instead.\n",
            "See here for more information: https://www.gymlibrary.ml/content/api/\u001b[0m\n",
            "  spec = None\n",
            "/usr/local/lib/python3.10/dist-packages/gym/core.py:43: DeprecationWarning: \u001b[33mWARN: The argument mode in render method is deprecated; use render_mode during environment initialization instead.\n",
            "See here for more information: https://www.gymlibrary.ml/content/api/\u001b[0m\n",
            "  spec = None\n",
            "/usr/local/lib/python3.10/dist-packages/gym/core.py:43: DeprecationWarning: \u001b[33mWARN: The argument mode in render method is deprecated; use render_mode during environment initialization instead.\n",
            "See here for more information: https://www.gymlibrary.ml/content/api/\u001b[0m\n",
            "  spec = None\n",
            "/usr/local/lib/python3.10/dist-packages/gym/core.py:43: DeprecationWarning: \u001b[33mWARN: The argument mode in render method is deprecated; use render_mode during environment initialization instead.\n",
            "See here for more information: https://www.gymlibrary.ml/content/api/\u001b[0m\n",
            "  spec = None\n",
            "/usr/local/lib/python3.10/dist-packages/gym/core.py:43: DeprecationWarning: \u001b[33mWARN: The argument mode in render method is deprecated; use render_mode during environment initialization instead.\n",
            "See here for more information: https://www.gymlibrary.ml/content/api/\u001b[0m\n",
            "  spec = None\n",
            "/usr/local/lib/python3.10/dist-packages/gym/core.py:43: DeprecationWarning: \u001b[33mWARN: The argument mode in render method is deprecated; use render_mode during environment initialization instead.\n",
            "See here for more information: https://www.gymlibrary.ml/content/api/\u001b[0m\n",
            "  spec = None\n",
            "/usr/local/lib/python3.10/dist-packages/gym/core.py:43: DeprecationWarning: \u001b[33mWARN: The argument mode in render method is deprecated; use render_mode during environment initialization instead.\n",
            "See here for more information: https://www.gymlibrary.ml/content/api/\u001b[0m\n",
            "  spec = None\n",
            "/usr/local/lib/python3.10/dist-packages/gym/core.py:43: DeprecationWarning: \u001b[33mWARN: The argument mode in render method is deprecated; use render_mode during environment initialization instead.\n",
            "See here for more information: https://www.gymlibrary.ml/content/api/\u001b[0m\n",
            "  spec = None\n",
            "/usr/local/lib/python3.10/dist-packages/gym/core.py:43: DeprecationWarning: \u001b[33mWARN: The argument mode in render method is deprecated; use render_mode during environment initialization instead.\n",
            "See here for more information: https://www.gymlibrary.ml/content/api/\u001b[0m\n",
            "  spec = None\n",
            "/usr/local/lib/python3.10/dist-packages/gym/core.py:43: DeprecationWarning: \u001b[33mWARN: The argument mode in render method is deprecated; use render_mode during environment initialization instead.\n",
            "See here for more information: https://www.gymlibrary.ml/content/api/\u001b[0m\n",
            "  spec = None\n",
            "/usr/local/lib/python3.10/dist-packages/gym/core.py:43: DeprecationWarning: \u001b[33mWARN: The argument mode in render method is deprecated; use render_mode during environment initialization instead.\n",
            "See here for more information: https://www.gymlibrary.ml/content/api/\u001b[0m\n",
            "  spec = None\n",
            "/usr/local/lib/python3.10/dist-packages/gym/core.py:43: DeprecationWarning: \u001b[33mWARN: The argument mode in render method is deprecated; use render_mode during environment initialization instead.\n",
            "See here for more information: https://www.gymlibrary.ml/content/api/\u001b[0m\n",
            "  spec = None\n",
            "/usr/local/lib/python3.10/dist-packages/gym/core.py:43: DeprecationWarning: \u001b[33mWARN: The argument mode in render method is deprecated; use render_mode during environment initialization instead.\n",
            "See here for more information: https://www.gymlibrary.ml/content/api/\u001b[0m\n",
            "  spec = None\n",
            "/usr/local/lib/python3.10/dist-packages/gym/core.py:43: DeprecationWarning: \u001b[33mWARN: The argument mode in render method is deprecated; use render_mode during environment initialization instead.\n",
            "See here for more information: https://www.gymlibrary.ml/content/api/\u001b[0m\n",
            "  spec = None\n",
            "/usr/local/lib/python3.10/dist-packages/gym/core.py:43: DeprecationWarning: \u001b[33mWARN: The argument mode in render method is deprecated; use render_mode during environment initialization instead.\n",
            "See here for more information: https://www.gymlibrary.ml/content/api/\u001b[0m\n",
            "  spec = None\n",
            "/usr/local/lib/python3.10/dist-packages/gym/core.py:43: DeprecationWarning: \u001b[33mWARN: The argument mode in render method is deprecated; use render_mode during environment initialization instead.\n",
            "See here for more information: https://www.gymlibrary.ml/content/api/\u001b[0m\n",
            "  spec = None\n",
            "/usr/local/lib/python3.10/dist-packages/gym/core.py:43: DeprecationWarning: \u001b[33mWARN: The argument mode in render method is deprecated; use render_mode during environment initialization instead.\n",
            "See here for more information: https://www.gymlibrary.ml/content/api/\u001b[0m\n",
            "  spec = None\n",
            "/usr/local/lib/python3.10/dist-packages/gym/core.py:43: DeprecationWarning: \u001b[33mWARN: The argument mode in render method is deprecated; use render_mode during environment initialization instead.\n",
            "See here for more information: https://www.gymlibrary.ml/content/api/\u001b[0m\n",
            "  spec = None\n",
            "/usr/local/lib/python3.10/dist-packages/gym/core.py:43: DeprecationWarning: \u001b[33mWARN: The argument mode in render method is deprecated; use render_mode during environment initialization instead.\n",
            "See here for more information: https://www.gymlibrary.ml/content/api/\u001b[0m\n",
            "  spec = None\n",
            "/usr/local/lib/python3.10/dist-packages/gym/core.py:43: DeprecationWarning: \u001b[33mWARN: The argument mode in render method is deprecated; use render_mode during environment initialization instead.\n",
            "See here for more information: https://www.gymlibrary.ml/content/api/\u001b[0m\n",
            "  spec = None\n",
            "/usr/local/lib/python3.10/dist-packages/gym/core.py:43: DeprecationWarning: \u001b[33mWARN: The argument mode in render method is deprecated; use render_mode during environment initialization instead.\n",
            "See here for more information: https://www.gymlibrary.ml/content/api/\u001b[0m\n",
            "  spec = None\n",
            "/usr/local/lib/python3.10/dist-packages/gym/core.py:43: DeprecationWarning: \u001b[33mWARN: The argument mode in render method is deprecated; use render_mode during environment initialization instead.\n",
            "See here for more information: https://www.gymlibrary.ml/content/api/\u001b[0m\n",
            "  spec = None\n",
            "/usr/local/lib/python3.10/dist-packages/gym/core.py:43: DeprecationWarning: \u001b[33mWARN: The argument mode in render method is deprecated; use render_mode during environment initialization instead.\n",
            "See here for more information: https://www.gymlibrary.ml/content/api/\u001b[0m\n",
            "  spec = None\n",
            "/usr/local/lib/python3.10/dist-packages/gym/core.py:43: DeprecationWarning: \u001b[33mWARN: The argument mode in render method is deprecated; use render_mode during environment initialization instead.\n",
            "See here for more information: https://www.gymlibrary.ml/content/api/\u001b[0m\n",
            "  spec = None\n",
            "/usr/local/lib/python3.10/dist-packages/gym/core.py:43: DeprecationWarning: \u001b[33mWARN: The argument mode in render method is deprecated; use render_mode during environment initialization instead.\n",
            "See here for more information: https://www.gymlibrary.ml/content/api/\u001b[0m\n",
            "  spec = None\n",
            "/usr/local/lib/python3.10/dist-packages/gym/core.py:43: DeprecationWarning: \u001b[33mWARN: The argument mode in render method is deprecated; use render_mode during environment initialization instead.\n",
            "See here for more information: https://www.gymlibrary.ml/content/api/\u001b[0m\n",
            "  spec = None\n",
            "/usr/local/lib/python3.10/dist-packages/gym/core.py:43: DeprecationWarning: \u001b[33mWARN: The argument mode in render method is deprecated; use render_mode during environment initialization instead.\n",
            "See here for more information: https://www.gymlibrary.ml/content/api/\u001b[0m\n",
            "  spec = None\n",
            "/usr/local/lib/python3.10/dist-packages/gym/core.py:43: DeprecationWarning: \u001b[33mWARN: The argument mode in render method is deprecated; use render_mode during environment initialization instead.\n",
            "See here for more information: https://www.gymlibrary.ml/content/api/\u001b[0m\n",
            "  spec = None\n",
            "/usr/local/lib/python3.10/dist-packages/gym/core.py:43: DeprecationWarning: \u001b[33mWARN: The argument mode in render method is deprecated; use render_mode during environment initialization instead.\n",
            "See here for more information: https://www.gymlibrary.ml/content/api/\u001b[0m\n",
            "  spec = None\n",
            "/usr/local/lib/python3.10/dist-packages/gym/core.py:43: DeprecationWarning: \u001b[33mWARN: The argument mode in render method is deprecated; use render_mode during environment initialization instead.\n",
            "See here for more information: https://www.gymlibrary.ml/content/api/\u001b[0m\n",
            "  spec = None\n",
            "/usr/local/lib/python3.10/dist-packages/gym/core.py:43: DeprecationWarning: \u001b[33mWARN: The argument mode in render method is deprecated; use render_mode during environment initialization instead.\n",
            "See here for more information: https://www.gymlibrary.ml/content/api/\u001b[0m\n",
            "  spec = None\n",
            "/usr/local/lib/python3.10/dist-packages/gym/core.py:43: DeprecationWarning: \u001b[33mWARN: The argument mode in render method is deprecated; use render_mode during environment initialization instead.\n",
            "See here for more information: https://www.gymlibrary.ml/content/api/\u001b[0m\n",
            "  spec = None\n",
            "/usr/local/lib/python3.10/dist-packages/gym/core.py:43: DeprecationWarning: \u001b[33mWARN: The argument mode in render method is deprecated; use render_mode during environment initialization instead.\n",
            "See here for more information: https://www.gymlibrary.ml/content/api/\u001b[0m\n",
            "  spec = None\n",
            "/usr/local/lib/python3.10/dist-packages/gym/core.py:43: DeprecationWarning: \u001b[33mWARN: The argument mode in render method is deprecated; use render_mode during environment initialization instead.\n",
            "See here for more information: https://www.gymlibrary.ml/content/api/\u001b[0m\n",
            "  spec = None\n",
            "/usr/local/lib/python3.10/dist-packages/gym/core.py:43: DeprecationWarning: \u001b[33mWARN: The argument mode in render method is deprecated; use render_mode during environment initialization instead.\n",
            "See here for more information: https://www.gymlibrary.ml/content/api/\u001b[0m\n",
            "  spec = None\n",
            "/usr/local/lib/python3.10/dist-packages/gym/core.py:43: DeprecationWarning: \u001b[33mWARN: The argument mode in render method is deprecated; use render_mode during environment initialization instead.\n",
            "See here for more information: https://www.gymlibrary.ml/content/api/\u001b[0m\n",
            "  spec = None\n",
            "/usr/local/lib/python3.10/dist-packages/gym/core.py:43: DeprecationWarning: \u001b[33mWARN: The argument mode in render method is deprecated; use render_mode during environment initialization instead.\n",
            "See here for more information: https://www.gymlibrary.ml/content/api/\u001b[0m\n",
            "  spec = None\n",
            "/usr/local/lib/python3.10/dist-packages/gym/core.py:43: DeprecationWarning: \u001b[33mWARN: The argument mode in render method is deprecated; use render_mode during environment initialization instead.\n",
            "See here for more information: https://www.gymlibrary.ml/content/api/\u001b[0m\n",
            "  spec = None\n",
            "/usr/local/lib/python3.10/dist-packages/gym/core.py:43: DeprecationWarning: \u001b[33mWARN: The argument mode in render method is deprecated; use render_mode during environment initialization instead.\n",
            "See here for more information: https://www.gymlibrary.ml/content/api/\u001b[0m\n",
            "  spec = None\n",
            "/usr/local/lib/python3.10/dist-packages/gym/core.py:43: DeprecationWarning: \u001b[33mWARN: The argument mode in render method is deprecated; use render_mode during environment initialization instead.\n",
            "See here for more information: https://www.gymlibrary.ml/content/api/\u001b[0m\n",
            "  spec = None\n",
            "/usr/local/lib/python3.10/dist-packages/gym/core.py:43: DeprecationWarning: \u001b[33mWARN: The argument mode in render method is deprecated; use render_mode during environment initialization instead.\n",
            "See here for more information: https://www.gymlibrary.ml/content/api/\u001b[0m\n",
            "  spec = None\n",
            "/usr/local/lib/python3.10/dist-packages/gym/core.py:43: DeprecationWarning: \u001b[33mWARN: The argument mode in render method is deprecated; use render_mode during environment initialization instead.\n",
            "See here for more information: https://www.gymlibrary.ml/content/api/\u001b[0m\n",
            "  spec = None\n",
            "/usr/local/lib/python3.10/dist-packages/gym/core.py:43: DeprecationWarning: \u001b[33mWARN: The argument mode in render method is deprecated; use render_mode during environment initialization instead.\n",
            "See here for more information: https://www.gymlibrary.ml/content/api/\u001b[0m\n",
            "  spec = None\n",
            "/usr/local/lib/python3.10/dist-packages/gym/core.py:43: DeprecationWarning: \u001b[33mWARN: The argument mode in render method is deprecated; use render_mode during environment initialization instead.\n",
            "See here for more information: https://www.gymlibrary.ml/content/api/\u001b[0m\n",
            "  spec = None\n",
            "/usr/local/lib/python3.10/dist-packages/gym/core.py:43: DeprecationWarning: \u001b[33mWARN: The argument mode in render method is deprecated; use render_mode during environment initialization instead.\n",
            "See here for more information: https://www.gymlibrary.ml/content/api/\u001b[0m\n",
            "  spec = None\n",
            "/usr/local/lib/python3.10/dist-packages/gym/core.py:43: DeprecationWarning: \u001b[33mWARN: The argument mode in render method is deprecated; use render_mode during environment initialization instead.\n",
            "See here for more information: https://www.gymlibrary.ml/content/api/\u001b[0m\n",
            "  spec = None\n",
            "/usr/local/lib/python3.10/dist-packages/gym/core.py:43: DeprecationWarning: \u001b[33mWARN: The argument mode in render method is deprecated; use render_mode during environment initialization instead.\n",
            "See here for more information: https://www.gymlibrary.ml/content/api/\u001b[0m\n",
            "  spec = None\n",
            "/usr/local/lib/python3.10/dist-packages/gym/core.py:43: DeprecationWarning: \u001b[33mWARN: The argument mode in render method is deprecated; use render_mode during environment initialization instead.\n",
            "See here for more information: https://www.gymlibrary.ml/content/api/\u001b[0m\n",
            "  spec = None\n",
            "/usr/local/lib/python3.10/dist-packages/gym/core.py:43: DeprecationWarning: \u001b[33mWARN: The argument mode in render method is deprecated; use render_mode during environment initialization instead.\n",
            "See here for more information: https://www.gymlibrary.ml/content/api/\u001b[0m\n",
            "  spec = None\n",
            "/usr/local/lib/python3.10/dist-packages/gym/core.py:43: DeprecationWarning: \u001b[33mWARN: The argument mode in render method is deprecated; use render_mode during environment initialization instead.\n",
            "See here for more information: https://www.gymlibrary.ml/content/api/\u001b[0m\n",
            "  spec = None\n",
            "/usr/local/lib/python3.10/dist-packages/gym/core.py:43: DeprecationWarning: \u001b[33mWARN: The argument mode in render method is deprecated; use render_mode during environment initialization instead.\n",
            "See here for more information: https://www.gymlibrary.ml/content/api/\u001b[0m\n",
            "  spec = None\n",
            "/usr/local/lib/python3.10/dist-packages/gym/core.py:43: DeprecationWarning: \u001b[33mWARN: The argument mode in render method is deprecated; use render_mode during environment initialization instead.\n",
            "See here for more information: https://www.gymlibrary.ml/content/api/\u001b[0m\n",
            "  spec = None\n",
            "/usr/local/lib/python3.10/dist-packages/gym/core.py:43: DeprecationWarning: \u001b[33mWARN: The argument mode in render method is deprecated; use render_mode during environment initialization instead.\n",
            "See here for more information: https://www.gymlibrary.ml/content/api/\u001b[0m\n",
            "  spec = None\n",
            "/usr/local/lib/python3.10/dist-packages/gym/core.py:43: DeprecationWarning: \u001b[33mWARN: The argument mode in render method is deprecated; use render_mode during environment initialization instead.\n",
            "See here for more information: https://www.gymlibrary.ml/content/api/\u001b[0m\n",
            "  spec = None\n",
            "/usr/local/lib/python3.10/dist-packages/gym/core.py:43: DeprecationWarning: \u001b[33mWARN: The argument mode in render method is deprecated; use render_mode during environment initialization instead.\n",
            "See here for more information: https://www.gymlibrary.ml/content/api/\u001b[0m\n",
            "  spec = None\n",
            "/usr/local/lib/python3.10/dist-packages/gym/core.py:43: DeprecationWarning: \u001b[33mWARN: The argument mode in render method is deprecated; use render_mode during environment initialization instead.\n",
            "See here for more information: https://www.gymlibrary.ml/content/api/\u001b[0m\n",
            "  spec = None\n",
            "/usr/local/lib/python3.10/dist-packages/gym/core.py:43: DeprecationWarning: \u001b[33mWARN: The argument mode in render method is deprecated; use render_mode during environment initialization instead.\n",
            "See here for more information: https://www.gymlibrary.ml/content/api/\u001b[0m\n",
            "  spec = None\n",
            "/usr/local/lib/python3.10/dist-packages/gym/core.py:43: DeprecationWarning: \u001b[33mWARN: The argument mode in render method is deprecated; use render_mode during environment initialization instead.\n",
            "See here for more information: https://www.gymlibrary.ml/content/api/\u001b[0m\n",
            "  spec = None\n",
            "/usr/local/lib/python3.10/dist-packages/gym/core.py:43: DeprecationWarning: \u001b[33mWARN: The argument mode in render method is deprecated; use render_mode during environment initialization instead.\n",
            "See here for more information: https://www.gymlibrary.ml/content/api/\u001b[0m\n",
            "  spec = None\n",
            "/usr/local/lib/python3.10/dist-packages/gym/core.py:43: DeprecationWarning: \u001b[33mWARN: The argument mode in render method is deprecated; use render_mode during environment initialization instead.\n",
            "See here for more information: https://www.gymlibrary.ml/content/api/\u001b[0m\n",
            "  spec = None\n",
            "/usr/local/lib/python3.10/dist-packages/gym/core.py:43: DeprecationWarning: \u001b[33mWARN: The argument mode in render method is deprecated; use render_mode during environment initialization instead.\n",
            "See here for more information: https://www.gymlibrary.ml/content/api/\u001b[0m\n",
            "  spec = None\n",
            "/usr/local/lib/python3.10/dist-packages/gym/core.py:43: DeprecationWarning: \u001b[33mWARN: The argument mode in render method is deprecated; use render_mode during environment initialization instead.\n",
            "See here for more information: https://www.gymlibrary.ml/content/api/\u001b[0m\n",
            "  spec = None\n",
            "/usr/local/lib/python3.10/dist-packages/gym/core.py:43: DeprecationWarning: \u001b[33mWARN: The argument mode in render method is deprecated; use render_mode during environment initialization instead.\n",
            "See here for more information: https://www.gymlibrary.ml/content/api/\u001b[0m\n",
            "  spec = None\n",
            "/usr/local/lib/python3.10/dist-packages/gym/core.py:43: DeprecationWarning: \u001b[33mWARN: The argument mode in render method is deprecated; use render_mode during environment initialization instead.\n",
            "See here for more information: https://www.gymlibrary.ml/content/api/\u001b[0m\n",
            "  spec = None\n",
            "/usr/local/lib/python3.10/dist-packages/gym/core.py:43: DeprecationWarning: \u001b[33mWARN: The argument mode in render method is deprecated; use render_mode during environment initialization instead.\n",
            "See here for more information: https://www.gymlibrary.ml/content/api/\u001b[0m\n",
            "  spec = None\n",
            "/usr/local/lib/python3.10/dist-packages/gym/core.py:43: DeprecationWarning: \u001b[33mWARN: The argument mode in render method is deprecated; use render_mode during environment initialization instead.\n",
            "See here for more information: https://www.gymlibrary.ml/content/api/\u001b[0m\n",
            "  spec = None\n",
            "/usr/local/lib/python3.10/dist-packages/gym/core.py:43: DeprecationWarning: \u001b[33mWARN: The argument mode in render method is deprecated; use render_mode during environment initialization instead.\n",
            "See here for more information: https://www.gymlibrary.ml/content/api/\u001b[0m\n",
            "  spec = None\n",
            "/usr/local/lib/python3.10/dist-packages/gym/core.py:43: DeprecationWarning: \u001b[33mWARN: The argument mode in render method is deprecated; use render_mode during environment initialization instead.\n",
            "See here for more information: https://www.gymlibrary.ml/content/api/\u001b[0m\n",
            "  spec = None\n",
            "/usr/local/lib/python3.10/dist-packages/gym/core.py:43: DeprecationWarning: \u001b[33mWARN: The argument mode in render method is deprecated; use render_mode during environment initialization instead.\n",
            "See here for more information: https://www.gymlibrary.ml/content/api/\u001b[0m\n",
            "  spec = None\n",
            "/usr/local/lib/python3.10/dist-packages/gym/core.py:43: DeprecationWarning: \u001b[33mWARN: The argument mode in render method is deprecated; use render_mode during environment initialization instead.\n",
            "See here for more information: https://www.gymlibrary.ml/content/api/\u001b[0m\n",
            "  spec = None\n",
            "/usr/local/lib/python3.10/dist-packages/gym/core.py:43: DeprecationWarning: \u001b[33mWARN: The argument mode in render method is deprecated; use render_mode during environment initialization instead.\n",
            "See here for more information: https://www.gymlibrary.ml/content/api/\u001b[0m\n",
            "  spec = None\n",
            "/usr/local/lib/python3.10/dist-packages/gym/core.py:43: DeprecationWarning: \u001b[33mWARN: The argument mode in render method is deprecated; use render_mode during environment initialization instead.\n",
            "See here for more information: https://www.gymlibrary.ml/content/api/\u001b[0m\n",
            "  spec = None\n",
            "/usr/local/lib/python3.10/dist-packages/gym/core.py:43: DeprecationWarning: \u001b[33mWARN: The argument mode in render method is deprecated; use render_mode during environment initialization instead.\n",
            "See here for more information: https://www.gymlibrary.ml/content/api/\u001b[0m\n",
            "  spec = None\n",
            "/usr/local/lib/python3.10/dist-packages/gym/core.py:43: DeprecationWarning: \u001b[33mWARN: The argument mode in render method is deprecated; use render_mode during environment initialization instead.\n",
            "See here for more information: https://www.gymlibrary.ml/content/api/\u001b[0m\n",
            "  spec = None\n",
            "/usr/local/lib/python3.10/dist-packages/gym/core.py:43: DeprecationWarning: \u001b[33mWARN: The argument mode in render method is deprecated; use render_mode during environment initialization instead.\n",
            "See here for more information: https://www.gymlibrary.ml/content/api/\u001b[0m\n",
            "  spec = None\n",
            "/usr/local/lib/python3.10/dist-packages/gym/core.py:43: DeprecationWarning: \u001b[33mWARN: The argument mode in render method is deprecated; use render_mode during environment initialization instead.\n",
            "See here for more information: https://www.gymlibrary.ml/content/api/\u001b[0m\n",
            "  spec = None\n",
            "/usr/local/lib/python3.10/dist-packages/gym/core.py:43: DeprecationWarning: \u001b[33mWARN: The argument mode in render method is deprecated; use render_mode during environment initialization instead.\n",
            "See here for more information: https://www.gymlibrary.ml/content/api/\u001b[0m\n",
            "  spec = None\n",
            "/usr/local/lib/python3.10/dist-packages/gym/core.py:43: DeprecationWarning: \u001b[33mWARN: The argument mode in render method is deprecated; use render_mode during environment initialization instead.\n",
            "See here for more information: https://www.gymlibrary.ml/content/api/\u001b[0m\n",
            "  spec = None\n",
            "/usr/local/lib/python3.10/dist-packages/gym/core.py:43: DeprecationWarning: \u001b[33mWARN: The argument mode in render method is deprecated; use render_mode during environment initialization instead.\n",
            "See here for more information: https://www.gymlibrary.ml/content/api/\u001b[0m\n",
            "  spec = None\n",
            "/usr/local/lib/python3.10/dist-packages/gym/core.py:43: DeprecationWarning: \u001b[33mWARN: The argument mode in render method is deprecated; use render_mode during environment initialization instead.\n",
            "See here for more information: https://www.gymlibrary.ml/content/api/\u001b[0m\n",
            "  spec = None\n",
            "/usr/local/lib/python3.10/dist-packages/gym/core.py:43: DeprecationWarning: \u001b[33mWARN: The argument mode in render method is deprecated; use render_mode during environment initialization instead.\n",
            "See here for more information: https://www.gymlibrary.ml/content/api/\u001b[0m\n",
            "  spec = None\n",
            "/usr/local/lib/python3.10/dist-packages/gym/core.py:43: DeprecationWarning: \u001b[33mWARN: The argument mode in render method is deprecated; use render_mode during environment initialization instead.\n",
            "See here for more information: https://www.gymlibrary.ml/content/api/\u001b[0m\n",
            "  spec = None\n",
            "/usr/local/lib/python3.10/dist-packages/gym/core.py:43: DeprecationWarning: \u001b[33mWARN: The argument mode in render method is deprecated; use render_mode during environment initialization instead.\n",
            "See here for more information: https://www.gymlibrary.ml/content/api/\u001b[0m\n",
            "  spec = None\n",
            "/usr/local/lib/python3.10/dist-packages/gym/core.py:43: DeprecationWarning: \u001b[33mWARN: The argument mode in render method is deprecated; use render_mode during environment initialization instead.\n",
            "See here for more information: https://www.gymlibrary.ml/content/api/\u001b[0m\n",
            "  spec = None\n",
            "/usr/local/lib/python3.10/dist-packages/gym/core.py:43: DeprecationWarning: \u001b[33mWARN: The argument mode in render method is deprecated; use render_mode during environment initialization instead.\n",
            "See here for more information: https://www.gymlibrary.ml/content/api/\u001b[0m\n",
            "  spec = None\n",
            "/usr/local/lib/python3.10/dist-packages/gym/core.py:43: DeprecationWarning: \u001b[33mWARN: The argument mode in render method is deprecated; use render_mode during environment initialization instead.\n",
            "See here for more information: https://www.gymlibrary.ml/content/api/\u001b[0m\n",
            "  spec = None\n",
            "/usr/local/lib/python3.10/dist-packages/gym/core.py:43: DeprecationWarning: \u001b[33mWARN: The argument mode in render method is deprecated; use render_mode during environment initialization instead.\n",
            "See here for more information: https://www.gymlibrary.ml/content/api/\u001b[0m\n",
            "  spec = None\n",
            "/usr/local/lib/python3.10/dist-packages/gym/core.py:43: DeprecationWarning: \u001b[33mWARN: The argument mode in render method is deprecated; use render_mode during environment initialization instead.\n",
            "See here for more information: https://www.gymlibrary.ml/content/api/\u001b[0m\n",
            "  spec = None\n",
            "/usr/local/lib/python3.10/dist-packages/gym/core.py:43: DeprecationWarning: \u001b[33mWARN: The argument mode in render method is deprecated; use render_mode during environment initialization instead.\n",
            "See here for more information: https://www.gymlibrary.ml/content/api/\u001b[0m\n",
            "  spec = None\n",
            "/usr/local/lib/python3.10/dist-packages/gym/core.py:43: DeprecationWarning: \u001b[33mWARN: The argument mode in render method is deprecated; use render_mode during environment initialization instead.\n",
            "See here for more information: https://www.gymlibrary.ml/content/api/\u001b[0m\n",
            "  spec = None\n",
            "/usr/local/lib/python3.10/dist-packages/gym/core.py:43: DeprecationWarning: \u001b[33mWARN: The argument mode in render method is deprecated; use render_mode during environment initialization instead.\n",
            "See here for more information: https://www.gymlibrary.ml/content/api/\u001b[0m\n",
            "  spec = None\n",
            "/usr/local/lib/python3.10/dist-packages/gym/core.py:43: DeprecationWarning: \u001b[33mWARN: The argument mode in render method is deprecated; use render_mode during environment initialization instead.\n",
            "See here for more information: https://www.gymlibrary.ml/content/api/\u001b[0m\n",
            "  spec = None\n",
            "/usr/local/lib/python3.10/dist-packages/gym/core.py:43: DeprecationWarning: \u001b[33mWARN: The argument mode in render method is deprecated; use render_mode during environment initialization instead.\n",
            "See here for more information: https://www.gymlibrary.ml/content/api/\u001b[0m\n",
            "  spec = None\n",
            "/usr/local/lib/python3.10/dist-packages/gym/core.py:43: DeprecationWarning: \u001b[33mWARN: The argument mode in render method is deprecated; use render_mode during environment initialization instead.\n",
            "See here for more information: https://www.gymlibrary.ml/content/api/\u001b[0m\n",
            "  spec = None\n",
            "/usr/local/lib/python3.10/dist-packages/gym/core.py:43: DeprecationWarning: \u001b[33mWARN: The argument mode in render method is deprecated; use render_mode during environment initialization instead.\n",
            "See here for more information: https://www.gymlibrary.ml/content/api/\u001b[0m\n",
            "  spec = None\n",
            "/usr/local/lib/python3.10/dist-packages/gym/core.py:43: DeprecationWarning: \u001b[33mWARN: The argument mode in render method is deprecated; use render_mode during environment initialization instead.\n",
            "See here for more information: https://www.gymlibrary.ml/content/api/\u001b[0m\n",
            "  spec = None\n",
            "/usr/local/lib/python3.10/dist-packages/gym/core.py:43: DeprecationWarning: \u001b[33mWARN: The argument mode in render method is deprecated; use render_mode during environment initialization instead.\n",
            "See here for more information: https://www.gymlibrary.ml/content/api/\u001b[0m\n",
            "  spec = None\n",
            "/usr/local/lib/python3.10/dist-packages/gym/core.py:43: DeprecationWarning: \u001b[33mWARN: The argument mode in render method is deprecated; use render_mode during environment initialization instead.\n",
            "See here for more information: https://www.gymlibrary.ml/content/api/\u001b[0m\n",
            "  spec = None\n",
            "/usr/local/lib/python3.10/dist-packages/gym/core.py:43: DeprecationWarning: \u001b[33mWARN: The argument mode in render method is deprecated; use render_mode during environment initialization instead.\n",
            "See here for more information: https://www.gymlibrary.ml/content/api/\u001b[0m\n",
            "  spec = None\n",
            "/usr/local/lib/python3.10/dist-packages/gym/core.py:43: DeprecationWarning: \u001b[33mWARN: The argument mode in render method is deprecated; use render_mode during environment initialization instead.\n",
            "See here for more information: https://www.gymlibrary.ml/content/api/\u001b[0m\n",
            "  spec = None\n",
            "/usr/local/lib/python3.10/dist-packages/gym/core.py:43: DeprecationWarning: \u001b[33mWARN: The argument mode in render method is deprecated; use render_mode during environment initialization instead.\n",
            "See here for more information: https://www.gymlibrary.ml/content/api/\u001b[0m\n",
            "  spec = None\n",
            "/usr/local/lib/python3.10/dist-packages/gym/core.py:43: DeprecationWarning: \u001b[33mWARN: The argument mode in render method is deprecated; use render_mode during environment initialization instead.\n",
            "See here for more information: https://www.gymlibrary.ml/content/api/\u001b[0m\n",
            "  spec = None\n",
            "/usr/local/lib/python3.10/dist-packages/gym/core.py:43: DeprecationWarning: \u001b[33mWARN: The argument mode in render method is deprecated; use render_mode during environment initialization instead.\n",
            "See here for more information: https://www.gymlibrary.ml/content/api/\u001b[0m\n",
            "  spec = None\n",
            "/usr/local/lib/python3.10/dist-packages/gym/core.py:43: DeprecationWarning: \u001b[33mWARN: The argument mode in render method is deprecated; use render_mode during environment initialization instead.\n",
            "See here for more information: https://www.gymlibrary.ml/content/api/\u001b[0m\n",
            "  spec = None\n",
            "/usr/local/lib/python3.10/dist-packages/gym/core.py:43: DeprecationWarning: \u001b[33mWARN: The argument mode in render method is deprecated; use render_mode during environment initialization instead.\n",
            "See here for more information: https://www.gymlibrary.ml/content/api/\u001b[0m\n",
            "  spec = None\n",
            "/usr/local/lib/python3.10/dist-packages/gym/core.py:43: DeprecationWarning: \u001b[33mWARN: The argument mode in render method is deprecated; use render_mode during environment initialization instead.\n",
            "See here for more information: https://www.gymlibrary.ml/content/api/\u001b[0m\n",
            "  spec = None\n",
            "/usr/local/lib/python3.10/dist-packages/gym/core.py:43: DeprecationWarning: \u001b[33mWARN: The argument mode in render method is deprecated; use render_mode during environment initialization instead.\n",
            "See here for more information: https://www.gymlibrary.ml/content/api/\u001b[0m\n",
            "  spec = None\n",
            "/usr/local/lib/python3.10/dist-packages/gym/core.py:43: DeprecationWarning: \u001b[33mWARN: The argument mode in render method is deprecated; use render_mode during environment initialization instead.\n",
            "See here for more information: https://www.gymlibrary.ml/content/api/\u001b[0m\n",
            "  spec = None\n",
            "/usr/local/lib/python3.10/dist-packages/gym/core.py:43: DeprecationWarning: \u001b[33mWARN: The argument mode in render method is deprecated; use render_mode during environment initialization instead.\n",
            "See here for more information: https://www.gymlibrary.ml/content/api/\u001b[0m\n",
            "  spec = None\n",
            "/usr/local/lib/python3.10/dist-packages/gym/core.py:43: DeprecationWarning: \u001b[33mWARN: The argument mode in render method is deprecated; use render_mode during environment initialization instead.\n",
            "See here for more information: https://www.gymlibrary.ml/content/api/\u001b[0m\n",
            "  spec = None\n",
            "/usr/local/lib/python3.10/dist-packages/gym/core.py:43: DeprecationWarning: \u001b[33mWARN: The argument mode in render method is deprecated; use render_mode during environment initialization instead.\n",
            "See here for more information: https://www.gymlibrary.ml/content/api/\u001b[0m\n",
            "  spec = None\n",
            "/usr/local/lib/python3.10/dist-packages/gym/core.py:43: DeprecationWarning: \u001b[33mWARN: The argument mode in render method is deprecated; use render_mode during environment initialization instead.\n",
            "See here for more information: https://www.gymlibrary.ml/content/api/\u001b[0m\n",
            "  spec = None\n",
            "/usr/local/lib/python3.10/dist-packages/gym/core.py:43: DeprecationWarning: \u001b[33mWARN: The argument mode in render method is deprecated; use render_mode during environment initialization instead.\n",
            "See here for more information: https://www.gymlibrary.ml/content/api/\u001b[0m\n",
            "  spec = None\n",
            "/usr/local/lib/python3.10/dist-packages/gym/core.py:43: DeprecationWarning: \u001b[33mWARN: The argument mode in render method is deprecated; use render_mode during environment initialization instead.\n",
            "See here for more information: https://www.gymlibrary.ml/content/api/\u001b[0m\n",
            "  spec = None\n",
            "/usr/local/lib/python3.10/dist-packages/gym/core.py:43: DeprecationWarning: \u001b[33mWARN: The argument mode in render method is deprecated; use render_mode during environment initialization instead.\n",
            "See here for more information: https://www.gymlibrary.ml/content/api/\u001b[0m\n",
            "  spec = None\n",
            "/usr/local/lib/python3.10/dist-packages/gym/core.py:43: DeprecationWarning: \u001b[33mWARN: The argument mode in render method is deprecated; use render_mode during environment initialization instead.\n",
            "See here for more information: https://www.gymlibrary.ml/content/api/\u001b[0m\n",
            "  spec = None\n",
            "/usr/local/lib/python3.10/dist-packages/gym/core.py:43: DeprecationWarning: \u001b[33mWARN: The argument mode in render method is deprecated; use render_mode during environment initialization instead.\n",
            "See here for more information: https://www.gymlibrary.ml/content/api/\u001b[0m\n",
            "  spec = None\n",
            "/usr/local/lib/python3.10/dist-packages/gym/core.py:43: DeprecationWarning: \u001b[33mWARN: The argument mode in render method is deprecated; use render_mode during environment initialization instead.\n",
            "See here for more information: https://www.gymlibrary.ml/content/api/\u001b[0m\n",
            "  spec = None\n",
            "/usr/local/lib/python3.10/dist-packages/gym/core.py:43: DeprecationWarning: \u001b[33mWARN: The argument mode in render method is deprecated; use render_mode during environment initialization instead.\n",
            "See here for more information: https://www.gymlibrary.ml/content/api/\u001b[0m\n",
            "  spec = None\n",
            "/usr/local/lib/python3.10/dist-packages/gym/core.py:43: DeprecationWarning: \u001b[33mWARN: The argument mode in render method is deprecated; use render_mode during environment initialization instead.\n",
            "See here for more information: https://www.gymlibrary.ml/content/api/\u001b[0m\n",
            "  spec = None\n",
            "/usr/local/lib/python3.10/dist-packages/gym/core.py:43: DeprecationWarning: \u001b[33mWARN: The argument mode in render method is deprecated; use render_mode during environment initialization instead.\n",
            "See here for more information: https://www.gymlibrary.ml/content/api/\u001b[0m\n",
            "  spec = None\n",
            "/usr/local/lib/python3.10/dist-packages/gym/core.py:43: DeprecationWarning: \u001b[33mWARN: The argument mode in render method is deprecated; use render_mode during environment initialization instead.\n",
            "See here for more information: https://www.gymlibrary.ml/content/api/\u001b[0m\n",
            "  spec = None\n",
            "/usr/local/lib/python3.10/dist-packages/gym/core.py:43: DeprecationWarning: \u001b[33mWARN: The argument mode in render method is deprecated; use render_mode during environment initialization instead.\n",
            "See here for more information: https://www.gymlibrary.ml/content/api/\u001b[0m\n",
            "  spec = None\n",
            "/usr/local/lib/python3.10/dist-packages/gym/core.py:43: DeprecationWarning: \u001b[33mWARN: The argument mode in render method is deprecated; use render_mode during environment initialization instead.\n",
            "See here for more information: https://www.gymlibrary.ml/content/api/\u001b[0m\n",
            "  spec = None\n",
            "/usr/local/lib/python3.10/dist-packages/gym/core.py:43: DeprecationWarning: \u001b[33mWARN: The argument mode in render method is deprecated; use render_mode during environment initialization instead.\n",
            "See here for more information: https://www.gymlibrary.ml/content/api/\u001b[0m\n",
            "  spec = None\n",
            "/usr/local/lib/python3.10/dist-packages/gym/core.py:43: DeprecationWarning: \u001b[33mWARN: The argument mode in render method is deprecated; use render_mode during environment initialization instead.\n",
            "See here for more information: https://www.gymlibrary.ml/content/api/\u001b[0m\n",
            "  spec = None\n",
            "/usr/local/lib/python3.10/dist-packages/gym/core.py:43: DeprecationWarning: \u001b[33mWARN: The argument mode in render method is deprecated; use render_mode during environment initialization instead.\n",
            "See here for more information: https://www.gymlibrary.ml/content/api/\u001b[0m\n",
            "  spec = None\n",
            "/usr/local/lib/python3.10/dist-packages/gym/core.py:43: DeprecationWarning: \u001b[33mWARN: The argument mode in render method is deprecated; use render_mode during environment initialization instead.\n",
            "See here for more information: https://www.gymlibrary.ml/content/api/\u001b[0m\n",
            "  spec = None\n",
            "/usr/local/lib/python3.10/dist-packages/gym/core.py:43: DeprecationWarning: \u001b[33mWARN: The argument mode in render method is deprecated; use render_mode during environment initialization instead.\n",
            "See here for more information: https://www.gymlibrary.ml/content/api/\u001b[0m\n",
            "  spec = None\n",
            "/usr/local/lib/python3.10/dist-packages/gym/core.py:43: DeprecationWarning: \u001b[33mWARN: The argument mode in render method is deprecated; use render_mode during environment initialization instead.\n",
            "See here for more information: https://www.gymlibrary.ml/content/api/\u001b[0m\n",
            "  spec = None\n",
            "/usr/local/lib/python3.10/dist-packages/gym/core.py:43: DeprecationWarning: \u001b[33mWARN: The argument mode in render method is deprecated; use render_mode during environment initialization instead.\n",
            "See here for more information: https://www.gymlibrary.ml/content/api/\u001b[0m\n",
            "  spec = None\n",
            "/usr/local/lib/python3.10/dist-packages/gym/core.py:43: DeprecationWarning: \u001b[33mWARN: The argument mode in render method is deprecated; use render_mode during environment initialization instead.\n",
            "See here for more information: https://www.gymlibrary.ml/content/api/\u001b[0m\n",
            "  spec = None\n",
            "/usr/local/lib/python3.10/dist-packages/gym/core.py:43: DeprecationWarning: \u001b[33mWARN: The argument mode in render method is deprecated; use render_mode during environment initialization instead.\n",
            "See here for more information: https://www.gymlibrary.ml/content/api/\u001b[0m\n",
            "  spec = None\n",
            "/usr/local/lib/python3.10/dist-packages/gym/core.py:43: DeprecationWarning: \u001b[33mWARN: The argument mode in render method is deprecated; use render_mode during environment initialization instead.\n",
            "See here for more information: https://www.gymlibrary.ml/content/api/\u001b[0m\n",
            "  spec = None\n",
            "/usr/local/lib/python3.10/dist-packages/gym/core.py:43: DeprecationWarning: \u001b[33mWARN: The argument mode in render method is deprecated; use render_mode during environment initialization instead.\n",
            "See here for more information: https://www.gymlibrary.ml/content/api/\u001b[0m\n",
            "  spec = None\n",
            "/usr/local/lib/python3.10/dist-packages/gym/core.py:43: DeprecationWarning: \u001b[33mWARN: The argument mode in render method is deprecated; use render_mode during environment initialization instead.\n",
            "See here for more information: https://www.gymlibrary.ml/content/api/\u001b[0m\n",
            "  spec = None\n",
            "/usr/local/lib/python3.10/dist-packages/gym/core.py:43: DeprecationWarning: \u001b[33mWARN: The argument mode in render method is deprecated; use render_mode during environment initialization instead.\n",
            "See here for more information: https://www.gymlibrary.ml/content/api/\u001b[0m\n",
            "  spec = None\n",
            "/usr/local/lib/python3.10/dist-packages/gym/core.py:43: DeprecationWarning: \u001b[33mWARN: The argument mode in render method is deprecated; use render_mode during environment initialization instead.\n",
            "See here for more information: https://www.gymlibrary.ml/content/api/\u001b[0m\n",
            "  spec = None\n",
            "/usr/local/lib/python3.10/dist-packages/gym/core.py:43: DeprecationWarning: \u001b[33mWARN: The argument mode in render method is deprecated; use render_mode during environment initialization instead.\n",
            "See here for more information: https://www.gymlibrary.ml/content/api/\u001b[0m\n",
            "  spec = None\n",
            "/usr/local/lib/python3.10/dist-packages/gym/core.py:43: DeprecationWarning: \u001b[33mWARN: The argument mode in render method is deprecated; use render_mode during environment initialization instead.\n",
            "See here for more information: https://www.gymlibrary.ml/content/api/\u001b[0m\n",
            "  spec = None\n",
            "/usr/local/lib/python3.10/dist-packages/gym/core.py:43: DeprecationWarning: \u001b[33mWARN: The argument mode in render method is deprecated; use render_mode during environment initialization instead.\n",
            "See here for more information: https://www.gymlibrary.ml/content/api/\u001b[0m\n",
            "  spec = None\n",
            "/usr/local/lib/python3.10/dist-packages/gym/core.py:43: DeprecationWarning: \u001b[33mWARN: The argument mode in render method is deprecated; use render_mode during environment initialization instead.\n",
            "See here for more information: https://www.gymlibrary.ml/content/api/\u001b[0m\n",
            "  spec = None\n",
            "/usr/local/lib/python3.10/dist-packages/gym/core.py:43: DeprecationWarning: \u001b[33mWARN: The argument mode in render method is deprecated; use render_mode during environment initialization instead.\n",
            "See here for more information: https://www.gymlibrary.ml/content/api/\u001b[0m\n",
            "  spec = None\n",
            "/usr/local/lib/python3.10/dist-packages/gym/core.py:43: DeprecationWarning: \u001b[33mWARN: The argument mode in render method is deprecated; use render_mode during environment initialization instead.\n",
            "See here for more information: https://www.gymlibrary.ml/content/api/\u001b[0m\n",
            "  spec = None\n",
            "/usr/local/lib/python3.10/dist-packages/gym/core.py:43: DeprecationWarning: \u001b[33mWARN: The argument mode in render method is deprecated; use render_mode during environment initialization instead.\n",
            "See here for more information: https://www.gymlibrary.ml/content/api/\u001b[0m\n",
            "  spec = None\n",
            "/usr/local/lib/python3.10/dist-packages/gym/core.py:43: DeprecationWarning: \u001b[33mWARN: The argument mode in render method is deprecated; use render_mode during environment initialization instead.\n",
            "See here for more information: https://www.gymlibrary.ml/content/api/\u001b[0m\n",
            "  spec = None\n",
            "/usr/local/lib/python3.10/dist-packages/gym/core.py:43: DeprecationWarning: \u001b[33mWARN: The argument mode in render method is deprecated; use render_mode during environment initialization instead.\n",
            "See here for more information: https://www.gymlibrary.ml/content/api/\u001b[0m\n",
            "  spec = None\n",
            "/usr/local/lib/python3.10/dist-packages/gym/core.py:43: DeprecationWarning: \u001b[33mWARN: The argument mode in render method is deprecated; use render_mode during environment initialization instead.\n",
            "See here for more information: https://www.gymlibrary.ml/content/api/\u001b[0m\n",
            "  spec = None\n",
            "/usr/local/lib/python3.10/dist-packages/gym/core.py:43: DeprecationWarning: \u001b[33mWARN: The argument mode in render method is deprecated; use render_mode during environment initialization instead.\n",
            "See here for more information: https://www.gymlibrary.ml/content/api/\u001b[0m\n",
            "  spec = None\n",
            "/usr/local/lib/python3.10/dist-packages/gym/core.py:43: DeprecationWarning: \u001b[33mWARN: The argument mode in render method is deprecated; use render_mode during environment initialization instead.\n",
            "See here for more information: https://www.gymlibrary.ml/content/api/\u001b[0m\n",
            "  spec = None\n",
            "/usr/local/lib/python3.10/dist-packages/gym/core.py:43: DeprecationWarning: \u001b[33mWARN: The argument mode in render method is deprecated; use render_mode during environment initialization instead.\n",
            "See here for more information: https://www.gymlibrary.ml/content/api/\u001b[0m\n",
            "  spec = None\n",
            "/usr/local/lib/python3.10/dist-packages/gym/core.py:43: DeprecationWarning: \u001b[33mWARN: The argument mode in render method is deprecated; use render_mode during environment initialization instead.\n",
            "See here for more information: https://www.gymlibrary.ml/content/api/\u001b[0m\n",
            "  spec = None\n",
            "/usr/local/lib/python3.10/dist-packages/gym/core.py:43: DeprecationWarning: \u001b[33mWARN: The argument mode in render method is deprecated; use render_mode during environment initialization instead.\n",
            "See here for more information: https://www.gymlibrary.ml/content/api/\u001b[0m\n",
            "  spec = None\n",
            "/usr/local/lib/python3.10/dist-packages/gym/core.py:43: DeprecationWarning: \u001b[33mWARN: The argument mode in render method is deprecated; use render_mode during environment initialization instead.\n",
            "See here for more information: https://www.gymlibrary.ml/content/api/\u001b[0m\n",
            "  spec = None\n",
            "/usr/local/lib/python3.10/dist-packages/gym/core.py:43: DeprecationWarning: \u001b[33mWARN: The argument mode in render method is deprecated; use render_mode during environment initialization instead.\n",
            "See here for more information: https://www.gymlibrary.ml/content/api/\u001b[0m\n",
            "  spec = None\n",
            "/usr/local/lib/python3.10/dist-packages/gym/core.py:43: DeprecationWarning: \u001b[33mWARN: The argument mode in render method is deprecated; use render_mode during environment initialization instead.\n",
            "See here for more information: https://www.gymlibrary.ml/content/api/\u001b[0m\n",
            "  spec = None\n",
            "/usr/local/lib/python3.10/dist-packages/gym/core.py:43: DeprecationWarning: \u001b[33mWARN: The argument mode in render method is deprecated; use render_mode during environment initialization instead.\n",
            "See here for more information: https://www.gymlibrary.ml/content/api/\u001b[0m\n",
            "  spec = None\n",
            "/usr/local/lib/python3.10/dist-packages/gym/core.py:43: DeprecationWarning: \u001b[33mWARN: The argument mode in render method is deprecated; use render_mode during environment initialization instead.\n",
            "See here for more information: https://www.gymlibrary.ml/content/api/\u001b[0m\n",
            "  spec = None\n",
            "/usr/local/lib/python3.10/dist-packages/gym/core.py:43: DeprecationWarning: \u001b[33mWARN: The argument mode in render method is deprecated; use render_mode during environment initialization instead.\n",
            "See here for more information: https://www.gymlibrary.ml/content/api/\u001b[0m\n",
            "  spec = None\n",
            "/usr/local/lib/python3.10/dist-packages/gym/core.py:43: DeprecationWarning: \u001b[33mWARN: The argument mode in render method is deprecated; use render_mode during environment initialization instead.\n",
            "See here for more information: https://www.gymlibrary.ml/content/api/\u001b[0m\n",
            "  spec = None\n",
            "/usr/local/lib/python3.10/dist-packages/gym/core.py:43: DeprecationWarning: \u001b[33mWARN: The argument mode in render method is deprecated; use render_mode during environment initialization instead.\n",
            "See here for more information: https://www.gymlibrary.ml/content/api/\u001b[0m\n",
            "  spec = None\n",
            "/usr/local/lib/python3.10/dist-packages/gym/core.py:43: DeprecationWarning: \u001b[33mWARN: The argument mode in render method is deprecated; use render_mode during environment initialization instead.\n",
            "See here for more information: https://www.gymlibrary.ml/content/api/\u001b[0m\n",
            "  spec = None\n",
            "/usr/local/lib/python3.10/dist-packages/gym/core.py:43: DeprecationWarning: \u001b[33mWARN: The argument mode in render method is deprecated; use render_mode during environment initialization instead.\n",
            "See here for more information: https://www.gymlibrary.ml/content/api/\u001b[0m\n",
            "  spec = None\n",
            "/usr/local/lib/python3.10/dist-packages/gym/core.py:43: DeprecationWarning: \u001b[33mWARN: The argument mode in render method is deprecated; use render_mode during environment initialization instead.\n",
            "See here for more information: https://www.gymlibrary.ml/content/api/\u001b[0m\n",
            "  spec = None\n",
            "/usr/local/lib/python3.10/dist-packages/gym/core.py:43: DeprecationWarning: \u001b[33mWARN: The argument mode in render method is deprecated; use render_mode during environment initialization instead.\n",
            "See here for more information: https://www.gymlibrary.ml/content/api/\u001b[0m\n",
            "  spec = None\n",
            "/usr/local/lib/python3.10/dist-packages/gym/core.py:43: DeprecationWarning: \u001b[33mWARN: The argument mode in render method is deprecated; use render_mode during environment initialization instead.\n",
            "See here for more information: https://www.gymlibrary.ml/content/api/\u001b[0m\n",
            "  spec = None\n",
            "/usr/local/lib/python3.10/dist-packages/gym/core.py:43: DeprecationWarning: \u001b[33mWARN: The argument mode in render method is deprecated; use render_mode during environment initialization instead.\n",
            "See here for more information: https://www.gymlibrary.ml/content/api/\u001b[0m\n",
            "  spec = None\n",
            "/usr/local/lib/python3.10/dist-packages/gym/core.py:43: DeprecationWarning: \u001b[33mWARN: The argument mode in render method is deprecated; use render_mode during environment initialization instead.\n",
            "See here for more information: https://www.gymlibrary.ml/content/api/\u001b[0m\n",
            "  spec = None\n",
            "/usr/local/lib/python3.10/dist-packages/gym/core.py:43: DeprecationWarning: \u001b[33mWARN: The argument mode in render method is deprecated; use render_mode during environment initialization instead.\n",
            "See here for more information: https://www.gymlibrary.ml/content/api/\u001b[0m\n",
            "  spec = None\n",
            "/usr/local/lib/python3.10/dist-packages/gym/core.py:43: DeprecationWarning: \u001b[33mWARN: The argument mode in render method is deprecated; use render_mode during environment initialization instead.\n",
            "See here for more information: https://www.gymlibrary.ml/content/api/\u001b[0m\n",
            "  spec = None\n",
            "/usr/local/lib/python3.10/dist-packages/gym/core.py:43: DeprecationWarning: \u001b[33mWARN: The argument mode in render method is deprecated; use render_mode during environment initialization instead.\n",
            "See here for more information: https://www.gymlibrary.ml/content/api/\u001b[0m\n",
            "  spec = None\n",
            "/usr/local/lib/python3.10/dist-packages/gym/core.py:43: DeprecationWarning: \u001b[33mWARN: The argument mode in render method is deprecated; use render_mode during environment initialization instead.\n",
            "See here for more information: https://www.gymlibrary.ml/content/api/\u001b[0m\n",
            "  spec = None\n",
            "/usr/local/lib/python3.10/dist-packages/gym/core.py:43: DeprecationWarning: \u001b[33mWARN: The argument mode in render method is deprecated; use render_mode during environment initialization instead.\n",
            "See here for more information: https://www.gymlibrary.ml/content/api/\u001b[0m\n",
            "  spec = None\n",
            "/usr/local/lib/python3.10/dist-packages/gym/core.py:43: DeprecationWarning: \u001b[33mWARN: The argument mode in render method is deprecated; use render_mode during environment initialization instead.\n",
            "See here for more information: https://www.gymlibrary.ml/content/api/\u001b[0m\n",
            "  spec = None\n",
            "/usr/local/lib/python3.10/dist-packages/gym/core.py:43: DeprecationWarning: \u001b[33mWARN: The argument mode in render method is deprecated; use render_mode during environment initialization instead.\n",
            "See here for more information: https://www.gymlibrary.ml/content/api/\u001b[0m\n",
            "  spec = None\n",
            "/usr/local/lib/python3.10/dist-packages/gym/core.py:43: DeprecationWarning: \u001b[33mWARN: The argument mode in render method is deprecated; use render_mode during environment initialization instead.\n",
            "See here for more information: https://www.gymlibrary.ml/content/api/\u001b[0m\n",
            "  spec = None\n",
            "/usr/local/lib/python3.10/dist-packages/gym/core.py:43: DeprecationWarning: \u001b[33mWARN: The argument mode in render method is deprecated; use render_mode during environment initialization instead.\n",
            "See here for more information: https://www.gymlibrary.ml/content/api/\u001b[0m\n",
            "  spec = None\n",
            "/usr/local/lib/python3.10/dist-packages/gym/core.py:43: DeprecationWarning: \u001b[33mWARN: The argument mode in render method is deprecated; use render_mode during environment initialization instead.\n",
            "See here for more information: https://www.gymlibrary.ml/content/api/\u001b[0m\n",
            "  spec = None\n",
            "/usr/local/lib/python3.10/dist-packages/gym/core.py:43: DeprecationWarning: \u001b[33mWARN: The argument mode in render method is deprecated; use render_mode during environment initialization instead.\n",
            "See here for more information: https://www.gymlibrary.ml/content/api/\u001b[0m\n",
            "  spec = None\n"
          ]
        },
        {
          "output_type": "execute_result",
          "data": {
            "text/plain": [
              "<IPython.core.display.HTML object>"
            ],
            "text/html": [
              "\n",
              "  <video width=\"640\" height=\"480\" controls>\n",
              "    <source src=\"data:video/mp4;base64,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\" type=\"video/mp4\">\n",
              "  Your browser does not support the video tag.\n",
              "  </video>"
            ]
          },
          "metadata": {},
          "execution_count": 47
        }
      ],
      "source": [
        "create_policy_eval_video(train_env, random_policy, \"random-agent\", num_episodes=1)"
      ]
    },
    {
      "cell_type": "code",
      "execution_count": null,
      "metadata": {
        "id": "QRXunkpb-LHP"
      },
      "outputs": [],
      "source": [
        "train_env.pyenv.envs[0].env._df_positions"
      ]
    },
    {
      "cell_type": "markdown",
      "metadata": {
        "id": "hf15K_3VBkDl"
      },
      "source": [
        "## Reinforcement Trader"
      ]
    },
    {
      "cell_type": "markdown",
      "metadata": {
        "id": "-BaqOBrnDVpc"
      },
      "source": [
        "### Recruit a Trader\n",
        "\n",
        "Hree we recruit a DQN trader, giving her $100,000 and let her trade SPY.\n",
        "\n",
        "Hopefully after 1 millon times of simulated training, she is able to to find a good quantititive trading rule to trade SPY.\n",
        "\n",
        "Her trading rule is a black box. We don't care how she trades, as long as she keeps bringing in profits.\n",
        "\n",
        "Then she is expected to apply her deep neutral network trading rule to other stocks via so-called transfer learning."
      ]
    },
    {
      "cell_type": "code",
      "execution_count": 48,
      "metadata": {
        "id": "xhe43xOzKKaL"
      },
      "outputs": [],
      "source": [
        "learning_rate = 1e-3\n",
        "num_eval_episodes = 10\n",
        "replay_buffer_max_length = 100000"
      ]
    },
    {
      "cell_type": "code",
      "execution_count": 49,
      "metadata": {
        "id": "gM1AHMMWJuJD"
      },
      "outputs": [],
      "source": [
        "fc_layer_params = (100, 50)\n",
        "action_tensor_spec = tensor_spec.from_spec(train_env.action_spec())\n",
        "num_actions = action_tensor_spec.maximum - action_tensor_spec.minimum + 1\n",
        "\n",
        "# Define a helper function to create Dense layers configured with the right\n",
        "# activation and kernel initializer.\n",
        "def dense_layer(num_units):\n",
        "  return tf.keras.layers.Dense(\n",
        "      num_units,\n",
        "      activation=tf.keras.activations.relu,\n",
        "      kernel_initializer=tf.keras.initializers.VarianceScaling(\n",
        "          scale=2.0, mode='fan_in', distribution='truncated_normal'))\n",
        "\n",
        "# QNetwork consists of a sequence of Dense layers followed by a dense layer\n",
        "# with `num_actions` units to generate one q_value per available action as\n",
        "# its output.\n",
        "dense_layers = [dense_layer(num_units) for num_units in fc_layer_params]\n",
        "q_values_layer = tf.keras.layers.Dense(\n",
        "    num_actions,\n",
        "    activation=None,\n",
        "    kernel_initializer=tf.keras.initializers.RandomUniform(\n",
        "        minval=-0.03, maxval=0.03),\n",
        "    bias_initializer=tf.keras.initializers.Constant(-0.2))\n",
        "q_net = sequential.Sequential(dense_layers + [q_values_layer])"
      ]
    },
    {
      "cell_type": "code",
      "execution_count": 50,
      "metadata": {
        "id": "2ZVdpwxaJ2XE"
      },
      "outputs": [],
      "source": [
        "optimizer = tf.keras.optimizers.Adam(learning_rate=learning_rate)\n",
        "\n",
        "train_step_counter = tf.Variable(0)\n",
        "\n",
        "agent = dqn_agent.DqnAgent(\n",
        "    train_env.time_step_spec(),\n",
        "    train_env.action_spec(),\n",
        "    q_network=q_net,\n",
        "    optimizer=optimizer,\n",
        "    td_errors_loss_fn=common.element_wise_squared_loss,\n",
        "    train_step_counter=train_step_counter)\n",
        "\n",
        "agent.initialize()"
      ]
    },
    {
      "cell_type": "markdown",
      "metadata": {
        "id": "2EaISgUXdqHr"
      },
      "source": [
        "Here we use a three layer fully-connected deep neural network.\n",
        "\n",
        "The input observation is 14 days x 10 features, flattened to shape 140. The first layer has 100 neurons. Therefore, it requires $140 \\times 100+100=14,100$ parameters.\n",
        "\n",
        "The second layer has 50 neurons, implying $100 \\times 50 + 50 = 5,050$ parameters.\n",
        "\n",
        "The output layer is a binary decision of either buy or sell, which needs $50 \\times 2 + 2 = 102$ parameters."
      ]
    },
    {
      "cell_type": "code",
      "execution_count": 51,
      "metadata": {
        "colab": {
          "base_uri": "https://localhost:8080/"
        },
        "id": "xbjdk9sKKIXM",
        "outputId": "408dcb58-be07-4b6a-9d6a-39974315e4b9"
      },
      "outputs": [
        {
          "output_type": "stream",
          "name": "stdout",
          "text": [
            "Model: \"sequential\"\n",
            "_________________________________________________________________\n",
            " Layer (type)                Output Shape              Param #   \n",
            "=================================================================\n",
            " dense (Dense)               multiple                  14100     \n",
            "                                                                 \n",
            " dense_1 (Dense)             multiple                  5050      \n",
            "                                                                 \n",
            " dense_2 (Dense)             multiple                  102       \n",
            "                                                                 \n",
            "=================================================================\n",
            "Total params: 19252 (75.20 KB)\n",
            "Trainable params: 19252 (75.20 KB)\n",
            "Non-trainable params: 0 (0.00 Byte)\n",
            "_________________________________________________________________\n"
          ]
        }
      ],
      "source": [
        "q_net.summary()"
      ]
    },
    {
      "cell_type": "code",
      "execution_count": 52,
      "metadata": {
        "id": "NlSKYvXqKh-M"
      },
      "outputs": [],
      "source": [
        "eval_policy = agent.policy\n",
        "collect_policy = agent.collect_policy"
      ]
    },
    {
      "cell_type": "code",
      "execution_count": 53,
      "metadata": {
        "id": "pe9SoBKSOPGM"
      },
      "outputs": [],
      "source": [
        "random_policy = random_tf_policy.RandomTFPolicy(train_env.time_step_spec(), train_env.action_spec())"
      ]
    },
    {
      "cell_type": "code",
      "execution_count": 54,
      "metadata": {
        "id": "KDCMutP3OQmL"
      },
      "outputs": [],
      "source": [
        "time_step = train_env.reset()"
      ]
    },
    {
      "cell_type": "code",
      "execution_count": 55,
      "metadata": {
        "colab": {
          "base_uri": "https://localhost:8080/"
        },
        "id": "fmAhPXXvOXD0",
        "outputId": "f10aa247-f86e-4ab6-e126-d4257ec4fbb0"
      },
      "outputs": [
        {
          "output_type": "execute_result",
          "data": {
            "text/plain": [
              "PolicyStep(action=<tf.Tensor: shape=(1,), dtype=int64, numpy=array([1])>, state=(), info=())"
            ]
          },
          "metadata": {},
          "execution_count": 55
        }
      ],
      "source": [
        "random_policy.action(time_step)"
      ]
    },
    {
      "cell_type": "code",
      "execution_count": 56,
      "metadata": {
        "id": "kVhzzv5IOZKC"
      },
      "outputs": [],
      "source": [
        "def compute_avg_return(environment, policy, num_episodes=5):\n",
        "\n",
        "  total_return = 0.0\n",
        "  for _ in range(num_episodes):\n",
        "\n",
        "    time_step = environment.reset()\n",
        "    episode_return = 0.0\n",
        "    zeros = 0\n",
        "    ones = 0\n",
        "\n",
        "    while not time_step.is_last():\n",
        "      action_step = policy.action(time_step)\n",
        "      if action_step.action.numpy()[0] == 1:\n",
        "        ones+=1\n",
        "      else:\n",
        "        zeros+=1\n",
        "      time_step = environment.step(action_step.action)\n",
        "      episode_return += time_step.reward\n",
        "    total_return += episode_return\n",
        "\n",
        "  avg_return = total_return / num_episodes\n",
        "  return avg_return.numpy()[0], zeros, ones"
      ]
    },
    {
      "cell_type": "code",
      "execution_count": 57,
      "metadata": {
        "colab": {
          "base_uri": "https://localhost:8080/"
        },
        "id": "yYyFBcU1ObND",
        "outputId": "cb1360cc-dd35-44cd-f239-6fc054c3d98b"
      },
      "outputs": [
        {
          "output_type": "execute_result",
          "data": {
            "text/plain": [
              "(95933.625, 1003, 997)"
            ]
          },
          "metadata": {},
          "execution_count": 57
        }
      ],
      "source": [
        "compute_avg_return(eval_env, random_policy, num_episodes=1)"
      ]
    },
    {
      "cell_type": "code",
      "execution_count": 58,
      "metadata": {
        "id": "EzhOMNPwOd2D",
        "colab": {
          "base_uri": "https://localhost:8080/"
        },
        "outputId": "0dc909b5-bf4e-4d5f-eb10-81dbab058b47"
      },
      "outputs": [
        {
          "output_type": "stream",
          "name": "stderr",
          "text": [
            "/usr/local/lib/python3.10/dist-packages/ipykernel/ipkernel.py:283: DeprecationWarning: `should_run_async` will not call `transform_cell` automatically in the future. Please pass the result to `transformed_cell` argument and any exception that happen during thetransform in `preprocessing_exc_tuple` in IPython 7.17 and above.\n",
            "  and should_run_async(code)\n"
          ]
        }
      ],
      "source": [
        "replay_buffer = TFUniformReplayBuffer(\n",
        "    data_spec=agent.collect_data_spec,\n",
        "    batch_size=train_env.batch_size,\n",
        "    max_length=100_000)"
      ]
    },
    {
      "cell_type": "code",
      "execution_count": null,
      "metadata": {
        "id": "WFtaeyCrOwfs"
      },
      "outputs": [],
      "source": [
        "# replay_buffer_observer = replay_buffer.add_batch"
      ]
    },
    {
      "cell_type": "code",
      "execution_count": 59,
      "metadata": {
        "id": "hA5Ksnnb4wI3"
      },
      "outputs": [],
      "source": [
        "train_env.reset()\n",
        "\n",
        "init_driver = DynamicStepDriver(\n",
        "    train_env,\n",
        "    random_policy,\n",
        "    observers=[replay_buffer.add_batch],\n",
        "    num_steps=2_500)\n",
        "final_time_step, final_policy_state = init_driver.run()"
      ]
    },
    {
      "cell_type": "code",
      "execution_count": 60,
      "metadata": {
        "colab": {
          "base_uri": "https://localhost:8080/"
        },
        "id": "eOLRciJL4xu9",
        "outputId": "01749dce-7d05-4d25-efad-2e1403cd63bf"
      },
      "outputs": [
        {
          "output_type": "stream",
          "name": "stderr",
          "text": [
            "WARNING:tensorflow:From <ipython-input-60-508fce8195e4>:1: ReplayBuffer.get_next (from tf_agents.replay_buffers.replay_buffer) is deprecated and will be removed in a future version.\n",
            "Instructions for updating:\n",
            "Use `as_dataset(..., single_deterministic_pass=False) instead.\n"
          ]
        }
      ],
      "source": [
        "trajectories, buffer_info = replay_buffer.get_next(sample_batch_size=2, num_steps=3)"
      ]
    },
    {
      "cell_type": "code",
      "execution_count": 61,
      "metadata": {
        "colab": {
          "base_uri": "https://localhost:8080/"
        },
        "id": "cDEoVGC643FG",
        "outputId": "ec426bbe-ce98-4d70-c5ed-fc578d33809f"
      },
      "outputs": [
        {
          "output_type": "execute_result",
          "data": {
            "text/plain": [
              "TensorShape([2, 3, 140])"
            ]
          },
          "metadata": {},
          "execution_count": 61
        }
      ],
      "source": [
        "trajectories.observation.shape"
      ]
    },
    {
      "cell_type": "code",
      "execution_count": 62,
      "metadata": {
        "colab": {
          "base_uri": "https://localhost:8080/"
        },
        "id": "fAnFqRmy43jV",
        "outputId": "0b09110e-0927-4fad-eb3c-2b63f1fa8feb"
      },
      "outputs": [
        {
          "output_type": "execute_result",
          "data": {
            "text/plain": [
              "TensorShape([2, 2, 140])"
            ]
          },
          "metadata": {},
          "execution_count": 62
        }
      ],
      "source": [
        "from tf_agents.trajectories.trajectory import to_transition\n",
        "time_steps, action_steps, next_time_steps = to_transition(trajectories)\n",
        "time_steps.observation.shape"
      ]
    },
    {
      "cell_type": "markdown",
      "metadata": {
        "id": "WhREwBCPIt5F"
      },
      "source": [
        "Each row of the replay buffer only stores a single observation step. But since the DQN Agent needs both the current and next observation to compute the loss, the dataset pipeline will sample two adjacent rows for each item in the batch (`num_steps=2`)."
      ]
    },
    {
      "cell_type": "code",
      "execution_count": 63,
      "metadata": {
        "id": "P6OaD_gV47Jf",
        "colab": {
          "base_uri": "https://localhost:8080/"
        },
        "outputId": "e1f17800-1645-48c3-a603-79e95ce3f697"
      },
      "outputs": [
        {
          "output_type": "stream",
          "name": "stderr",
          "text": [
            "WARNING:tensorflow:From /usr/local/lib/python3.10/dist-packages/tf_agents/replay_buffers/tf_uniform_replay_buffer.py:364: CounterV2 (from tensorflow.python.data.experimental.ops.counter) is deprecated and will be removed in a future version.\n",
            "Instructions for updating:\n",
            "Use `tf.data.Dataset.counter(...)` instead.\n"
          ]
        }
      ],
      "source": [
        "dataset = replay_buffer.as_dataset(\n",
        "    num_parallel_calls=3,\n",
        "    sample_batch_size=64,\n",
        "    num_steps=2).prefetch(3)"
      ]
    },
    {
      "cell_type": "code",
      "execution_count": 64,
      "metadata": {
        "colab": {
          "base_uri": "https://localhost:8080/"
        },
        "id": "x3OGR6iBHkKr",
        "outputId": "92ea8390-b9f0-4b56-f153-eec69bda6831"
      },
      "outputs": [
        {
          "output_type": "execute_result",
          "data": {
            "text/plain": [
              "<_PrefetchDataset element_spec=(Trajectory(\n",
              "{'action': TensorSpec(shape=(64, 2), dtype=tf.int64, name=None),\n",
              " 'discount': TensorSpec(shape=(64, 2), dtype=tf.float32, name=None),\n",
              " 'next_step_type': TensorSpec(shape=(64, 2), dtype=tf.int32, name=None),\n",
              " 'observation': TensorSpec(shape=(64, 2, 140), dtype=tf.float32, name=None),\n",
              " 'policy_info': (),\n",
              " 'reward': TensorSpec(shape=(64, 2), dtype=tf.float32, name=None),\n",
              " 'step_type': TensorSpec(shape=(64, 2), dtype=tf.int32, name=None)}), BufferInfo(ids=TensorSpec(shape=(64, 2), dtype=tf.int64, name=None), probabilities=TensorSpec(shape=(64,), dtype=tf.float32, name=None)))>"
            ]
          },
          "metadata": {},
          "execution_count": 64
        }
      ],
      "source": [
        "dataset"
      ]
    },
    {
      "cell_type": "code",
      "execution_count": 65,
      "metadata": {
        "id": "WKQ78qeu47mf"
      },
      "outputs": [],
      "source": [
        "iterator = iter(dataset)"
      ]
    },
    {
      "cell_type": "code",
      "execution_count": 66,
      "metadata": {
        "id": "NNc3DoMY49FX"
      },
      "outputs": [],
      "source": [
        "num_iterations = 1_000_000   # less intelligence, more persistance; 24x7 player\n",
        "save_interval = 100_000\n",
        "eval_interval = 50_000\n",
        "log_interval = 5_000"
      ]
    },
    {
      "cell_type": "code",
      "execution_count": 67,
      "metadata": {
        "id": "XQjIJVrR5Hdf"
      },
      "outputs": [],
      "source": [
        "# Create a driver to collect experience.\n",
        "collect_driver = DynamicStepDriver(\n",
        "    train_env,\n",
        "    agent.collect_policy,\n",
        "    observers=[replay_buffer.add_batch],\n",
        "    num_steps=4) # collect 4 steps for each training iteration"
      ]
    },
    {
      "cell_type": "markdown",
      "metadata": {
        "id": "697LY8DbByPk"
      },
      "source": [
        "### Training the Trader"
      ]
    },
    {
      "cell_type": "code",
      "execution_count": 68,
      "metadata": {
        "id": "BmlqAAWH5JpP"
      },
      "outputs": [],
      "source": [
        "# (Optional) Optimize by wrapping some of the code in a graph using TF function.\n",
        "collect_driver.run = common.function(collect_driver.run)\n",
        "agent.train = common.function(agent.train)\n",
        "\n",
        "# Reset the train step.\n",
        "agent.train_step_counter.assign(0)\n",
        "\n",
        "# Evaluate the agent's policy once before training.\n",
        "avg_return = compute_avg_return(train_env, agent.policy, num_episodes=1)[0]\n",
        "returns = np.array([avg_return])\n",
        "\n",
        "# Reset the environment.\n",
        "time_step = None\n",
        "policy_state = agent.collect_policy.get_initial_state(train_env.batch_size)"
      ]
    },
    {
      "cell_type": "code",
      "execution_count": 71,
      "metadata": {
        "colab": {
          "base_uri": "https://localhost:8080/"
        },
        "id": "q6eNW5c16A_h",
        "outputId": "efbda293-7ac5-4bc1-934c-d6e019789529"
      },
      "outputs": [
        {
          "output_type": "stream",
          "name": "stdout",
          "text": [
            "\r step 54342"
          ]
        }
      ],
      "source": [
        "num_iterations = 1000\n",
        "while True:\n",
        "    # Collect a few steps using collect_policy and save to the replay buffer.\n",
        "    time_step, policy_state = collect_driver.run(time_step, policy_state)\n",
        "\n",
        "    # Sample a batch of data from the buffer and update the agent's network.\n",
        "    experience, unused_info = next(iterator)\n",
        "    train_loss = agent.train(experience).loss\n",
        "\n",
        "    step = agent.train_step_counter.numpy()\n",
        "    print(f'\\r step {step}', end='')\n",
        "\n",
        "    if step % log_interval == 0:\n",
        "        print('step = {0}: loss = {1}'.format(step, train_loss))\n",
        "\n",
        "    if step % eval_interval == 0:\n",
        "        avg_return = compute_avg_return(train_env, agent.policy, num_episodes=1)[0]\n",
        "        print('step = {0}: Average Return = {1}'.format(step, avg_return))\n",
        "        returns = np.append(returns, avg_return)\n",
        "\n",
        "    # if step % save_interval == 0:\n",
        "    #     save_checkpoint_to_local()\n",
        "\n",
        "    if step > num_iterations:\n",
        "        break"
      ]
    },
    {
      "cell_type": "markdown",
      "metadata": {
        "id": "VgJvZ4bqEQzb"
      },
      "source": [
        "### Save the Trader Model\n",
        "\n",
        "The policy is saved to github. We can wget from github and unzip it."
      ]
    },
    {
      "cell_type": "code",
      "execution_count": 72,
      "metadata": {
        "id": "jVoEC5TNswZz"
      },
      "outputs": [],
      "source": [
        "def create_zip_file(dirname, base_filename):\n",
        "  return shutil.make_archive(base_filename, 'zip', dirname)"
      ]
    },
    {
      "cell_type": "code",
      "execution_count": 73,
      "metadata": {
        "id": "yNSjnH7Nr-Xb"
      },
      "outputs": [],
      "source": [
        "tempdir = os.getenv(\"TEST_TMPDIR\", tempfile.gettempdir())\n",
        "\n",
        "policy_dir = os.path.join(tempdir, 'policy')\n",
        "tf_policy_saver = policy_saver.PolicySaver(agent.policy)"
      ]
    },
    {
      "cell_type": "code",
      "execution_count": 74,
      "metadata": {
        "colab": {
          "base_uri": "https://localhost:8080/"
        },
        "id": "kIWSMYs-sVdh",
        "outputId": "d2b3d7c8-3093-4448-d2eb-7e49787d0dd5"
      },
      "outputs": [
        {
          "output_type": "stream",
          "name": "stderr",
          "text": [
            "WARNING:absl:`0/step_type` is not a valid tf.function parameter name. Sanitizing to `arg_0_step_type`.\n",
            "WARNING:absl:`0/reward` is not a valid tf.function parameter name. Sanitizing to `arg_0_reward`.\n",
            "WARNING:absl:`0/discount` is not a valid tf.function parameter name. Sanitizing to `arg_0_discount`.\n",
            "WARNING:absl:`0/observation` is not a valid tf.function parameter name. Sanitizing to `arg_0_observation`.\n",
            "WARNING:absl:`0/step_type` is not a valid tf.function parameter name. Sanitizing to `arg_0_step_type`.\n",
            "/usr/local/lib/python3.10/dist-packages/tensorflow/python/saved_model/nested_structure_coder.py:458: UserWarning: Encoding a StructuredValue with type tfp.distributions.Deterministic_ACTTypeSpec; loading this StructuredValue will require that this type be imported and registered.\n",
            "  warnings.warn(\"Encoding a StructuredValue with type %s; loading this \"\n"
          ]
        }
      ],
      "source": [
        "tf_policy_saver.save(policy_dir)\n",
        "policy_zip_filename = create_zip_file(policy_dir, os.path.join(tempdir, 'exported_policy'))"
      ]
    },
    {
      "cell_type": "code",
      "execution_count": 75,
      "metadata": {
        "colab": {
          "base_uri": "https://localhost:8080/"
        },
        "id": "SnxRP9Y4zD0q",
        "outputId": "9fb6c2fd-7143-49df-86db-94783c11f277"
      },
      "outputs": [
        {
          "output_type": "stream",
          "name": "stdout",
          "text": [
            "/tmp/exported_policy.zip\n"
          ]
        }
      ],
      "source": [
        "!ls /tmp/exported_policy.zip"
      ]
    },
    {
      "cell_type": "code",
      "execution_count": 76,
      "metadata": {
        "colab": {
          "base_uri": "https://localhost:8080/",
          "height": 17
        },
        "id": "xx2swYc3ssQp",
        "outputId": "dae429b3-e919-4ef7-b952-7efb8c362b19"
      },
      "outputs": [
        {
          "output_type": "display_data",
          "data": {
            "text/plain": [
              "<IPython.core.display.Javascript object>"
            ],
            "application/javascript": [
              "\n",
              "    async function download(id, filename, size) {\n",
              "      if (!google.colab.kernel.accessAllowed) {\n",
              "        return;\n",
              "      }\n",
              "      const div = document.createElement('div');\n",
              "      const label = document.createElement('label');\n",
              "      label.textContent = `Downloading \"${filename}\": `;\n",
              "      div.appendChild(label);\n",
              "      const progress = document.createElement('progress');\n",
              "      progress.max = size;\n",
              "      div.appendChild(progress);\n",
              "      document.body.appendChild(div);\n",
              "\n",
              "      const buffers = [];\n",
              "      let downloaded = 0;\n",
              "\n",
              "      const channel = await google.colab.kernel.comms.open(id);\n",
              "      // Send a message to notify the kernel that we're ready.\n",
              "      channel.send({})\n",
              "\n",
              "      for await (const message of channel.messages) {\n",
              "        // Send a message to notify the kernel that we're ready.\n",
              "        channel.send({})\n",
              "        if (message.buffers) {\n",
              "          for (const buffer of message.buffers) {\n",
              "            buffers.push(buffer);\n",
              "            downloaded += buffer.byteLength;\n",
              "            progress.value = downloaded;\n",
              "          }\n",
              "        }\n",
              "      }\n",
              "      const blob = new Blob(buffers, {type: 'application/binary'});\n",
              "      const a = document.createElement('a');\n",
              "      a.href = window.URL.createObjectURL(blob);\n",
              "      a.download = filename;\n",
              "      div.appendChild(a);\n",
              "      a.click();\n",
              "      div.remove();\n",
              "    }\n",
              "  "
            ]
          },
          "metadata": {}
        },
        {
          "output_type": "display_data",
          "data": {
            "text/plain": [
              "<IPython.core.display.Javascript object>"
            ],
            "application/javascript": [
              "download(\"download_e1bf207c-4b15-4b52-9637-e24d652d54a4\", \"exported_policy.zip\", 84724)"
            ]
          },
          "metadata": {}
        }
      ],
      "source": [
        "files.download(policy_zip_filename)"
      ]
    },
    {
      "cell_type": "markdown",
      "metadata": {
        "id": "gAEQgMgH4QuM"
      },
      "source": [
        "export checkpoint"
      ]
    },
    {
      "cell_type": "code",
      "execution_count": 77,
      "metadata": {
        "id": "Edva1ail29lu"
      },
      "outputs": [],
      "source": [
        "checkpoint_dir = os.path.join(tempdir, 'checkpoint')\n",
        "train_checkpointer = common.Checkpointer(\n",
        "    ckpt_dir=checkpoint_dir,\n",
        "    max_to_keep=1,\n",
        "    agent=agent,\n",
        "    policy=agent.policy,\n",
        "    replay_buffer=replay_buffer,\n",
        "    global_step=train_step_counter\n",
        ")"
      ]
    },
    {
      "cell_type": "code",
      "execution_count": 78,
      "metadata": {
        "id": "DB-HSKXx34iW"
      },
      "outputs": [],
      "source": [
        "train_checkpointer.save(train_step_counter)"
      ]
    },
    {
      "cell_type": "code",
      "execution_count": 79,
      "metadata": {
        "colab": {
          "base_uri": "https://localhost:8080/"
        },
        "id": "vzhIiWDGmYCg",
        "outputId": "5ab57188-a09c-4771-a488-6d949846cea9"
      },
      "outputs": [
        {
          "output_type": "stream",
          "name": "stdout",
          "text": [
            "total 58128\n",
            "-rw-r--r-- 1 root root      174 Nov  4 06:52 checkpoint\n",
            "-rw-r--r-- 1 root root 59514118 Nov  4 06:52 ckpt-54342.data-00000-of-00001\n",
            "-rw-r--r-- 1 root root     2462 Nov  4 06:52 ckpt-54342.index\n"
          ]
        }
      ],
      "source": [
        "# !rm -rf /tmp/checkpoint\n",
        "!ls /tmp/checkpoint -l"
      ]
    },
    {
      "cell_type": "code",
      "execution_count": 80,
      "metadata": {
        "id": "lX2invMq4BYv"
      },
      "outputs": [],
      "source": [
        "checkpoint_zip_filename = create_zip_file(checkpoint_dir, os.path.join(tempdir, 'exported_cp'))"
      ]
    },
    {
      "cell_type": "code",
      "execution_count": 81,
      "metadata": {
        "colab": {
          "base_uri": "https://localhost:8080/",
          "height": 17
        },
        "id": "mozB25aF3nlN",
        "outputId": "4b1d703f-e41b-455a-e846-d1f89873e8bc"
      },
      "outputs": [
        {
          "output_type": "display_data",
          "data": {
            "text/plain": [
              "<IPython.core.display.Javascript object>"
            ],
            "application/javascript": [
              "\n",
              "    async function download(id, filename, size) {\n",
              "      if (!google.colab.kernel.accessAllowed) {\n",
              "        return;\n",
              "      }\n",
              "      const div = document.createElement('div');\n",
              "      const label = document.createElement('label');\n",
              "      label.textContent = `Downloading \"${filename}\": `;\n",
              "      div.appendChild(label);\n",
              "      const progress = document.createElement('progress');\n",
              "      progress.max = size;\n",
              "      div.appendChild(progress);\n",
              "      document.body.appendChild(div);\n",
              "\n",
              "      const buffers = [];\n",
              "      let downloaded = 0;\n",
              "\n",
              "      const channel = await google.colab.kernel.comms.open(id);\n",
              "      // Send a message to notify the kernel that we're ready.\n",
              "      channel.send({})\n",
              "\n",
              "      for await (const message of channel.messages) {\n",
              "        // Send a message to notify the kernel that we're ready.\n",
              "        channel.send({})\n",
              "        if (message.buffers) {\n",
              "          for (const buffer of message.buffers) {\n",
              "            buffers.push(buffer);\n",
              "            downloaded += buffer.byteLength;\n",
              "            progress.value = downloaded;\n",
              "          }\n",
              "        }\n",
              "      }\n",
              "      const blob = new Blob(buffers, {type: 'application/binary'});\n",
              "      const a = document.createElement('a');\n",
              "      a.href = window.URL.createObjectURL(blob);\n",
              "      a.download = filename;\n",
              "      div.appendChild(a);\n",
              "      a.click();\n",
              "      div.remove();\n",
              "    }\n",
              "  "
            ]
          },
          "metadata": {}
        },
        {
          "output_type": "display_data",
          "data": {
            "text/plain": [
              "<IPython.core.display.Javascript object>"
            ],
            "application/javascript": [
              "download(\"download_794378aa-4686-4199-8eb6-ce37cb23ed8c\", \"exported_cp.zip\", 6192144)"
            ]
          },
          "metadata": {}
        }
      ],
      "source": [
        "files.download(checkpoint_zip_filename)"
      ]
    },
    {
      "cell_type": "markdown",
      "metadata": {
        "id": "JFj9yVq545jf"
      },
      "source": [
        "Restore checkpoint"
      ]
    },
    {
      "cell_type": "code",
      "execution_count": 82,
      "metadata": {
        "id": "LJ5jiVHW4_qe"
      },
      "outputs": [],
      "source": [
        "saved_policy = tf.saved_model.load(policy_dir)"
      ]
    },
    {
      "cell_type": "markdown",
      "metadata": {
        "id": "ErHSZkcuB3gU"
      },
      "source": [
        "### Evaluate Trader Performance"
      ]
    },
    {
      "cell_type": "markdown",
      "metadata": {
        "id": "t6AIafOLGscg"
      },
      "source": []
    },
    {
      "cell_type": "code",
      "execution_count": 84,
      "metadata": {
        "colab": {
          "base_uri": "https://localhost:8080/",
          "height": 1000
        },
        "id": "rSBzMqEy5Phf",
        "outputId": "13038bc0-dfc8-4e90-9351-10d7b0a39def"
      },
      "outputs": [
        {
          "output_type": "stream",
          "name": "stderr",
          "text": [
            "/usr/local/lib/python3.10/dist-packages/gym/core.py:43: DeprecationWarning: \u001b[33mWARN: The argument mode in render method is deprecated; use render_mode during environment initialization instead.\n",
            "See here for more information: https://www.gymlibrary.ml/content/api/\u001b[0m\n",
            "  spec = None\n",
            "/usr/local/lib/python3.10/dist-packages/gym/core.py:43: DeprecationWarning: \u001b[33mWARN: The argument mode in render method is deprecated; use render_mode during environment initialization instead.\n",
            "See here for more information: https://www.gymlibrary.ml/content/api/\u001b[0m\n",
            "  spec = None\n",
            "/usr/local/lib/python3.10/dist-packages/gym/core.py:43: DeprecationWarning: \u001b[33mWARN: The argument mode in render method is deprecated; use render_mode during environment initialization instead.\n",
            "See here for more information: https://www.gymlibrary.ml/content/api/\u001b[0m\n",
            "  spec = None\n",
            "/usr/local/lib/python3.10/dist-packages/gym/core.py:43: DeprecationWarning: \u001b[33mWARN: The argument mode in render method is deprecated; use render_mode during environment initialization instead.\n",
            "See here for more information: https://www.gymlibrary.ml/content/api/\u001b[0m\n",
            "  spec = None\n",
            "/usr/local/lib/python3.10/dist-packages/gym/core.py:43: DeprecationWarning: \u001b[33mWARN: The argument mode in render method is deprecated; use render_mode during environment initialization instead.\n",
            "See here for more information: https://www.gymlibrary.ml/content/api/\u001b[0m\n",
            "  spec = None\n",
            "/usr/local/lib/python3.10/dist-packages/gym/core.py:43: DeprecationWarning: \u001b[33mWARN: The argument mode in render method is deprecated; use render_mode during environment initialization instead.\n",
            "See here for more information: https://www.gymlibrary.ml/content/api/\u001b[0m\n",
            "  spec = None\n",
            "/usr/local/lib/python3.10/dist-packages/gym/core.py:43: DeprecationWarning: \u001b[33mWARN: The argument mode in render method is deprecated; use render_mode during environment initialization instead.\n",
            "See here for more information: https://www.gymlibrary.ml/content/api/\u001b[0m\n",
            "  spec = None\n",
            "/usr/local/lib/python3.10/dist-packages/gym/core.py:43: DeprecationWarning: \u001b[33mWARN: The argument mode in render method is deprecated; use render_mode during environment initialization instead.\n",
            "See here for more information: https://www.gymlibrary.ml/content/api/\u001b[0m\n",
            "  spec = None\n",
            "/usr/local/lib/python3.10/dist-packages/gym/core.py:43: DeprecationWarning: \u001b[33mWARN: The argument mode in render method is deprecated; use render_mode during environment initialization instead.\n",
            "See here for more information: https://www.gymlibrary.ml/content/api/\u001b[0m\n",
            "  spec = None\n",
            "/usr/local/lib/python3.10/dist-packages/gym/core.py:43: DeprecationWarning: \u001b[33mWARN: The argument mode in render method is deprecated; use render_mode during environment initialization instead.\n",
            "See here for more information: https://www.gymlibrary.ml/content/api/\u001b[0m\n",
            "  spec = None\n",
            "/usr/local/lib/python3.10/dist-packages/gym/core.py:43: DeprecationWarning: \u001b[33mWARN: The argument mode in render method is deprecated; use render_mode during environment initialization instead.\n",
            "See here for more information: https://www.gymlibrary.ml/content/api/\u001b[0m\n",
            "  spec = None\n",
            "/usr/local/lib/python3.10/dist-packages/gym/core.py:43: DeprecationWarning: \u001b[33mWARN: The argument mode in render method is deprecated; use render_mode during environment initialization instead.\n",
            "See here for more information: https://www.gymlibrary.ml/content/api/\u001b[0m\n",
            "  spec = None\n",
            "/usr/local/lib/python3.10/dist-packages/gym/core.py:43: DeprecationWarning: \u001b[33mWARN: The argument mode in render method is deprecated; use render_mode during environment initialization instead.\n",
            "See here for more information: https://www.gymlibrary.ml/content/api/\u001b[0m\n",
            "  spec = None\n",
            "/usr/local/lib/python3.10/dist-packages/gym/core.py:43: DeprecationWarning: \u001b[33mWARN: The argument mode in render method is deprecated; use render_mode during environment initialization instead.\n",
            "See here for more information: https://www.gymlibrary.ml/content/api/\u001b[0m\n",
            "  spec = None\n",
            "/usr/local/lib/python3.10/dist-packages/gym/core.py:43: DeprecationWarning: \u001b[33mWARN: The argument mode in render method is deprecated; use render_mode during environment initialization instead.\n",
            "See here for more information: https://www.gymlibrary.ml/content/api/\u001b[0m\n",
            "  spec = None\n",
            "/usr/local/lib/python3.10/dist-packages/gym/core.py:43: DeprecationWarning: \u001b[33mWARN: The argument mode in render method is deprecated; use render_mode during environment initialization instead.\n",
            "See here for more information: https://www.gymlibrary.ml/content/api/\u001b[0m\n",
            "  spec = None\n",
            "/usr/local/lib/python3.10/dist-packages/gym/core.py:43: DeprecationWarning: \u001b[33mWARN: The argument mode in render method is deprecated; use render_mode during environment initialization instead.\n",
            "See here for more information: https://www.gymlibrary.ml/content/api/\u001b[0m\n",
            "  spec = None\n",
            "/usr/local/lib/python3.10/dist-packages/gym/core.py:43: DeprecationWarning: \u001b[33mWARN: The argument mode in render method is deprecated; use render_mode during environment initialization instead.\n",
            "See here for more information: https://www.gymlibrary.ml/content/api/\u001b[0m\n",
            "  spec = None\n",
            "/usr/local/lib/python3.10/dist-packages/gym/core.py:43: DeprecationWarning: \u001b[33mWARN: The argument mode in render method is deprecated; use render_mode during environment initialization instead.\n",
            "See here for more information: https://www.gymlibrary.ml/content/api/\u001b[0m\n",
            "  spec = None\n",
            "/usr/local/lib/python3.10/dist-packages/gym/core.py:43: DeprecationWarning: \u001b[33mWARN: The argument mode in render method is deprecated; use render_mode during environment initialization instead.\n",
            "See here for more information: https://www.gymlibrary.ml/content/api/\u001b[0m\n",
            "  spec = None\n",
            "/usr/local/lib/python3.10/dist-packages/gym/core.py:43: DeprecationWarning: \u001b[33mWARN: The argument mode in render method is deprecated; use render_mode during environment initialization instead.\n",
            "See here for more information: https://www.gymlibrary.ml/content/api/\u001b[0m\n",
            "  spec = None\n",
            "/usr/local/lib/python3.10/dist-packages/gym/core.py:43: DeprecationWarning: \u001b[33mWARN: The argument mode in render method is deprecated; use render_mode during environment initialization instead.\n",
            "See here for more information: https://www.gymlibrary.ml/content/api/\u001b[0m\n",
            "  spec = None\n",
            "/usr/local/lib/python3.10/dist-packages/gym/core.py:43: DeprecationWarning: \u001b[33mWARN: The argument mode in render method is deprecated; use render_mode during environment initialization instead.\n",
            "See here for more information: https://www.gymlibrary.ml/content/api/\u001b[0m\n",
            "  spec = None\n",
            "/usr/local/lib/python3.10/dist-packages/gym/core.py:43: DeprecationWarning: \u001b[33mWARN: The argument mode in render method is deprecated; use render_mode during environment initialization instead.\n",
            "See here for more information: https://www.gymlibrary.ml/content/api/\u001b[0m\n",
            "  spec = None\n",
            "/usr/local/lib/python3.10/dist-packages/gym/core.py:43: DeprecationWarning: \u001b[33mWARN: The argument mode in render method is deprecated; use render_mode during environment initialization instead.\n",
            "See here for more information: https://www.gymlibrary.ml/content/api/\u001b[0m\n",
            "  spec = None\n",
            "/usr/local/lib/python3.10/dist-packages/gym/core.py:43: DeprecationWarning: \u001b[33mWARN: The argument mode in render method is deprecated; use render_mode during environment initialization instead.\n",
            "See here for more information: https://www.gymlibrary.ml/content/api/\u001b[0m\n",
            "  spec = None\n",
            "/usr/local/lib/python3.10/dist-packages/gym/core.py:43: DeprecationWarning: \u001b[33mWARN: The argument mode in render method is deprecated; use render_mode during environment initialization instead.\n",
            "See here for more information: https://www.gymlibrary.ml/content/api/\u001b[0m\n",
            "  spec = None\n",
            "/usr/local/lib/python3.10/dist-packages/gym/core.py:43: DeprecationWarning: \u001b[33mWARN: The argument mode in render method is deprecated; use render_mode during environment initialization instead.\n",
            "See here for more information: https://www.gymlibrary.ml/content/api/\u001b[0m\n",
            "  spec = None\n",
            "/usr/local/lib/python3.10/dist-packages/gym/core.py:43: DeprecationWarning: \u001b[33mWARN: The argument mode in render method is deprecated; use render_mode during environment initialization instead.\n",
            "See here for more information: https://www.gymlibrary.ml/content/api/\u001b[0m\n",
            "  spec = None\n",
            "/usr/local/lib/python3.10/dist-packages/gym/core.py:43: DeprecationWarning: \u001b[33mWARN: The argument mode in render method is deprecated; use render_mode during environment initialization instead.\n",
            "See here for more information: https://www.gymlibrary.ml/content/api/\u001b[0m\n",
            "  spec = None\n",
            "/usr/local/lib/python3.10/dist-packages/gym/core.py:43: DeprecationWarning: \u001b[33mWARN: The argument mode in render method is deprecated; use render_mode during environment initialization instead.\n",
            "See here for more information: https://www.gymlibrary.ml/content/api/\u001b[0m\n",
            "  spec = None\n",
            "/usr/local/lib/python3.10/dist-packages/gym/core.py:43: DeprecationWarning: \u001b[33mWARN: The argument mode in render method is deprecated; use render_mode during environment initialization instead.\n",
            "See here for more information: https://www.gymlibrary.ml/content/api/\u001b[0m\n",
            "  spec = None\n",
            "/usr/local/lib/python3.10/dist-packages/gym/core.py:43: DeprecationWarning: \u001b[33mWARN: The argument mode in render method is deprecated; use render_mode during environment initialization instead.\n",
            "See here for more information: https://www.gymlibrary.ml/content/api/\u001b[0m\n",
            "  spec = None\n",
            "/usr/local/lib/python3.10/dist-packages/gym/core.py:43: DeprecationWarning: \u001b[33mWARN: The argument mode in render method is deprecated; use render_mode during environment initialization instead.\n",
            "See here for more information: https://www.gymlibrary.ml/content/api/\u001b[0m\n",
            "  spec = None\n",
            "/usr/local/lib/python3.10/dist-packages/gym/core.py:43: DeprecationWarning: \u001b[33mWARN: The argument mode in render method is deprecated; use render_mode during environment initialization instead.\n",
            "See here for more information: https://www.gymlibrary.ml/content/api/\u001b[0m\n",
            "  spec = None\n",
            "/usr/local/lib/python3.10/dist-packages/gym/core.py:43: DeprecationWarning: \u001b[33mWARN: The argument mode in render method is deprecated; use render_mode during environment initialization instead.\n",
            "See here for more information: https://www.gymlibrary.ml/content/api/\u001b[0m\n",
            "  spec = None\n",
            "/usr/local/lib/python3.10/dist-packages/gym/core.py:43: DeprecationWarning: \u001b[33mWARN: The argument mode in render method is deprecated; use render_mode during environment initialization instead.\n",
            "See here for more information: https://www.gymlibrary.ml/content/api/\u001b[0m\n",
            "  spec = None\n",
            "/usr/local/lib/python3.10/dist-packages/gym/core.py:43: DeprecationWarning: \u001b[33mWARN: The argument mode in render method is deprecated; use render_mode during environment initialization instead.\n",
            "See here for more information: https://www.gymlibrary.ml/content/api/\u001b[0m\n",
            "  spec = None\n",
            "/usr/local/lib/python3.10/dist-packages/gym/core.py:43: DeprecationWarning: \u001b[33mWARN: The argument mode in render method is deprecated; use render_mode during environment initialization instead.\n",
            "See here for more information: https://www.gymlibrary.ml/content/api/\u001b[0m\n",
            "  spec = None\n",
            "/usr/local/lib/python3.10/dist-packages/gym/core.py:43: DeprecationWarning: \u001b[33mWARN: The argument mode in render method is deprecated; use render_mode during environment initialization instead.\n",
            "See here for more information: https://www.gymlibrary.ml/content/api/\u001b[0m\n",
            "  spec = None\n",
            "/usr/local/lib/python3.10/dist-packages/gym/core.py:43: DeprecationWarning: \u001b[33mWARN: The argument mode in render method is deprecated; use render_mode during environment initialization instead.\n",
            "See here for more information: https://www.gymlibrary.ml/content/api/\u001b[0m\n",
            "  spec = None\n",
            "/usr/local/lib/python3.10/dist-packages/gym/core.py:43: DeprecationWarning: \u001b[33mWARN: The argument mode in render method is deprecated; use render_mode during environment initialization instead.\n",
            "See here for more information: https://www.gymlibrary.ml/content/api/\u001b[0m\n",
            "  spec = None\n",
            "/usr/local/lib/python3.10/dist-packages/gym/core.py:43: DeprecationWarning: \u001b[33mWARN: The argument mode in render method is deprecated; use render_mode during environment initialization instead.\n",
            "See here for more information: https://www.gymlibrary.ml/content/api/\u001b[0m\n",
            "  spec = None\n",
            "/usr/local/lib/python3.10/dist-packages/gym/core.py:43: DeprecationWarning: \u001b[33mWARN: The argument mode in render method is deprecated; use render_mode during environment initialization instead.\n",
            "See here for more information: https://www.gymlibrary.ml/content/api/\u001b[0m\n",
            "  spec = None\n"
          ]
        },
        {
          "output_type": "error",
          "ename": "KeyboardInterrupt",
          "evalue": "ignored",
          "traceback": [
            "\u001b[0;31m---------------------------------------------------------------------------\u001b[0m",
            "\u001b[0;31mKeyboardInterrupt\u001b[0m                         Traceback (most recent call last)",
            "\u001b[0;32m<ipython-input-84-dfbf8e2431e5>\u001b[0m in \u001b[0;36m<cell line: 1>\u001b[0;34m()\u001b[0m\n\u001b[0;32m----> 1\u001b[0;31m \u001b[0mcreate_policy_eval_video\u001b[0m\u001b[0;34m(\u001b[0m\u001b[0meval_env\u001b[0m\u001b[0;34m,\u001b[0m \u001b[0magent\u001b[0m\u001b[0;34m.\u001b[0m\u001b[0mpolicy\u001b[0m\u001b[0;34m,\u001b[0m \u001b[0;34m\"trained-agent\"\u001b[0m\u001b[0;34m,\u001b[0m \u001b[0mnum_episodes\u001b[0m\u001b[0;34m=\u001b[0m\u001b[0;36m1\u001b[0m\u001b[0;34m)\u001b[0m\u001b[0;34m\u001b[0m\u001b[0;34m\u001b[0m\u001b[0m\n\u001b[0m",
            "\u001b[0;32m<ipython-input-42-9deae3ffd667>\u001b[0m in \u001b[0;36mcreate_policy_eval_video\u001b[0;34m(env, policy, filename, num_episodes, fps)\u001b[0m\n\u001b[1;32m     19\u001b[0m \u001b[0;34m\u001b[0m\u001b[0m\n\u001b[1;32m     20\u001b[0m       \u001b[0;32mwhile\u001b[0m \u001b[0;32mnot\u001b[0m \u001b[0mtime_step\u001b[0m\u001b[0;34m.\u001b[0m\u001b[0mis_last\u001b[0m\u001b[0;34m(\u001b[0m\u001b[0;34m)\u001b[0m\u001b[0;34m:\u001b[0m\u001b[0;34m\u001b[0m\u001b[0;34m\u001b[0m\u001b[0m\n\u001b[0;32m---> 21\u001b[0;31m         \u001b[0maction_step\u001b[0m \u001b[0;34m=\u001b[0m \u001b[0mpolicy\u001b[0m\u001b[0;34m.\u001b[0m\u001b[0maction\u001b[0m\u001b[0;34m(\u001b[0m\u001b[0mtime_step\u001b[0m\u001b[0;34m)\u001b[0m\u001b[0;34m\u001b[0m\u001b[0;34m\u001b[0m\u001b[0m\n\u001b[0m\u001b[1;32m     22\u001b[0m         \u001b[0mtime_step\u001b[0m \u001b[0;34m=\u001b[0m \u001b[0menv\u001b[0m\u001b[0;34m.\u001b[0m\u001b[0mstep\u001b[0m\u001b[0;34m(\u001b[0m\u001b[0maction_step\u001b[0m\u001b[0;34m.\u001b[0m\u001b[0maction\u001b[0m\u001b[0;34m)\u001b[0m\u001b[0;34m\u001b[0m\u001b[0;34m\u001b[0m\u001b[0m\n\u001b[1;32m     23\u001b[0m         \u001b[0mvideo\u001b[0m\u001b[0;34m.\u001b[0m\u001b[0mappend_data\u001b[0m\u001b[0;34m(\u001b[0m\u001b[0menv\u001b[0m\u001b[0;34m.\u001b[0m\u001b[0mpyenv\u001b[0m\u001b[0;34m.\u001b[0m\u001b[0menvs\u001b[0m\u001b[0;34m[\u001b[0m\u001b[0;36m0\u001b[0m\u001b[0;34m]\u001b[0m\u001b[0;34m.\u001b[0m\u001b[0mrender\u001b[0m\u001b[0;34m(\u001b[0m\u001b[0;34m)\u001b[0m\u001b[0;34m)\u001b[0m\u001b[0;34m\u001b[0m\u001b[0;34m\u001b[0m\u001b[0m\n",
            "\u001b[0;32m/usr/local/lib/python3.10/dist-packages/tf_agents/policies/tf_policy.py\u001b[0m in \u001b[0;36maction\u001b[0;34m(self, time_step, policy_state, seed)\u001b[0m\n\u001b[1;32m    331\u001b[0m     \u001b[0;32mif\u001b[0m \u001b[0mself\u001b[0m\u001b[0;34m.\u001b[0m\u001b[0m_automatic_state_reset\u001b[0m\u001b[0;34m:\u001b[0m\u001b[0;34m\u001b[0m\u001b[0;34m\u001b[0m\u001b[0m\n\u001b[1;32m    332\u001b[0m       \u001b[0mpolicy_state\u001b[0m \u001b[0;34m=\u001b[0m \u001b[0mself\u001b[0m\u001b[0;34m.\u001b[0m\u001b[0m_maybe_reset_state\u001b[0m\u001b[0;34m(\u001b[0m\u001b[0mtime_step\u001b[0m\u001b[0;34m,\u001b[0m \u001b[0mpolicy_state\u001b[0m\u001b[0;34m)\u001b[0m\u001b[0;34m\u001b[0m\u001b[0;34m\u001b[0m\u001b[0m\n\u001b[0;32m--> 333\u001b[0;31m     \u001b[0mstep\u001b[0m \u001b[0;34m=\u001b[0m \u001b[0maction_fn\u001b[0m\u001b[0;34m(\u001b[0m\u001b[0mtime_step\u001b[0m\u001b[0;34m=\u001b[0m\u001b[0mtime_step\u001b[0m\u001b[0;34m,\u001b[0m \u001b[0mpolicy_state\u001b[0m\u001b[0;34m=\u001b[0m\u001b[0mpolicy_state\u001b[0m\u001b[0;34m,\u001b[0m \u001b[0mseed\u001b[0m\u001b[0;34m=\u001b[0m\u001b[0mseed\u001b[0m\u001b[0;34m)\u001b[0m\u001b[0;34m\u001b[0m\u001b[0;34m\u001b[0m\u001b[0m\n\u001b[0m\u001b[1;32m    334\u001b[0m \u001b[0;34m\u001b[0m\u001b[0m\n\u001b[1;32m    335\u001b[0m     \u001b[0;32mdef\u001b[0m \u001b[0mclip_action\u001b[0m\u001b[0;34m(\u001b[0m\u001b[0maction\u001b[0m\u001b[0;34m,\u001b[0m \u001b[0maction_spec\u001b[0m\u001b[0;34m)\u001b[0m\u001b[0;34m:\u001b[0m\u001b[0;34m\u001b[0m\u001b[0;34m\u001b[0m\u001b[0m\n",
            "\u001b[0;32m/usr/local/lib/python3.10/dist-packages/tf_agents/utils/common.py\u001b[0m in \u001b[0;36mwith_check_resource_vars\u001b[0;34m(*fn_args, **fn_kwargs)\u001b[0m\n\u001b[1;32m    191\u001b[0m         \u001b[0;31m# We're either in eager mode or in tf.function mode (no in-between); so\u001b[0m\u001b[0;34m\u001b[0m\u001b[0;34m\u001b[0m\u001b[0m\n\u001b[1;32m    192\u001b[0m         \u001b[0;31m# autodep-like behavior is already expected of fn.\u001b[0m\u001b[0;34m\u001b[0m\u001b[0;34m\u001b[0m\u001b[0m\n\u001b[0;32m--> 193\u001b[0;31m         \u001b[0;32mreturn\u001b[0m \u001b[0mfn\u001b[0m\u001b[0;34m(\u001b[0m\u001b[0;34m*\u001b[0m\u001b[0mfn_args\u001b[0m\u001b[0;34m,\u001b[0m \u001b[0;34m**\u001b[0m\u001b[0mfn_kwargs\u001b[0m\u001b[0;34m)\u001b[0m\u001b[0;34m\u001b[0m\u001b[0;34m\u001b[0m\u001b[0m\n\u001b[0m\u001b[1;32m    194\u001b[0m       \u001b[0;32mif\u001b[0m \u001b[0;32mnot\u001b[0m \u001b[0mresource_variables_enabled\u001b[0m\u001b[0;34m(\u001b[0m\u001b[0;34m)\u001b[0m\u001b[0;34m:\u001b[0m\u001b[0;34m\u001b[0m\u001b[0;34m\u001b[0m\u001b[0m\n\u001b[1;32m    195\u001b[0m         \u001b[0;32mraise\u001b[0m \u001b[0mRuntimeError\u001b[0m\u001b[0;34m(\u001b[0m\u001b[0mMISSING_RESOURCE_VARIABLES_ERROR\u001b[0m\u001b[0;34m)\u001b[0m\u001b[0;34m\u001b[0m\u001b[0;34m\u001b[0m\u001b[0m\n",
            "\u001b[0;32m/usr/local/lib/python3.10/dist-packages/tf_agents/policies/tf_policy.py\u001b[0m in \u001b[0;36m_action\u001b[0;34m(self, time_step, policy_state, seed)\u001b[0m\n\u001b[1;32m    587\u001b[0m     \"\"\"\n\u001b[1;32m    588\u001b[0m     \u001b[0mseed_stream\u001b[0m \u001b[0;34m=\u001b[0m \u001b[0mtfp\u001b[0m\u001b[0;34m.\u001b[0m\u001b[0mutil\u001b[0m\u001b[0;34m.\u001b[0m\u001b[0mSeedStream\u001b[0m\u001b[0;34m(\u001b[0m\u001b[0mseed\u001b[0m\u001b[0;34m=\u001b[0m\u001b[0mseed\u001b[0m\u001b[0;34m,\u001b[0m \u001b[0msalt\u001b[0m\u001b[0;34m=\u001b[0m\u001b[0;34m'tf_agents_tf_policy'\u001b[0m\u001b[0;34m)\u001b[0m\u001b[0;34m\u001b[0m\u001b[0;34m\u001b[0m\u001b[0m\n\u001b[0;32m--> 589\u001b[0;31m     \u001b[0mdistribution_step\u001b[0m \u001b[0;34m=\u001b[0m \u001b[0mself\u001b[0m\u001b[0;34m.\u001b[0m\u001b[0m_distribution\u001b[0m\u001b[0;34m(\u001b[0m\u001b[0mtime_step\u001b[0m\u001b[0;34m,\u001b[0m \u001b[0mpolicy_state\u001b[0m\u001b[0;34m)\u001b[0m  \u001b[0;31m# pytype: disable=wrong-arg-types\u001b[0m\u001b[0;34m\u001b[0m\u001b[0;34m\u001b[0m\u001b[0m\n\u001b[0m\u001b[1;32m    590\u001b[0m     actions = tf.nest.map_structure(\n\u001b[1;32m    591\u001b[0m         \u001b[0;32mlambda\u001b[0m \u001b[0md\u001b[0m\u001b[0;34m:\u001b[0m \u001b[0mreparameterized_sampling\u001b[0m\u001b[0;34m.\u001b[0m\u001b[0msample\u001b[0m\u001b[0;34m(\u001b[0m\u001b[0md\u001b[0m\u001b[0;34m,\u001b[0m \u001b[0mseed\u001b[0m\u001b[0;34m=\u001b[0m\u001b[0mseed_stream\u001b[0m\u001b[0;34m(\u001b[0m\u001b[0;34m)\u001b[0m\u001b[0;34m)\u001b[0m\u001b[0;34m,\u001b[0m\u001b[0;34m\u001b[0m\u001b[0;34m\u001b[0m\u001b[0m\n",
            "\u001b[0;32m/usr/local/lib/python3.10/dist-packages/tf_agents/policies/greedy_policy.py\u001b[0m in \u001b[0;36m_distribution\u001b[0;34m(self, time_step, policy_state)\u001b[0m\n\u001b[1;32m     84\u001b[0m     )\n\u001b[1;32m     85\u001b[0m     return policy_step.PolicyStep(\n\u001b[0;32m---> 86\u001b[0;31m         \u001b[0mtf\u001b[0m\u001b[0;34m.\u001b[0m\u001b[0mnest\u001b[0m\u001b[0;34m.\u001b[0m\u001b[0mmap_structure\u001b[0m\u001b[0;34m(\u001b[0m\u001b[0mdist_fn\u001b[0m\u001b[0;34m,\u001b[0m \u001b[0mdistribution_step\u001b[0m\u001b[0;34m.\u001b[0m\u001b[0maction\u001b[0m\u001b[0;34m)\u001b[0m\u001b[0;34m,\u001b[0m\u001b[0;34m\u001b[0m\u001b[0;34m\u001b[0m\u001b[0m\n\u001b[0m\u001b[1;32m     87\u001b[0m         \u001b[0mdistribution_step\u001b[0m\u001b[0;34m.\u001b[0m\u001b[0mstate\u001b[0m\u001b[0;34m,\u001b[0m\u001b[0;34m\u001b[0m\u001b[0;34m\u001b[0m\u001b[0m\n\u001b[1;32m     88\u001b[0m         \u001b[0mdistribution_step\u001b[0m\u001b[0;34m.\u001b[0m\u001b[0minfo\u001b[0m\u001b[0;34m,\u001b[0m\u001b[0;34m\u001b[0m\u001b[0;34m\u001b[0m\u001b[0m\n",
            "\u001b[0;32m/usr/local/lib/python3.10/dist-packages/tensorflow/python/util/nest.py\u001b[0m in \u001b[0;36mmap_structure\u001b[0;34m(func, *structure, **kwargs)\u001b[0m\n\u001b[1;32m    627\u001b[0m     \u001b[0mValueError\u001b[0m\u001b[0;34m:\u001b[0m \u001b[0mIf\u001b[0m \u001b[0mwrong\u001b[0m \u001b[0mkeyword\u001b[0m \u001b[0marguments\u001b[0m \u001b[0mare\u001b[0m \u001b[0mprovided\u001b[0m\u001b[0;34m.\u001b[0m\u001b[0;34m\u001b[0m\u001b[0;34m\u001b[0m\u001b[0m\n\u001b[1;32m    628\u001b[0m   \"\"\"\n\u001b[0;32m--> 629\u001b[0;31m   return nest_util.map_structure(\n\u001b[0m\u001b[1;32m    630\u001b[0m       \u001b[0mnest_util\u001b[0m\u001b[0;34m.\u001b[0m\u001b[0mModality\u001b[0m\u001b[0;34m.\u001b[0m\u001b[0mCORE\u001b[0m\u001b[0;34m,\u001b[0m \u001b[0mfunc\u001b[0m\u001b[0;34m,\u001b[0m \u001b[0;34m*\u001b[0m\u001b[0mstructure\u001b[0m\u001b[0;34m,\u001b[0m \u001b[0;34m**\u001b[0m\u001b[0mkwargs\u001b[0m\u001b[0;34m\u001b[0m\u001b[0;34m\u001b[0m\u001b[0m\n\u001b[1;32m    631\u001b[0m   )\n",
            "\u001b[0;32m/usr/local/lib/python3.10/dist-packages/tensorflow/python/util/nest_util.py\u001b[0m in \u001b[0;36mmap_structure\u001b[0;34m(modality, func, *structure, **kwargs)\u001b[0m\n\u001b[1;32m   1166\u001b[0m   \"\"\"\n\u001b[1;32m   1167\u001b[0m   \u001b[0;32mif\u001b[0m \u001b[0mmodality\u001b[0m \u001b[0;34m==\u001b[0m \u001b[0mModality\u001b[0m\u001b[0;34m.\u001b[0m\u001b[0mCORE\u001b[0m\u001b[0;34m:\u001b[0m\u001b[0;34m\u001b[0m\u001b[0;34m\u001b[0m\u001b[0m\n\u001b[0;32m-> 1168\u001b[0;31m     \u001b[0;32mreturn\u001b[0m \u001b[0m_tf_core_map_structure\u001b[0m\u001b[0;34m(\u001b[0m\u001b[0mfunc\u001b[0m\u001b[0;34m,\u001b[0m \u001b[0;34m*\u001b[0m\u001b[0mstructure\u001b[0m\u001b[0;34m,\u001b[0m \u001b[0;34m**\u001b[0m\u001b[0mkwargs\u001b[0m\u001b[0;34m)\u001b[0m\u001b[0;34m\u001b[0m\u001b[0;34m\u001b[0m\u001b[0m\n\u001b[0m\u001b[1;32m   1169\u001b[0m   \u001b[0;32melif\u001b[0m \u001b[0mmodality\u001b[0m \u001b[0;34m==\u001b[0m \u001b[0mModality\u001b[0m\u001b[0;34m.\u001b[0m\u001b[0mDATA\u001b[0m\u001b[0;34m:\u001b[0m\u001b[0;34m\u001b[0m\u001b[0;34m\u001b[0m\u001b[0m\n\u001b[1;32m   1170\u001b[0m     \u001b[0;32mreturn\u001b[0m \u001b[0m_tf_data_map_structure\u001b[0m\u001b[0;34m(\u001b[0m\u001b[0mfunc\u001b[0m\u001b[0;34m,\u001b[0m \u001b[0;34m*\u001b[0m\u001b[0mstructure\u001b[0m\u001b[0;34m,\u001b[0m \u001b[0;34m**\u001b[0m\u001b[0mkwargs\u001b[0m\u001b[0;34m)\u001b[0m\u001b[0;34m\u001b[0m\u001b[0;34m\u001b[0m\u001b[0m\n",
            "\u001b[0;32m/usr/local/lib/python3.10/dist-packages/tensorflow/python/util/nest_util.py\u001b[0m in \u001b[0;36m_tf_core_map_structure\u001b[0;34m(func, *structure, **kwargs)\u001b[0m\n\u001b[1;32m   1206\u001b[0m   return _tf_core_pack_sequence_as(\n\u001b[1;32m   1207\u001b[0m       \u001b[0mstructure\u001b[0m\u001b[0;34m[\u001b[0m\u001b[0;36m0\u001b[0m\u001b[0;34m]\u001b[0m\u001b[0;34m,\u001b[0m\u001b[0;34m\u001b[0m\u001b[0;34m\u001b[0m\u001b[0m\n\u001b[0;32m-> 1208\u001b[0;31m       \u001b[0;34m[\u001b[0m\u001b[0mfunc\u001b[0m\u001b[0;34m(\u001b[0m\u001b[0;34m*\u001b[0m\u001b[0mx\u001b[0m\u001b[0;34m)\u001b[0m \u001b[0;32mfor\u001b[0m \u001b[0mx\u001b[0m \u001b[0;32min\u001b[0m \u001b[0mentries\u001b[0m\u001b[0;34m]\u001b[0m\u001b[0;34m,\u001b[0m\u001b[0;34m\u001b[0m\u001b[0;34m\u001b[0m\u001b[0m\n\u001b[0m\u001b[1;32m   1209\u001b[0m       \u001b[0mexpand_composites\u001b[0m\u001b[0;34m=\u001b[0m\u001b[0mexpand_composites\u001b[0m\u001b[0;34m,\u001b[0m\u001b[0;34m\u001b[0m\u001b[0;34m\u001b[0m\u001b[0m\n\u001b[1;32m   1210\u001b[0m   )\n",
            "\u001b[0;32m/usr/local/lib/python3.10/dist-packages/tensorflow/python/util/nest_util.py\u001b[0m in \u001b[0;36m<listcomp>\u001b[0;34m(.0)\u001b[0m\n\u001b[1;32m   1206\u001b[0m   return _tf_core_pack_sequence_as(\n\u001b[1;32m   1207\u001b[0m       \u001b[0mstructure\u001b[0m\u001b[0;34m[\u001b[0m\u001b[0;36m0\u001b[0m\u001b[0;34m]\u001b[0m\u001b[0;34m,\u001b[0m\u001b[0;34m\u001b[0m\u001b[0;34m\u001b[0m\u001b[0m\n\u001b[0;32m-> 1208\u001b[0;31m       \u001b[0;34m[\u001b[0m\u001b[0mfunc\u001b[0m\u001b[0;34m(\u001b[0m\u001b[0;34m*\u001b[0m\u001b[0mx\u001b[0m\u001b[0;34m)\u001b[0m \u001b[0;32mfor\u001b[0m \u001b[0mx\u001b[0m \u001b[0;32min\u001b[0m \u001b[0mentries\u001b[0m\u001b[0;34m]\u001b[0m\u001b[0;34m,\u001b[0m\u001b[0;34m\u001b[0m\u001b[0;34m\u001b[0m\u001b[0m\n\u001b[0m\u001b[1;32m   1209\u001b[0m       \u001b[0mexpand_composites\u001b[0m\u001b[0;34m=\u001b[0m\u001b[0mexpand_composites\u001b[0m\u001b[0;34m,\u001b[0m\u001b[0;34m\u001b[0m\u001b[0;34m\u001b[0m\u001b[0m\n\u001b[1;32m   1210\u001b[0m   )\n",
            "\u001b[0;32m/usr/local/lib/python3.10/dist-packages/tf_agents/policies/greedy_policy.py\u001b[0m in \u001b[0;36mdist_fn\u001b[0;34m(dist)\u001b[0m\n\u001b[1;32m     71\u001b[0m     \u001b[0;32mdef\u001b[0m \u001b[0mdist_fn\u001b[0m\u001b[0;34m(\u001b[0m\u001b[0mdist\u001b[0m\u001b[0;34m)\u001b[0m\u001b[0;34m:\u001b[0m\u001b[0;34m\u001b[0m\u001b[0;34m\u001b[0m\u001b[0m\n\u001b[1;32m     72\u001b[0m       \u001b[0;32mtry\u001b[0m\u001b[0;34m:\u001b[0m\u001b[0;34m\u001b[0m\u001b[0;34m\u001b[0m\u001b[0m\n\u001b[0;32m---> 73\u001b[0;31m         \u001b[0mgreedy_action\u001b[0m \u001b[0;34m=\u001b[0m \u001b[0mdist\u001b[0m\u001b[0;34m.\u001b[0m\u001b[0mmode\u001b[0m\u001b[0;34m(\u001b[0m\u001b[0;34m)\u001b[0m\u001b[0;34m\u001b[0m\u001b[0;34m\u001b[0m\u001b[0m\n\u001b[0m\u001b[1;32m     74\u001b[0m       \u001b[0;32mexcept\u001b[0m \u001b[0mNotImplementedError\u001b[0m\u001b[0;34m:\u001b[0m\u001b[0;34m\u001b[0m\u001b[0;34m\u001b[0m\u001b[0m\n\u001b[1;32m     75\u001b[0m         raise ValueError(\n",
            "\u001b[0;32m/usr/local/lib/python3.10/dist-packages/tensorflow_probability/python/distributions/distribution.py\u001b[0m in \u001b[0;36mmode\u001b[0;34m(self, name, **kwargs)\u001b[0m\n\u001b[1;32m   1693\u001b[0m     \u001b[0;34m\"\"\"Mode.\"\"\"\u001b[0m\u001b[0;34m\u001b[0m\u001b[0;34m\u001b[0m\u001b[0m\n\u001b[1;32m   1694\u001b[0m     \u001b[0;32mwith\u001b[0m \u001b[0mself\u001b[0m\u001b[0;34m.\u001b[0m\u001b[0m_name_and_control_scope\u001b[0m\u001b[0;34m(\u001b[0m\u001b[0mname\u001b[0m\u001b[0;34m)\u001b[0m\u001b[0;34m:\u001b[0m\u001b[0;34m\u001b[0m\u001b[0;34m\u001b[0m\u001b[0m\n\u001b[0;32m-> 1695\u001b[0;31m       \u001b[0;32mreturn\u001b[0m \u001b[0mself\u001b[0m\u001b[0;34m.\u001b[0m\u001b[0m_mode\u001b[0m\u001b[0;34m(\u001b[0m\u001b[0;34m**\u001b[0m\u001b[0mkwargs\u001b[0m\u001b[0;34m)\u001b[0m\u001b[0;34m\u001b[0m\u001b[0;34m\u001b[0m\u001b[0m\n\u001b[0m\u001b[1;32m   1696\u001b[0m \u001b[0;34m\u001b[0m\u001b[0m\n\u001b[1;32m   1697\u001b[0m   \u001b[0;32mdef\u001b[0m \u001b[0m_cross_entropy\u001b[0m\u001b[0;34m(\u001b[0m\u001b[0mself\u001b[0m\u001b[0;34m,\u001b[0m \u001b[0mother\u001b[0m\u001b[0;34m)\u001b[0m\u001b[0;34m:\u001b[0m\u001b[0;34m\u001b[0m\u001b[0;34m\u001b[0m\u001b[0m\n",
            "\u001b[0;32m/usr/local/lib/python3.10/dist-packages/tensorflow_probability/python/distributions/categorical.py\u001b[0m in \u001b[0;36m_mode\u001b[0;34m(self)\u001b[0m\n\u001b[1;32m    336\u001b[0m   \u001b[0;32mdef\u001b[0m \u001b[0m_mode\u001b[0m\u001b[0;34m(\u001b[0m\u001b[0mself\u001b[0m\u001b[0;34m)\u001b[0m\u001b[0;34m:\u001b[0m\u001b[0;34m\u001b[0m\u001b[0;34m\u001b[0m\u001b[0m\n\u001b[1;32m    337\u001b[0m     \u001b[0mx\u001b[0m \u001b[0;34m=\u001b[0m \u001b[0mself\u001b[0m\u001b[0;34m.\u001b[0m\u001b[0m_probs\u001b[0m \u001b[0;32mif\u001b[0m \u001b[0mself\u001b[0m\u001b[0;34m.\u001b[0m\u001b[0m_logits\u001b[0m \u001b[0;32mis\u001b[0m \u001b[0;32mNone\u001b[0m \u001b[0;32melse\u001b[0m \u001b[0mself\u001b[0m\u001b[0;34m.\u001b[0m\u001b[0m_logits\u001b[0m\u001b[0;34m\u001b[0m\u001b[0;34m\u001b[0m\u001b[0m\n\u001b[0;32m--> 338\u001b[0;31m     \u001b[0mmode\u001b[0m \u001b[0;34m=\u001b[0m \u001b[0mtf\u001b[0m\u001b[0;34m.\u001b[0m\u001b[0mcast\u001b[0m\u001b[0;34m(\u001b[0m\u001b[0mtf\u001b[0m\u001b[0;34m.\u001b[0m\u001b[0margmax\u001b[0m\u001b[0;34m(\u001b[0m\u001b[0mx\u001b[0m\u001b[0;34m,\u001b[0m \u001b[0maxis\u001b[0m\u001b[0;34m=\u001b[0m\u001b[0;34m-\u001b[0m\u001b[0;36m1\u001b[0m\u001b[0;34m)\u001b[0m\u001b[0;34m,\u001b[0m \u001b[0mself\u001b[0m\u001b[0;34m.\u001b[0m\u001b[0mdtype\u001b[0m\u001b[0;34m)\u001b[0m\u001b[0;34m\u001b[0m\u001b[0;34m\u001b[0m\u001b[0m\n\u001b[0m\u001b[1;32m    339\u001b[0m     \u001b[0mtensorshape_util\u001b[0m\u001b[0;34m.\u001b[0m\u001b[0mset_shape\u001b[0m\u001b[0;34m(\u001b[0m\u001b[0mmode\u001b[0m\u001b[0;34m,\u001b[0m \u001b[0mx\u001b[0m\u001b[0;34m.\u001b[0m\u001b[0mshape\u001b[0m\u001b[0;34m[\u001b[0m\u001b[0;34m:\u001b[0m\u001b[0;34m-\u001b[0m\u001b[0;36m1\u001b[0m\u001b[0;34m]\u001b[0m\u001b[0;34m)\u001b[0m\u001b[0;34m\u001b[0m\u001b[0;34m\u001b[0m\u001b[0m\n\u001b[1;32m    340\u001b[0m     \u001b[0;32mreturn\u001b[0m \u001b[0mmode\u001b[0m\u001b[0;34m\u001b[0m\u001b[0;34m\u001b[0m\u001b[0m\n",
            "\u001b[0;32m/usr/local/lib/python3.10/dist-packages/tensorflow/python/util/traceback_utils.py\u001b[0m in \u001b[0;36merror_handler\u001b[0;34m(*args, **kwargs)\u001b[0m\n\u001b[1;32m    148\u001b[0m     \u001b[0mfiltered_tb\u001b[0m \u001b[0;34m=\u001b[0m \u001b[0;32mNone\u001b[0m\u001b[0;34m\u001b[0m\u001b[0;34m\u001b[0m\u001b[0m\n\u001b[1;32m    149\u001b[0m     \u001b[0;32mtry\u001b[0m\u001b[0;34m:\u001b[0m\u001b[0;34m\u001b[0m\u001b[0;34m\u001b[0m\u001b[0m\n\u001b[0;32m--> 150\u001b[0;31m       \u001b[0;32mreturn\u001b[0m \u001b[0mfn\u001b[0m\u001b[0;34m(\u001b[0m\u001b[0;34m*\u001b[0m\u001b[0margs\u001b[0m\u001b[0;34m,\u001b[0m \u001b[0;34m**\u001b[0m\u001b[0mkwargs\u001b[0m\u001b[0;34m)\u001b[0m\u001b[0;34m\u001b[0m\u001b[0;34m\u001b[0m\u001b[0m\n\u001b[0m\u001b[1;32m    151\u001b[0m     \u001b[0;32mexcept\u001b[0m \u001b[0mException\u001b[0m \u001b[0;32mas\u001b[0m \u001b[0me\u001b[0m\u001b[0;34m:\u001b[0m\u001b[0;34m\u001b[0m\u001b[0;34m\u001b[0m\u001b[0m\n\u001b[1;32m    152\u001b[0m       \u001b[0mfiltered_tb\u001b[0m \u001b[0;34m=\u001b[0m \u001b[0m_process_traceback_frames\u001b[0m\u001b[0;34m(\u001b[0m\u001b[0me\u001b[0m\u001b[0;34m.\u001b[0m\u001b[0m__traceback__\u001b[0m\u001b[0;34m)\u001b[0m\u001b[0;34m\u001b[0m\u001b[0;34m\u001b[0m\u001b[0m\n",
            "\u001b[0;32m/usr/local/lib/python3.10/dist-packages/tensorflow/python/util/dispatch.py\u001b[0m in \u001b[0;36mop_dispatch_handler\u001b[0;34m(*args, **kwargs)\u001b[0m\n\u001b[1;32m   1258\u001b[0m       \u001b[0;31m# Fallback dispatch system (dispatch v1):\u001b[0m\u001b[0;34m\u001b[0m\u001b[0;34m\u001b[0m\u001b[0m\n\u001b[1;32m   1259\u001b[0m       \u001b[0;32mtry\u001b[0m\u001b[0;34m:\u001b[0m\u001b[0;34m\u001b[0m\u001b[0;34m\u001b[0m\u001b[0m\n\u001b[0;32m-> 1260\u001b[0;31m         \u001b[0;32mreturn\u001b[0m \u001b[0mdispatch_target\u001b[0m\u001b[0;34m(\u001b[0m\u001b[0;34m*\u001b[0m\u001b[0margs\u001b[0m\u001b[0;34m,\u001b[0m \u001b[0;34m**\u001b[0m\u001b[0mkwargs\u001b[0m\u001b[0;34m)\u001b[0m\u001b[0;34m\u001b[0m\u001b[0;34m\u001b[0m\u001b[0m\n\u001b[0m\u001b[1;32m   1261\u001b[0m       \u001b[0;32mexcept\u001b[0m \u001b[0;34m(\u001b[0m\u001b[0mTypeError\u001b[0m\u001b[0;34m,\u001b[0m \u001b[0mValueError\u001b[0m\u001b[0;34m)\u001b[0m\u001b[0;34m:\u001b[0m\u001b[0;34m\u001b[0m\u001b[0;34m\u001b[0m\u001b[0m\n\u001b[1;32m   1262\u001b[0m         \u001b[0;31m# Note: convert_to_eager_tensor currently raises a ValueError, not a\u001b[0m\u001b[0;34m\u001b[0m\u001b[0;34m\u001b[0m\u001b[0m\n",
            "\u001b[0;32m/usr/local/lib/python3.10/dist-packages/tensorflow/python/ops/math_ops.py\u001b[0m in \u001b[0;36margmax_v2\u001b[0;34m(input, axis, output_type, name)\u001b[0m\n\u001b[1;32m    299\u001b[0m   \u001b[0;32mif\u001b[0m \u001b[0maxis\u001b[0m \u001b[0;32mis\u001b[0m \u001b[0;32mNone\u001b[0m\u001b[0;34m:\u001b[0m\u001b[0;34m\u001b[0m\u001b[0;34m\u001b[0m\u001b[0m\n\u001b[1;32m    300\u001b[0m     \u001b[0maxis\u001b[0m \u001b[0;34m=\u001b[0m \u001b[0;36m0\u001b[0m\u001b[0;34m\u001b[0m\u001b[0;34m\u001b[0m\u001b[0m\n\u001b[0;32m--> 301\u001b[0;31m   \u001b[0;32mreturn\u001b[0m \u001b[0mgen_math_ops\u001b[0m\u001b[0;34m.\u001b[0m\u001b[0marg_max\u001b[0m\u001b[0;34m(\u001b[0m\u001b[0minput\u001b[0m\u001b[0;34m,\u001b[0m \u001b[0maxis\u001b[0m\u001b[0;34m,\u001b[0m \u001b[0mname\u001b[0m\u001b[0;34m=\u001b[0m\u001b[0mname\u001b[0m\u001b[0;34m,\u001b[0m \u001b[0moutput_type\u001b[0m\u001b[0;34m=\u001b[0m\u001b[0moutput_type\u001b[0m\u001b[0;34m)\u001b[0m\u001b[0;34m\u001b[0m\u001b[0;34m\u001b[0m\u001b[0m\n\u001b[0m\u001b[1;32m    302\u001b[0m \u001b[0;34m\u001b[0m\u001b[0m\n\u001b[1;32m    303\u001b[0m \u001b[0;34m\u001b[0m\u001b[0m\n",
            "\u001b[0;32m/usr/local/lib/python3.10/dist-packages/tensorflow/python/ops/gen_math_ops.py\u001b[0m in \u001b[0;36marg_max\u001b[0;34m(input, dimension, output_type, name)\u001b[0m\n\u001b[1;32m    849\u001b[0m   \u001b[0;32mif\u001b[0m \u001b[0mtld\u001b[0m\u001b[0;34m.\u001b[0m\u001b[0mis_eager\u001b[0m\u001b[0;34m:\u001b[0m\u001b[0;34m\u001b[0m\u001b[0;34m\u001b[0m\u001b[0m\n\u001b[1;32m    850\u001b[0m     \u001b[0;32mtry\u001b[0m\u001b[0;34m:\u001b[0m\u001b[0;34m\u001b[0m\u001b[0;34m\u001b[0m\u001b[0m\n\u001b[0;32m--> 851\u001b[0;31m       _result = pywrap_tfe.TFE_Py_FastPathExecute(\n\u001b[0m\u001b[1;32m    852\u001b[0m         _ctx, \"ArgMax\", name, input, dimension, \"output_type\", output_type)\n\u001b[1;32m    853\u001b[0m       \u001b[0;32mreturn\u001b[0m \u001b[0m_result\u001b[0m\u001b[0;34m\u001b[0m\u001b[0;34m\u001b[0m\u001b[0m\n",
            "\u001b[0;31mKeyboardInterrupt\u001b[0m: "
          ]
        }
      ],
      "source": [
        "create_policy_eval_video(eval_env, agent.policy, \"trained-agent\", num_episodes=1)"
      ]
    },
    {
      "cell_type": "code",
      "execution_count": 85,
      "metadata": {
        "id": "zs3yfxi0yPiw"
      },
      "outputs": [],
      "source": [
        "compute_avg_return(eval_env, random_policy, num_episodes=1)\n",
        "\n",
        "x_left = eval_env.pyenv.envs[0].env._init_step\n",
        "x_right = eval_env.pyenv.envs[0].env._current_step     # _maxsteps+1\n",
        "df_price = eval_env.pyenv.envs[0].env._df_exch[x_left:x_right].copy()\n",
        "df_spontaneous = eval_env.pyenv.envs[0].env._df_positions['NAV'][x_left:x_right].copy()"
      ]
    },
    {
      "cell_type": "code",
      "execution_count": 86,
      "metadata": {
        "colab": {
          "base_uri": "https://localhost:8080/"
        },
        "id": "CvIcIpn-0W2g",
        "outputId": "2847ca5d-d964-43af-c369-9791f0eaa130"
      },
      "outputs": [
        {
          "output_type": "stream",
          "name": "stdout",
          "text": [
            "(148808.81, 0, 2000)\n"
          ]
        }
      ],
      "source": [
        "print(compute_avg_return(eval_env, saved_policy, num_episodes=1))\n",
        "df_reinforcement = eval_env.pyenv.envs[0].env._df_positions['NAV'][x_left:x_right].copy()"
      ]
    },
    {
      "cell_type": "code",
      "execution_count": 87,
      "metadata": {
        "colab": {
          "base_uri": "https://localhost:8080/",
          "height": 585
        },
        "id": "NnCLsyFR4YZy",
        "outputId": "cbb15a9c-632e-4a2a-abee-f45024c8bf46"
      },
      "outputs": [
        {
          "output_type": "stream",
          "name": "stderr",
          "text": [
            "/usr/local/lib/python3.10/dist-packages/pyfolio/timeseries.py:724: FutureWarning: The default dtype for empty Series will be 'object' instead of 'float64' in a future version. Specify a dtype explicitly to silence this warning.\n",
            "  stats = pd.Series()\n",
            "/usr/local/lib/python3.10/dist-packages/pyfolio/timeseries.py:724: FutureWarning: The default dtype for empty Series will be 'object' instead of 'float64' in a future version. Specify a dtype explicitly to silence this warning.\n",
            "  stats = pd.Series()\n",
            "/usr/local/lib/python3.10/dist-packages/pyfolio/timeseries.py:724: FutureWarning: The default dtype for empty Series will be 'object' instead of 'float64' in a future version. Specify a dtype explicitly to silence this warning.\n",
            "  stats = pd.Series()\n"
          ]
        },
        {
          "output_type": "execute_result",
          "data": {
            "text/plain": [
              "                       random  tf-agent  benchmark\n",
              "Annual return        0.007252  0.121686   0.121725\n",
              "Cumulative returns   0.058992  1.486599   1.487294\n",
              "Annual volatility    0.095888  0.128960   0.128985\n",
              "Sharpe ratio         0.123372  0.955222   0.955339\n",
              "Calmar ratio         0.033012  0.603126   0.603244\n",
              "Stability            0.152883  0.950936   0.950932\n",
              "Max drawdown        -0.219672 -0.201759  -0.201785\n",
              "Omega ratio          1.030810  1.185775   1.185798\n",
              "Sortino ratio        0.168937  1.345137   1.345309\n",
              "Skew                -0.454246 -0.401827  -0.401799\n",
              "Kurtosis             9.061940  3.279256   3.278997\n",
              "Tail ratio           0.999050  0.952314   0.952313\n",
              "Daily value at risk -0.012034 -0.015759  -0.015762"
            ],
            "text/html": [
              "\n",
              "  <div id=\"df-f47c9ba9-0b4c-4a14-84d6-512e96ee2d13\" class=\"colab-df-container\">\n",
              "    <div>\n",
              "<style scoped>\n",
              "    .dataframe tbody tr th:only-of-type {\n",
              "        vertical-align: middle;\n",
              "    }\n",
              "\n",
              "    .dataframe tbody tr th {\n",
              "        vertical-align: top;\n",
              "    }\n",
              "\n",
              "    .dataframe thead th {\n",
              "        text-align: right;\n",
              "    }\n",
              "</style>\n",
              "<table border=\"1\" class=\"dataframe\">\n",
              "  <thead>\n",
              "    <tr style=\"text-align: right;\">\n",
              "      <th></th>\n",
              "      <th>random</th>\n",
              "      <th>tf-agent</th>\n",
              "      <th>benchmark</th>\n",
              "    </tr>\n",
              "  </thead>\n",
              "  <tbody>\n",
              "    <tr>\n",
              "      <th>Annual return</th>\n",
              "      <td>0.007252</td>\n",
              "      <td>0.121686</td>\n",
              "      <td>0.121725</td>\n",
              "    </tr>\n",
              "    <tr>\n",
              "      <th>Cumulative returns</th>\n",
              "      <td>0.058992</td>\n",
              "      <td>1.486599</td>\n",
              "      <td>1.487294</td>\n",
              "    </tr>\n",
              "    <tr>\n",
              "      <th>Annual volatility</th>\n",
              "      <td>0.095888</td>\n",
              "      <td>0.128960</td>\n",
              "      <td>0.128985</td>\n",
              "    </tr>\n",
              "    <tr>\n",
              "      <th>Sharpe ratio</th>\n",
              "      <td>0.123372</td>\n",
              "      <td>0.955222</td>\n",
              "      <td>0.955339</td>\n",
              "    </tr>\n",
              "    <tr>\n",
              "      <th>Calmar ratio</th>\n",
              "      <td>0.033012</td>\n",
              "      <td>0.603126</td>\n",
              "      <td>0.603244</td>\n",
              "    </tr>\n",
              "    <tr>\n",
              "      <th>Stability</th>\n",
              "      <td>0.152883</td>\n",
              "      <td>0.950936</td>\n",
              "      <td>0.950932</td>\n",
              "    </tr>\n",
              "    <tr>\n",
              "      <th>Max drawdown</th>\n",
              "      <td>-0.219672</td>\n",
              "      <td>-0.201759</td>\n",
              "      <td>-0.201785</td>\n",
              "    </tr>\n",
              "    <tr>\n",
              "      <th>Omega ratio</th>\n",
              "      <td>1.030810</td>\n",
              "      <td>1.185775</td>\n",
              "      <td>1.185798</td>\n",
              "    </tr>\n",
              "    <tr>\n",
              "      <th>Sortino ratio</th>\n",
              "      <td>0.168937</td>\n",
              "      <td>1.345137</td>\n",
              "      <td>1.345309</td>\n",
              "    </tr>\n",
              "    <tr>\n",
              "      <th>Skew</th>\n",
              "      <td>-0.454246</td>\n",
              "      <td>-0.401827</td>\n",
              "      <td>-0.401799</td>\n",
              "    </tr>\n",
              "    <tr>\n",
              "      <th>Kurtosis</th>\n",
              "      <td>9.061940</td>\n",
              "      <td>3.279256</td>\n",
              "      <td>3.278997</td>\n",
              "    </tr>\n",
              "    <tr>\n",
              "      <th>Tail ratio</th>\n",
              "      <td>0.999050</td>\n",
              "      <td>0.952314</td>\n",
              "      <td>0.952313</td>\n",
              "    </tr>\n",
              "    <tr>\n",
              "      <th>Daily value at risk</th>\n",
              "      <td>-0.012034</td>\n",
              "      <td>-0.015759</td>\n",
              "      <td>-0.015762</td>\n",
              "    </tr>\n",
              "  </tbody>\n",
              "</table>\n",
              "</div>\n",
              "    <div class=\"colab-df-buttons\">\n",
              "\n",
              "  <div class=\"colab-df-container\">\n",
              "    <button class=\"colab-df-convert\" onclick=\"convertToInteractive('df-f47c9ba9-0b4c-4a14-84d6-512e96ee2d13')\"\n",
              "            title=\"Convert this dataframe to an interactive table.\"\n",
              "            style=\"display:none;\">\n",
              "\n",
              "  <svg xmlns=\"http://www.w3.org/2000/svg\" height=\"24px\" viewBox=\"0 -960 960 960\">\n",
              "    <path d=\"M120-120v-720h720v720H120Zm60-500h600v-160H180v160Zm220 220h160v-160H400v160Zm0 220h160v-160H400v160ZM180-400h160v-160H180v160Zm440 0h160v-160H620v160ZM180-180h160v-160H180v160Zm440 0h160v-160H620v160Z\"/>\n",
              "  </svg>\n",
              "    </button>\n",
              "\n",
              "  <style>\n",
              "    .colab-df-container {\n",
              "      display:flex;\n",
              "      gap: 12px;\n",
              "    }\n",
              "\n",
              "    .colab-df-convert {\n",
              "      background-color: #E8F0FE;\n",
              "      border: none;\n",
              "      border-radius: 50%;\n",
              "      cursor: pointer;\n",
              "      display: none;\n",
              "      fill: #1967D2;\n",
              "      height: 32px;\n",
              "      padding: 0 0 0 0;\n",
              "      width: 32px;\n",
              "    }\n",
              "\n",
              "    .colab-df-convert:hover {\n",
              "      background-color: #E2EBFA;\n",
              "      box-shadow: 0px 1px 2px rgba(60, 64, 67, 0.3), 0px 1px 3px 1px rgba(60, 64, 67, 0.15);\n",
              "      fill: #174EA6;\n",
              "    }\n",
              "\n",
              "    .colab-df-buttons div {\n",
              "      margin-bottom: 4px;\n",
              "    }\n",
              "\n",
              "    [theme=dark] .colab-df-convert {\n",
              "      background-color: #3B4455;\n",
              "      fill: #D2E3FC;\n",
              "    }\n",
              "\n",
              "    [theme=dark] .colab-df-convert:hover {\n",
              "      background-color: #434B5C;\n",
              "      box-shadow: 0px 1px 3px 1px rgba(0, 0, 0, 0.15);\n",
              "      filter: drop-shadow(0px 1px 2px rgba(0, 0, 0, 0.3));\n",
              "      fill: #FFFFFF;\n",
              "    }\n",
              "  </style>\n",
              "\n",
              "    <script>\n",
              "      const buttonEl =\n",
              "        document.querySelector('#df-f47c9ba9-0b4c-4a14-84d6-512e96ee2d13 button.colab-df-convert');\n",
              "      buttonEl.style.display =\n",
              "        google.colab.kernel.accessAllowed ? 'block' : 'none';\n",
              "\n",
              "      async function convertToInteractive(key) {\n",
              "        const element = document.querySelector('#df-f47c9ba9-0b4c-4a14-84d6-512e96ee2d13');\n",
              "        const dataTable =\n",
              "          await google.colab.kernel.invokeFunction('convertToInteractive',\n",
              "                                                    [key], {});\n",
              "        if (!dataTable) return;\n",
              "\n",
              "        const docLinkHtml = 'Like what you see? Visit the ' +\n",
              "          '<a target=\"_blank\" href=https://colab.research.google.com/notebooks/data_table.ipynb>data table notebook</a>'\n",
              "          + ' to learn more about interactive tables.';\n",
              "        element.innerHTML = '';\n",
              "        dataTable['output_type'] = 'display_data';\n",
              "        await google.colab.output.renderOutput(dataTable, element);\n",
              "        const docLink = document.createElement('div');\n",
              "        docLink.innerHTML = docLinkHtml;\n",
              "        element.appendChild(docLink);\n",
              "      }\n",
              "    </script>\n",
              "  </div>\n",
              "\n",
              "\n",
              "<div id=\"df-25bcdcd7-fa7a-4195-a744-57b3b01a51cf\">\n",
              "  <button class=\"colab-df-quickchart\" onclick=\"quickchart('df-25bcdcd7-fa7a-4195-a744-57b3b01a51cf')\"\n",
              "            title=\"Suggest charts.\"\n",
              "            style=\"display:none;\">\n",
              "\n",
              "<svg xmlns=\"http://www.w3.org/2000/svg\" height=\"24px\"viewBox=\"0 0 24 24\"\n",
              "     width=\"24px\">\n",
              "    <g>\n",
              "        <path d=\"M19 3H5c-1.1 0-2 .9-2 2v14c0 1.1.9 2 2 2h14c1.1 0 2-.9 2-2V5c0-1.1-.9-2-2-2zM9 17H7v-7h2v7zm4 0h-2V7h2v10zm4 0h-2v-4h2v4z\"/>\n",
              "    </g>\n",
              "</svg>\n",
              "  </button>\n",
              "\n",
              "<style>\n",
              "  .colab-df-quickchart {\n",
              "      --bg-color: #E8F0FE;\n",
              "      --fill-color: #1967D2;\n",
              "      --hover-bg-color: #E2EBFA;\n",
              "      --hover-fill-color: #174EA6;\n",
              "      --disabled-fill-color: #AAA;\n",
              "      --disabled-bg-color: #DDD;\n",
              "  }\n",
              "\n",
              "  [theme=dark] .colab-df-quickchart {\n",
              "      --bg-color: #3B4455;\n",
              "      --fill-color: #D2E3FC;\n",
              "      --hover-bg-color: #434B5C;\n",
              "      --hover-fill-color: #FFFFFF;\n",
              "      --disabled-bg-color: #3B4455;\n",
              "      --disabled-fill-color: #666;\n",
              "  }\n",
              "\n",
              "  .colab-df-quickchart {\n",
              "    background-color: var(--bg-color);\n",
              "    border: none;\n",
              "    border-radius: 50%;\n",
              "    cursor: pointer;\n",
              "    display: none;\n",
              "    fill: var(--fill-color);\n",
              "    height: 32px;\n",
              "    padding: 0;\n",
              "    width: 32px;\n",
              "  }\n",
              "\n",
              "  .colab-df-quickchart:hover {\n",
              "    background-color: var(--hover-bg-color);\n",
              "    box-shadow: 0 1px 2px rgba(60, 64, 67, 0.3), 0 1px 3px 1px rgba(60, 64, 67, 0.15);\n",
              "    fill: var(--button-hover-fill-color);\n",
              "  }\n",
              "\n",
              "  .colab-df-quickchart-complete:disabled,\n",
              "  .colab-df-quickchart-complete:disabled:hover {\n",
              "    background-color: var(--disabled-bg-color);\n",
              "    fill: var(--disabled-fill-color);\n",
              "    box-shadow: none;\n",
              "  }\n",
              "\n",
              "  .colab-df-spinner {\n",
              "    border: 2px solid var(--fill-color);\n",
              "    border-color: transparent;\n",
              "    border-bottom-color: var(--fill-color);\n",
              "    animation:\n",
              "      spin 1s steps(1) infinite;\n",
              "  }\n",
              "\n",
              "  @keyframes spin {\n",
              "    0% {\n",
              "      border-color: transparent;\n",
              "      border-bottom-color: var(--fill-color);\n",
              "      border-left-color: var(--fill-color);\n",
              "    }\n",
              "    20% {\n",
              "      border-color: transparent;\n",
              "      border-left-color: var(--fill-color);\n",
              "      border-top-color: var(--fill-color);\n",
              "    }\n",
              "    30% {\n",
              "      border-color: transparent;\n",
              "      border-left-color: var(--fill-color);\n",
              "      border-top-color: var(--fill-color);\n",
              "      border-right-color: var(--fill-color);\n",
              "    }\n",
              "    40% {\n",
              "      border-color: transparent;\n",
              "      border-right-color: var(--fill-color);\n",
              "      border-top-color: var(--fill-color);\n",
              "    }\n",
              "    60% {\n",
              "      border-color: transparent;\n",
              "      border-right-color: var(--fill-color);\n",
              "    }\n",
              "    80% {\n",
              "      border-color: transparent;\n",
              "      border-right-color: var(--fill-color);\n",
              "      border-bottom-color: var(--fill-color);\n",
              "    }\n",
              "    90% {\n",
              "      border-color: transparent;\n",
              "      border-bottom-color: var(--fill-color);\n",
              "    }\n",
              "  }\n",
              "</style>\n",
              "\n",
              "  <script>\n",
              "    async function quickchart(key) {\n",
              "      const quickchartButtonEl =\n",
              "        document.querySelector('#' + key + ' button');\n",
              "      quickchartButtonEl.disabled = true;  // To prevent multiple clicks.\n",
              "      quickchartButtonEl.classList.add('colab-df-spinner');\n",
              "      try {\n",
              "        const charts = await google.colab.kernel.invokeFunction(\n",
              "            'suggestCharts', [key], {});\n",
              "      } catch (error) {\n",
              "        console.error('Error during call to suggestCharts:', error);\n",
              "      }\n",
              "      quickchartButtonEl.classList.remove('colab-df-spinner');\n",
              "      quickchartButtonEl.classList.add('colab-df-quickchart-complete');\n",
              "    }\n",
              "    (() => {\n",
              "      let quickchartButtonEl =\n",
              "        document.querySelector('#df-25bcdcd7-fa7a-4195-a744-57b3b01a51cf button');\n",
              "      quickchartButtonEl.style.display =\n",
              "        google.colab.kernel.accessAllowed ? 'block' : 'none';\n",
              "    })();\n",
              "  </script>\n",
              "</div>\n",
              "    </div>\n",
              "  </div>\n"
            ]
          },
          "metadata": {},
          "execution_count": 87
        }
      ],
      "source": [
        "df_all = pd.concat([df_spontaneous, df_reinforcement, df_price], axis=1)\n",
        "df_all.columns = ['spontaneous', 'tf-agent', 'benchmark']\n",
        "df_ret = df_all / df_all.shift(1) - 1\n",
        "df_ret = df_ret[1:]\n",
        "random_perf_stats = pf.timeseries.perf_stats(df_ret['spontaneous'])\n",
        "agent_perf_stats = pf.timeseries.perf_stats(df_ret['tf-agent'])\n",
        "benchmark_perf_stats = pf.timeseries.perf_stats(df_ret['benchmark'])\n",
        "perf_stats = pd.concat([random_perf_stats, agent_perf_stats, benchmark_perf_stats], axis=1)\n",
        "perf_stats.columns = ['random', 'tf-agent', 'benchmark']\n",
        "perf_stats"
      ]
    },
    {
      "cell_type": "markdown",
      "metadata": {
        "id": "rsrkl5ico38s"
      },
      "source": [
        "The reinforcement trader outperforms random spontaneous trader. She delivers slightly less annual return than buy-and-hold (11.6% vs 12.17%), but with better risk-adjusted measures (Sharpe 1.028 vs 0.955)."
      ]
    },
    {
      "cell_type": "code",
      "execution_count": null,
      "metadata": {
        "id": "roITJDZTphon"
      },
      "outputs": [],
      "source": []
    }
  ],
  "metadata": {
    "colab": {
      "provenance": [],
      "toc_visible": true
    },
    "kernelspec": {
      "display_name": "Python 3",
      "name": "python3"
    },
    "language_info": {
      "codemirror_mode": {
        "name": "ipython",
        "version": 3
      },
      "file_extension": ".py",
      "mimetype": "text/x-python",
      "name": "python",
      "nbconvert_exporter": "python",
      "pygments_lexer": "ipython3",
      "version": "3.10.12"
    }
  },
  "nbformat": 4,
  "nbformat_minor": 0
}